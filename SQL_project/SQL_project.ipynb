{
 "cells": [
  {
   "cell_type": "markdown",
   "id": "8afd3695",
   "metadata": {},
   "source": [
    "# Анализ базы данных сервиса для чтения книг"
   ]
  },
  {
   "cell_type": "markdown",
   "id": "ffa710f4",
   "metadata": {},
   "source": [
    "## Цели и ход исследования"
   ]
  },
  {
   "cell_type": "markdown",
   "id": "20a30ddd",
   "metadata": {},
   "source": [
    "Из открытых источников в нашем распоряжении находится база данных крупного сервиса для чтения книг по подписке, содержащая информацию о книгах, издательствах, авторах, а также пользовательские обзоры книг. С целью формулировки ценностного предложения для нового продукта необходимо проанализировать базу данных и сформировать выводы. \n",
    "\n",
    "**Цели исследования:**\n",
    "1. Исследовать таблицы базы данных;\n",
    "2. Проанализировать базу данных, выполнив SQL-запросы в соответствии с заданиями;\n",
    "3. Описать результаты выполнения запросов;\n",
    "4. Сформировать общие выводы."
   ]
  },
  {
   "cell_type": "markdown",
   "id": "b6c8a832",
   "metadata": {},
   "source": [
    "## Ознакомление с базой данных"
   ]
  },
  {
   "cell_type": "code",
   "execution_count": 1,
   "id": "bc01b0c9",
   "metadata": {},
   "outputs": [],
   "source": [
    "# Импортируем необходимые библиотеки\n",
    "import pandas as pd\n",
    "from sqlalchemy import text, create_engine\n",
    "\n",
    "# Установим параметры\n",
    "db_config = {'user': 'praktikum_student', # имя пользователя\n",
    "'pwd': 'Sdf4$2;d-d30pp', # пароль\n",
    "'host': 'rc1b-wcoijxj3yxfsf3fs.mdb.yandexcloud.net',\n",
    "'port': 6432, # порт подключения\n",
    "'db': 'data-analyst-final-project-db'} # название базы данных\n",
    "connection_string = 'postgresql://{user}:{pwd}@{host}:{port}/{db}'.format(**db_config)\n",
    "\n",
    "# Сохраним коннектор\n",
    "engine = create_engine(connection_string, connect_args={'sslmode':'require'})"
   ]
  },
  {
   "cell_type": "markdown",
   "id": "c6231acb",
   "metadata": {},
   "source": [
    "Ознакомимся с базой данных более детально, выведя первые строки каждой из таблиц на экран."
   ]
  },
  {
   "cell_type": "code",
   "execution_count": 2,
   "id": "f5e33be8",
   "metadata": {
    "scrolled": false
   },
   "outputs": [
    {
     "name": "stdout",
     "output_type": "stream",
     "text": [
      "Первые строки таблицы \"books\":\n"
     ]
    },
    {
     "data": {
      "text/html": [
       "<div>\n",
       "<style scoped>\n",
       "    .dataframe tbody tr th:only-of-type {\n",
       "        vertical-align: middle;\n",
       "    }\n",
       "\n",
       "    .dataframe tbody tr th {\n",
       "        vertical-align: top;\n",
       "    }\n",
       "\n",
       "    .dataframe thead th {\n",
       "        text-align: right;\n",
       "    }\n",
       "</style>\n",
       "<table border=\"1\" class=\"dataframe\">\n",
       "  <thead>\n",
       "    <tr style=\"text-align: right;\">\n",
       "      <th></th>\n",
       "      <th>book_id</th>\n",
       "      <th>author_id</th>\n",
       "      <th>title</th>\n",
       "      <th>num_pages</th>\n",
       "      <th>publication_date</th>\n",
       "      <th>publisher_id</th>\n",
       "    </tr>\n",
       "  </thead>\n",
       "  <tbody>\n",
       "    <tr>\n",
       "      <th>0</th>\n",
       "      <td>1</td>\n",
       "      <td>546</td>\n",
       "      <td>'Salem's Lot</td>\n",
       "      <td>594</td>\n",
       "      <td>2005-11-01</td>\n",
       "      <td>93</td>\n",
       "    </tr>\n",
       "    <tr>\n",
       "      <th>1</th>\n",
       "      <td>2</td>\n",
       "      <td>465</td>\n",
       "      <td>1 000 Places to See Before You Die</td>\n",
       "      <td>992</td>\n",
       "      <td>2003-05-22</td>\n",
       "      <td>336</td>\n",
       "    </tr>\n",
       "    <tr>\n",
       "      <th>2</th>\n",
       "      <td>3</td>\n",
       "      <td>407</td>\n",
       "      <td>13 Little Blue Envelopes (Little Blue Envelope...</td>\n",
       "      <td>322</td>\n",
       "      <td>2010-12-21</td>\n",
       "      <td>135</td>\n",
       "    </tr>\n",
       "    <tr>\n",
       "      <th>3</th>\n",
       "      <td>4</td>\n",
       "      <td>82</td>\n",
       "      <td>1491: New Revelations of the Americas Before C...</td>\n",
       "      <td>541</td>\n",
       "      <td>2006-10-10</td>\n",
       "      <td>309</td>\n",
       "    </tr>\n",
       "    <tr>\n",
       "      <th>4</th>\n",
       "      <td>5</td>\n",
       "      <td>125</td>\n",
       "      <td>1776</td>\n",
       "      <td>386</td>\n",
       "      <td>2006-07-04</td>\n",
       "      <td>268</td>\n",
       "    </tr>\n",
       "  </tbody>\n",
       "</table>\n",
       "</div>"
      ],
      "text/plain": [
       "   book_id  author_id                                              title  \\\n",
       "0        1        546                                       'Salem's Lot   \n",
       "1        2        465                 1 000 Places to See Before You Die   \n",
       "2        3        407  13 Little Blue Envelopes (Little Blue Envelope...   \n",
       "3        4         82  1491: New Revelations of the Americas Before C...   \n",
       "4        5        125                                               1776   \n",
       "\n",
       "   num_pages publication_date  publisher_id  \n",
       "0        594       2005-11-01            93  \n",
       "1        992       2003-05-22           336  \n",
       "2        322       2010-12-21           135  \n",
       "3        541       2006-10-10           309  \n",
       "4        386       2006-07-04           268  "
      ]
     },
     "metadata": {},
     "output_type": "display_data"
    },
    {
     "name": "stdout",
     "output_type": "stream",
     "text": [
      "Первые строки таблицы \"authors\":\n"
     ]
    },
    {
     "data": {
      "text/html": [
       "<div>\n",
       "<style scoped>\n",
       "    .dataframe tbody tr th:only-of-type {\n",
       "        vertical-align: middle;\n",
       "    }\n",
       "\n",
       "    .dataframe tbody tr th {\n",
       "        vertical-align: top;\n",
       "    }\n",
       "\n",
       "    .dataframe thead th {\n",
       "        text-align: right;\n",
       "    }\n",
       "</style>\n",
       "<table border=\"1\" class=\"dataframe\">\n",
       "  <thead>\n",
       "    <tr style=\"text-align: right;\">\n",
       "      <th></th>\n",
       "      <th>author_id</th>\n",
       "      <th>author</th>\n",
       "    </tr>\n",
       "  </thead>\n",
       "  <tbody>\n",
       "    <tr>\n",
       "      <th>0</th>\n",
       "      <td>1</td>\n",
       "      <td>A.S. Byatt</td>\n",
       "    </tr>\n",
       "    <tr>\n",
       "      <th>1</th>\n",
       "      <td>2</td>\n",
       "      <td>Aesop/Laura Harris/Laura Gibbs</td>\n",
       "    </tr>\n",
       "    <tr>\n",
       "      <th>2</th>\n",
       "      <td>3</td>\n",
       "      <td>Agatha Christie</td>\n",
       "    </tr>\n",
       "    <tr>\n",
       "      <th>3</th>\n",
       "      <td>4</td>\n",
       "      <td>Alan Brennert</td>\n",
       "    </tr>\n",
       "    <tr>\n",
       "      <th>4</th>\n",
       "      <td>5</td>\n",
       "      <td>Alan Moore/David   Lloyd</td>\n",
       "    </tr>\n",
       "  </tbody>\n",
       "</table>\n",
       "</div>"
      ],
      "text/plain": [
       "   author_id                          author\n",
       "0          1                      A.S. Byatt\n",
       "1          2  Aesop/Laura Harris/Laura Gibbs\n",
       "2          3                 Agatha Christie\n",
       "3          4                   Alan Brennert\n",
       "4          5        Alan Moore/David   Lloyd"
      ]
     },
     "metadata": {},
     "output_type": "display_data"
    },
    {
     "name": "stdout",
     "output_type": "stream",
     "text": [
      "Первые строки таблицы \"ratings\":\n"
     ]
    },
    {
     "data": {
      "text/html": [
       "<div>\n",
       "<style scoped>\n",
       "    .dataframe tbody tr th:only-of-type {\n",
       "        vertical-align: middle;\n",
       "    }\n",
       "\n",
       "    .dataframe tbody tr th {\n",
       "        vertical-align: top;\n",
       "    }\n",
       "\n",
       "    .dataframe thead th {\n",
       "        text-align: right;\n",
       "    }\n",
       "</style>\n",
       "<table border=\"1\" class=\"dataframe\">\n",
       "  <thead>\n",
       "    <tr style=\"text-align: right;\">\n",
       "      <th></th>\n",
       "      <th>rating_id</th>\n",
       "      <th>book_id</th>\n",
       "      <th>username</th>\n",
       "      <th>rating</th>\n",
       "    </tr>\n",
       "  </thead>\n",
       "  <tbody>\n",
       "    <tr>\n",
       "      <th>0</th>\n",
       "      <td>1</td>\n",
       "      <td>1</td>\n",
       "      <td>ryanfranco</td>\n",
       "      <td>4</td>\n",
       "    </tr>\n",
       "    <tr>\n",
       "      <th>1</th>\n",
       "      <td>2</td>\n",
       "      <td>1</td>\n",
       "      <td>grantpatricia</td>\n",
       "      <td>2</td>\n",
       "    </tr>\n",
       "    <tr>\n",
       "      <th>2</th>\n",
       "      <td>3</td>\n",
       "      <td>1</td>\n",
       "      <td>brandtandrea</td>\n",
       "      <td>5</td>\n",
       "    </tr>\n",
       "    <tr>\n",
       "      <th>3</th>\n",
       "      <td>4</td>\n",
       "      <td>2</td>\n",
       "      <td>lorichen</td>\n",
       "      <td>3</td>\n",
       "    </tr>\n",
       "    <tr>\n",
       "      <th>4</th>\n",
       "      <td>5</td>\n",
       "      <td>2</td>\n",
       "      <td>mariokeller</td>\n",
       "      <td>2</td>\n",
       "    </tr>\n",
       "  </tbody>\n",
       "</table>\n",
       "</div>"
      ],
      "text/plain": [
       "   rating_id  book_id       username  rating\n",
       "0          1        1     ryanfranco       4\n",
       "1          2        1  grantpatricia       2\n",
       "2          3        1   brandtandrea       5\n",
       "3          4        2       lorichen       3\n",
       "4          5        2    mariokeller       2"
      ]
     },
     "metadata": {},
     "output_type": "display_data"
    },
    {
     "name": "stdout",
     "output_type": "stream",
     "text": [
      "Первые строки таблицы \"reviews\":\n"
     ]
    },
    {
     "data": {
      "text/html": [
       "<div>\n",
       "<style scoped>\n",
       "    .dataframe tbody tr th:only-of-type {\n",
       "        vertical-align: middle;\n",
       "    }\n",
       "\n",
       "    .dataframe tbody tr th {\n",
       "        vertical-align: top;\n",
       "    }\n",
       "\n",
       "    .dataframe thead th {\n",
       "        text-align: right;\n",
       "    }\n",
       "</style>\n",
       "<table border=\"1\" class=\"dataframe\">\n",
       "  <thead>\n",
       "    <tr style=\"text-align: right;\">\n",
       "      <th></th>\n",
       "      <th>review_id</th>\n",
       "      <th>book_id</th>\n",
       "      <th>username</th>\n",
       "      <th>text</th>\n",
       "    </tr>\n",
       "  </thead>\n",
       "  <tbody>\n",
       "    <tr>\n",
       "      <th>0</th>\n",
       "      <td>1</td>\n",
       "      <td>1</td>\n",
       "      <td>brandtandrea</td>\n",
       "      <td>Mention society tell send professor analysis. ...</td>\n",
       "    </tr>\n",
       "    <tr>\n",
       "      <th>1</th>\n",
       "      <td>2</td>\n",
       "      <td>1</td>\n",
       "      <td>ryanfranco</td>\n",
       "      <td>Foot glass pretty audience hit themselves. Amo...</td>\n",
       "    </tr>\n",
       "    <tr>\n",
       "      <th>2</th>\n",
       "      <td>3</td>\n",
       "      <td>2</td>\n",
       "      <td>lorichen</td>\n",
       "      <td>Listen treat keep worry. Miss husband tax but ...</td>\n",
       "    </tr>\n",
       "    <tr>\n",
       "      <th>3</th>\n",
       "      <td>4</td>\n",
       "      <td>3</td>\n",
       "      <td>johnsonamanda</td>\n",
       "      <td>Finally month interesting blue could nature cu...</td>\n",
       "    </tr>\n",
       "    <tr>\n",
       "      <th>4</th>\n",
       "      <td>5</td>\n",
       "      <td>3</td>\n",
       "      <td>scotttamara</td>\n",
       "      <td>Nation purpose heavy give wait song will. List...</td>\n",
       "    </tr>\n",
       "  </tbody>\n",
       "</table>\n",
       "</div>"
      ],
      "text/plain": [
       "   review_id  book_id       username  \\\n",
       "0          1        1   brandtandrea   \n",
       "1          2        1     ryanfranco   \n",
       "2          3        2       lorichen   \n",
       "3          4        3  johnsonamanda   \n",
       "4          5        3    scotttamara   \n",
       "\n",
       "                                                text  \n",
       "0  Mention society tell send professor analysis. ...  \n",
       "1  Foot glass pretty audience hit themselves. Amo...  \n",
       "2  Listen treat keep worry. Miss husband tax but ...  \n",
       "3  Finally month interesting blue could nature cu...  \n",
       "4  Nation purpose heavy give wait song will. List...  "
      ]
     },
     "metadata": {},
     "output_type": "display_data"
    },
    {
     "name": "stdout",
     "output_type": "stream",
     "text": [
      "Первые строки таблицы \"publishers\":\n"
     ]
    },
    {
     "data": {
      "text/html": [
       "<div>\n",
       "<style scoped>\n",
       "    .dataframe tbody tr th:only-of-type {\n",
       "        vertical-align: middle;\n",
       "    }\n",
       "\n",
       "    .dataframe tbody tr th {\n",
       "        vertical-align: top;\n",
       "    }\n",
       "\n",
       "    .dataframe thead th {\n",
       "        text-align: right;\n",
       "    }\n",
       "</style>\n",
       "<table border=\"1\" class=\"dataframe\">\n",
       "  <thead>\n",
       "    <tr style=\"text-align: right;\">\n",
       "      <th></th>\n",
       "      <th>publisher_id</th>\n",
       "      <th>publisher</th>\n",
       "    </tr>\n",
       "  </thead>\n",
       "  <tbody>\n",
       "    <tr>\n",
       "      <th>0</th>\n",
       "      <td>1</td>\n",
       "      <td>Ace</td>\n",
       "    </tr>\n",
       "    <tr>\n",
       "      <th>1</th>\n",
       "      <td>2</td>\n",
       "      <td>Ace Book</td>\n",
       "    </tr>\n",
       "    <tr>\n",
       "      <th>2</th>\n",
       "      <td>3</td>\n",
       "      <td>Ace Books</td>\n",
       "    </tr>\n",
       "    <tr>\n",
       "      <th>3</th>\n",
       "      <td>4</td>\n",
       "      <td>Ace Hardcover</td>\n",
       "    </tr>\n",
       "    <tr>\n",
       "      <th>4</th>\n",
       "      <td>5</td>\n",
       "      <td>Addison Wesley Publishing Company</td>\n",
       "    </tr>\n",
       "  </tbody>\n",
       "</table>\n",
       "</div>"
      ],
      "text/plain": [
       "   publisher_id                          publisher\n",
       "0             1                                Ace\n",
       "1             2                           Ace Book\n",
       "2             3                          Ace Books\n",
       "3             4                      Ace Hardcover\n",
       "4             5  Addison Wesley Publishing Company"
      ]
     },
     "metadata": {},
     "output_type": "display_data"
    }
   ],
   "source": [
    "# С помощью SQL-запроса выведем первые 5 строк таблицы \"books\"\n",
    "query = '''SELECT *\n",
    "           FROM books\n",
    "           LIMIT 5'''\n",
    "\n",
    "con=engine.connect()\n",
    "\n",
    "print('Первые строки таблицы \"books\":')\n",
    "display(pd.io.sql.read_sql(sql=text(query), con = con))\n",
    "\n",
    "# Выведем первые 5 строк таблицы \"authors\"\n",
    "query2 = '''SELECT *\n",
    "           FROM authors\n",
    "           LIMIT 5'''\n",
    "\n",
    "print('Первые строки таблицы \"authors\":')\n",
    "display(pd.io.sql.read_sql(sql=text(query2), con = con))\n",
    "\n",
    "# Выведем первые 5 строк таблицы \"ratings\"\n",
    "query3 = '''SELECT *\n",
    "           FROM ratings\n",
    "           LIMIT 5'''\n",
    "\n",
    "print('Первые строки таблицы \"ratings\":')\n",
    "display(pd.io.sql.read_sql(sql=text(query3), con = con))\n",
    "\n",
    "# Выведем первые 5 строк таблицы \"reviews\"\n",
    "query3 = '''SELECT *\n",
    "           FROM reviews\n",
    "           LIMIT 5'''\n",
    "\n",
    "print('Первые строки таблицы \"reviews\":')\n",
    "display(pd.io.sql.read_sql(sql=text(query3), con = con))\n",
    "\n",
    "# Выведем первые 5 строк таблицы \"publishers\"\n",
    "query3 = '''SELECT *\n",
    "           FROM publishers\n",
    "           LIMIT 5'''\n",
    "\n",
    "print('Первые строки таблицы \"publishers\":')\n",
    "display(pd.io.sql.read_sql(sql=text(query3), con = con))"
   ]
  },
  {
   "cell_type": "markdown",
   "id": "bce85e56",
   "metadata": {},
   "source": [
    "Содержащаяся в таблицах информация соответствует их названию."
   ]
  },
  {
   "cell_type": "markdown",
   "id": "414492cb",
   "metadata": {},
   "source": [
    "## Выполнение SQL-запросов"
   ]
  },
  {
   "cell_type": "markdown",
   "id": "a0b0d658",
   "metadata": {},
   "source": [
    "### Задание 1"
   ]
  },
  {
   "cell_type": "markdown",
   "id": "c4feb676",
   "metadata": {},
   "source": [
    "Посчитаем, сколько книг вышло после 1 января 2000 года."
   ]
  },
  {
   "cell_type": "code",
   "execution_count": 3,
   "id": "934987ba",
   "metadata": {},
   "outputs": [
    {
     "data": {
      "text/html": [
       "<div>\n",
       "<style scoped>\n",
       "    .dataframe tbody tr th:only-of-type {\n",
       "        vertical-align: middle;\n",
       "    }\n",
       "\n",
       "    .dataframe tbody tr th {\n",
       "        vertical-align: top;\n",
       "    }\n",
       "\n",
       "    .dataframe thead th {\n",
       "        text-align: right;\n",
       "    }\n",
       "</style>\n",
       "<table border=\"1\" class=\"dataframe\">\n",
       "  <thead>\n",
       "    <tr style=\"text-align: right;\">\n",
       "      <th></th>\n",
       "      <th>counts_of_books</th>\n",
       "    </tr>\n",
       "  </thead>\n",
       "  <tbody>\n",
       "    <tr>\n",
       "      <th>0</th>\n",
       "      <td>819</td>\n",
       "    </tr>\n",
       "  </tbody>\n",
       "</table>\n",
       "</div>"
      ],
      "text/plain": [
       "   counts_of_books\n",
       "0              819"
      ]
     },
     "execution_count": 3,
     "metadata": {},
     "output_type": "execute_result"
    }
   ],
   "source": [
    "# Выполним SQL-запрос, используя Pandas\n",
    "query = '''SELECT COUNT(book_id) AS counts_of_books\n",
    "           FROM books\n",
    "           WHERE publication_date > '2000-01-01'\n",
    "           '''\n",
    "\n",
    "con=engine.connect()\n",
    "\n",
    "pd.io.sql.read_sql(sql=text(query), con = con)"
   ]
  },
  {
   "cell_type": "markdown",
   "id": "65d7a784",
   "metadata": {},
   "source": [
    "Чуть более 800 книг было выпущено с 02 января 2000 года."
   ]
  },
  {
   "cell_type": "markdown",
   "id": "292d41f0",
   "metadata": {},
   "source": [
    "### Задание 2"
   ]
  },
  {
   "cell_type": "markdown",
   "id": "f9f91aee",
   "metadata": {},
   "source": [
    "Посчитаем количество обзоров и среднюю оценку для каждой книги."
   ]
  },
  {
   "cell_type": "code",
   "execution_count": 4,
   "id": "40cba974",
   "metadata": {
    "scrolled": false
   },
   "outputs": [
    {
     "data": {
      "text/html": [
       "<div>\n",
       "<style scoped>\n",
       "    .dataframe tbody tr th:only-of-type {\n",
       "        vertical-align: middle;\n",
       "    }\n",
       "\n",
       "    .dataframe tbody tr th {\n",
       "        vertical-align: top;\n",
       "    }\n",
       "\n",
       "    .dataframe thead th {\n",
       "        text-align: right;\n",
       "    }\n",
       "</style>\n",
       "<table border=\"1\" class=\"dataframe\">\n",
       "  <thead>\n",
       "    <tr style=\"text-align: right;\">\n",
       "      <th></th>\n",
       "      <th>book_id</th>\n",
       "      <th>book_title</th>\n",
       "      <th>counts_of_reviews</th>\n",
       "      <th>average_rating</th>\n",
       "    </tr>\n",
       "  </thead>\n",
       "  <tbody>\n",
       "    <tr>\n",
       "      <th>0</th>\n",
       "      <td>1</td>\n",
       "      <td>'Salem's Lot</td>\n",
       "      <td>2</td>\n",
       "      <td>3.7</td>\n",
       "    </tr>\n",
       "    <tr>\n",
       "      <th>1</th>\n",
       "      <td>2</td>\n",
       "      <td>1 000 Places to See Before You Die</td>\n",
       "      <td>1</td>\n",
       "      <td>2.5</td>\n",
       "    </tr>\n",
       "    <tr>\n",
       "      <th>2</th>\n",
       "      <td>3</td>\n",
       "      <td>13 Little Blue Envelopes (Little Blue Envelope...</td>\n",
       "      <td>3</td>\n",
       "      <td>4.7</td>\n",
       "    </tr>\n",
       "    <tr>\n",
       "      <th>3</th>\n",
       "      <td>4</td>\n",
       "      <td>1491: New Revelations of the Americas Before C...</td>\n",
       "      <td>2</td>\n",
       "      <td>4.5</td>\n",
       "    </tr>\n",
       "    <tr>\n",
       "      <th>4</th>\n",
       "      <td>5</td>\n",
       "      <td>1776</td>\n",
       "      <td>4</td>\n",
       "      <td>4.0</td>\n",
       "    </tr>\n",
       "    <tr>\n",
       "      <th>...</th>\n",
       "      <td>...</td>\n",
       "      <td>...</td>\n",
       "      <td>...</td>\n",
       "      <td>...</td>\n",
       "    </tr>\n",
       "    <tr>\n",
       "      <th>995</th>\n",
       "      <td>996</td>\n",
       "      <td>Wyrd Sisters (Discworld  #6; Witches #2)</td>\n",
       "      <td>3</td>\n",
       "      <td>3.7</td>\n",
       "    </tr>\n",
       "    <tr>\n",
       "      <th>996</th>\n",
       "      <td>997</td>\n",
       "      <td>Xenocide (Ender's Saga  #3)</td>\n",
       "      <td>3</td>\n",
       "      <td>3.4</td>\n",
       "    </tr>\n",
       "    <tr>\n",
       "      <th>997</th>\n",
       "      <td>998</td>\n",
       "      <td>Year of Wonders</td>\n",
       "      <td>4</td>\n",
       "      <td>3.2</td>\n",
       "    </tr>\n",
       "    <tr>\n",
       "      <th>998</th>\n",
       "      <td>999</td>\n",
       "      <td>You Suck (A Love Story  #2)</td>\n",
       "      <td>2</td>\n",
       "      <td>4.5</td>\n",
       "    </tr>\n",
       "    <tr>\n",
       "      <th>999</th>\n",
       "      <td>1000</td>\n",
       "      <td>Zen and the Art of Motorcycle Maintenance: An ...</td>\n",
       "      <td>4</td>\n",
       "      <td>3.8</td>\n",
       "    </tr>\n",
       "  </tbody>\n",
       "</table>\n",
       "<p>1000 rows × 4 columns</p>\n",
       "</div>"
      ],
      "text/plain": [
       "     book_id                                         book_title  \\\n",
       "0          1                                       'Salem's Lot   \n",
       "1          2                 1 000 Places to See Before You Die   \n",
       "2          3  13 Little Blue Envelopes (Little Blue Envelope...   \n",
       "3          4  1491: New Revelations of the Americas Before C...   \n",
       "4          5                                               1776   \n",
       "..       ...                                                ...   \n",
       "995      996           Wyrd Sisters (Discworld  #6; Witches #2)   \n",
       "996      997                        Xenocide (Ender's Saga  #3)   \n",
       "997      998                                    Year of Wonders   \n",
       "998      999                        You Suck (A Love Story  #2)   \n",
       "999     1000  Zen and the Art of Motorcycle Maintenance: An ...   \n",
       "\n",
       "     counts_of_reviews  average_rating  \n",
       "0                    2             3.7  \n",
       "1                    1             2.5  \n",
       "2                    3             4.7  \n",
       "3                    2             4.5  \n",
       "4                    4             4.0  \n",
       "..                 ...             ...  \n",
       "995                  3             3.7  \n",
       "996                  3             3.4  \n",
       "997                  4             3.2  \n",
       "998                  2             4.5  \n",
       "999                  4             3.8  \n",
       "\n",
       "[1000 rows x 4 columns]"
      ]
     },
     "metadata": {},
     "output_type": "display_data"
    },
    {
     "name": "stdout",
     "output_type": "stream",
     "text": [
      "Максимальное количество обзоров: 7\n",
      "Минимальное количество обзоров: 0\n",
      "----------------------------\n",
      "Максимальный средний рейтинг: 5.0\n",
      "Минимальный средний рейтинг: 1.5\n"
     ]
    }
   ],
   "source": [
    "# Выполним SQL-запрос, используя Pandas\n",
    "query = '''SELECT b.book_id,\n",
    "                  b.title AS book_title,\n",
    "                  COUNT(DISTINCT(rw.review_id)) AS counts_of_reviews,\n",
    "                  ROUND(AVG(rt.rating), 1) AS average_rating\n",
    "           FROM books AS b\n",
    "           LEFT JOIN ratings AS rt ON b.book_id = rt.book_id\n",
    "           LEFT JOIN reviews AS rw ON b.book_id = rw.book_id\n",
    "           GROUP BY b.book_id\n",
    "           '''\n",
    "\n",
    "con=engine.connect()\n",
    "\n",
    "book_information = pd.io.sql.read_sql(sql=text(query), con = con)\n",
    "\n",
    "display(book_information)\n",
    "\n",
    "print('Максимальное количество обзоров:', book_information['counts_of_reviews'].max())\n",
    "print('Минимальное количество обзоров:', book_information['counts_of_reviews'].min())\n",
    "print('----------------------------')\n",
    "print('Максимальный средний рейтинг:', book_information['average_rating'].max())\n",
    "print('Минимальный средний рейтинг:', book_information['average_rating'].min())"
   ]
  },
  {
   "cell_type": "markdown",
   "id": "fa89310d",
   "metadata": {},
   "source": [
    "Количество обзоров на книги варьируется от 0 до 7. \n",
    "\n",
    "Рейтинг имеет широкий диапазон значений, изменяющийся от 1.5 до 5."
   ]
  },
  {
   "cell_type": "markdown",
   "id": "e2d03b7c",
   "metadata": {},
   "source": [
    "### Задание 3"
   ]
  },
  {
   "cell_type": "markdown",
   "id": "74eaa07c",
   "metadata": {},
   "source": [
    "Определим издательство, выпустившее наибольшее число книг толще 50 страниц."
   ]
  },
  {
   "cell_type": "code",
   "execution_count": 5,
   "id": "2ec9f708",
   "metadata": {
    "scrolled": false
   },
   "outputs": [
    {
     "data": {
      "text/html": [
       "<div>\n",
       "<style scoped>\n",
       "    .dataframe tbody tr th:only-of-type {\n",
       "        vertical-align: middle;\n",
       "    }\n",
       "\n",
       "    .dataframe tbody tr th {\n",
       "        vertical-align: top;\n",
       "    }\n",
       "\n",
       "    .dataframe thead th {\n",
       "        text-align: right;\n",
       "    }\n",
       "</style>\n",
       "<table border=\"1\" class=\"dataframe\">\n",
       "  <thead>\n",
       "    <tr style=\"text-align: right;\">\n",
       "      <th></th>\n",
       "      <th>publisher</th>\n",
       "      <th>counts_of_books</th>\n",
       "    </tr>\n",
       "  </thead>\n",
       "  <tbody>\n",
       "    <tr>\n",
       "      <th>0</th>\n",
       "      <td>Penguin Books</td>\n",
       "      <td>42</td>\n",
       "    </tr>\n",
       "  </tbody>\n",
       "</table>\n",
       "</div>"
      ],
      "text/plain": [
       "       publisher  counts_of_books\n",
       "0  Penguin Books               42"
      ]
     },
     "execution_count": 5,
     "metadata": {},
     "output_type": "execute_result"
    }
   ],
   "source": [
    "# Выполним SQL-запрос, используя Pandas\n",
    "query = '''WITH\n",
    "           books_more_50 AS (SELECT *\n",
    "                             FROM books\n",
    "                             WHERE num_pages > 50)\n",
    "                         \n",
    "           SELECT p.publisher,\n",
    "                  COUNT(b.book_id) AS counts_of_books\n",
    "           FROM books_more_50 AS b\n",
    "           JOIN publishers AS p ON b.publisher_id = p.publisher_id\n",
    "           GROUP BY p.publisher\n",
    "           ORDER BY counts_of_books DESC\n",
    "           LIMIT 1\n",
    "           '''\n",
    "\n",
    "con=engine.connect()\n",
    "\n",
    "pd.io.sql.read_sql(sql=text(query), con = con)"
   ]
  },
  {
   "cell_type": "markdown",
   "id": "020596dd",
   "metadata": {},
   "source": [
    "Издательство \"Penguin Books\" выпустило наибольшее число книг толще 50 страниц – 42 единицы."
   ]
  },
  {
   "cell_type": "markdown",
   "id": "d6061e42",
   "metadata": {},
   "source": [
    "### Задание 4"
   ]
  },
  {
   "cell_type": "markdown",
   "id": "a5915fe8",
   "metadata": {},
   "source": [
    "Определим автора с самой высокой средней оценкой книг, учитывая только книги с 50 и более оценками."
   ]
  },
  {
   "cell_type": "code",
   "execution_count": 6,
   "id": "05abb37e",
   "metadata": {
    "scrolled": true
   },
   "outputs": [
    {
     "data": {
      "text/html": [
       "<div>\n",
       "<style scoped>\n",
       "    .dataframe tbody tr th:only-of-type {\n",
       "        vertical-align: middle;\n",
       "    }\n",
       "\n",
       "    .dataframe tbody tr th {\n",
       "        vertical-align: top;\n",
       "    }\n",
       "\n",
       "    .dataframe thead th {\n",
       "        text-align: right;\n",
       "    }\n",
       "</style>\n",
       "<table border=\"1\" class=\"dataframe\">\n",
       "  <thead>\n",
       "    <tr style=\"text-align: right;\">\n",
       "      <th></th>\n",
       "      <th>author</th>\n",
       "      <th>average_rating</th>\n",
       "    </tr>\n",
       "  </thead>\n",
       "  <tbody>\n",
       "    <tr>\n",
       "      <th>0</th>\n",
       "      <td>J.K. Rowling/Mary GrandPré</td>\n",
       "      <td>4.28</td>\n",
       "    </tr>\n",
       "  </tbody>\n",
       "</table>\n",
       "</div>"
      ],
      "text/plain": [
       "                       author  average_rating\n",
       "0  J.K. Rowling/Mary GrandPré            4.28"
      ]
     },
     "execution_count": 6,
     "metadata": {},
     "output_type": "execute_result"
    }
   ],
   "source": [
    "# Выполним SQL-запрос, используя Pandas\n",
    "query = '''WITH\n",
    "           books_with_rating_more_50 AS (SELECT b.book_id,\n",
    "                                                b.author_id,\n",
    "                                                b.title AS book_title,\n",
    "                                                AVG(rt.rating) AS rating,\n",
    "                                                COUNT(rt.rating_id) AS counts_of_ratings\n",
    "                                         FROM books AS b\n",
    "                                         LEFT JOIN ratings AS rt ON b.book_id = rt.book_id\n",
    "                                         GROUP BY b.book_id\n",
    "                                         HAVING COUNT(rt.rating_id) >= 50)\n",
    "                                         \n",
    "           SELECT a.author,\n",
    "                  ROUND(AVG(b.rating), 2) AS average_rating\n",
    "           FROM books_with_rating_more_50 AS b\n",
    "           LEFT JOIN authors AS a ON b.author_id = a.author_id\n",
    "           GROUP BY a.author\n",
    "           ORDER BY average_rating DESC\n",
    "           LIMIT 1\n",
    "           '''\n",
    "\n",
    "con=engine.connect()\n",
    "\n",
    "pd.io.sql.read_sql(sql=text(query), con = con)"
   ]
  },
  {
   "cell_type": "markdown",
   "id": "d9f70b37",
   "metadata": {},
   "source": [
    "J.K. Rowling совместно с Mary GrandPré являются авторами с самыми рейтинговыми книгами. Все без ума Гарри Поттера!"
   ]
  },
  {
   "cell_type": "markdown",
   "id": "43addfda",
   "metadata": {},
   "source": [
    "### Задание 5"
   ]
  },
  {
   "cell_type": "markdown",
   "id": "10c1b0a1",
   "metadata": {},
   "source": [
    "Посчитаем среднее количество обзоров от пользователей, которые поставили более 48 оценок."
   ]
  },
  {
   "cell_type": "code",
   "execution_count": 7,
   "id": "33a6036a",
   "metadata": {},
   "outputs": [
    {
     "data": {
      "text/html": [
       "<div>\n",
       "<style scoped>\n",
       "    .dataframe tbody tr th:only-of-type {\n",
       "        vertical-align: middle;\n",
       "    }\n",
       "\n",
       "    .dataframe tbody tr th {\n",
       "        vertical-align: top;\n",
       "    }\n",
       "\n",
       "    .dataframe thead th {\n",
       "        text-align: right;\n",
       "    }\n",
       "</style>\n",
       "<table border=\"1\" class=\"dataframe\">\n",
       "  <thead>\n",
       "    <tr style=\"text-align: right;\">\n",
       "      <th></th>\n",
       "      <th>average_counts_of_reviews</th>\n",
       "    </tr>\n",
       "  </thead>\n",
       "  <tbody>\n",
       "    <tr>\n",
       "      <th>0</th>\n",
       "      <td>24.0</td>\n",
       "    </tr>\n",
       "  </tbody>\n",
       "</table>\n",
       "</div>"
      ],
      "text/plain": [
       "   average_counts_of_reviews\n",
       "0                       24.0"
      ]
     },
     "execution_count": 7,
     "metadata": {},
     "output_type": "execute_result"
    }
   ],
   "source": [
    "# Выполним SQL-запрос, используя Pandas\n",
    "query = '''WITH\n",
    "           users_with_reviews_more_48 AS (SELECT rt.username,\n",
    "                                                 COUNT(rt.rating_id) AS counts_of_ratings\n",
    "                                          FROM books AS b\n",
    "                                          LEFT JOIN ratings AS rt ON b.book_id = rt.book_id\n",
    "                                          GROUP BY rt.username\n",
    "                                          HAVING COUNT(rt.rating_id) > 48),\n",
    "                                          \n",
    "           counts_of_reviews AS (SELECT rw.username,\n",
    "                                        COUNT(rw.review_id) AS counts_of_reviews\n",
    "                                 FROM reviews AS rw\n",
    "                                 RIGHT JOIN users_with_reviews_more_48 AS u ON u.username = rw.username\n",
    "                                 GROUP BY rw.username)\n",
    "                                 \n",
    "           SELECT AVG(counts_of_reviews) AS average_counts_of_reviews\n",
    "           FROM counts_of_reviews\n",
    "           '''\n",
    "\n",
    "con=engine.connect()\n",
    "\n",
    "pd.io.sql.read_sql(sql=text(query), con = con)"
   ]
  },
  {
   "cell_type": "markdown",
   "id": "3a838cfe",
   "metadata": {},
   "source": [
    "В среднем, наиболее активные пользователи, поставившие более 48 оценок, пишут около 24 обзоров."
   ]
  },
  {
   "cell_type": "markdown",
   "id": "cc31e6e4",
   "metadata": {},
   "source": [
    "## Выводы"
   ]
  },
  {
   "cell_type": "markdown",
   "id": "288b2f48",
   "metadata": {},
   "source": [
    "По итогам проведенного исследования были сделаны следующие выводы:\n",
    "\n",
    "- С 02 января 2000 года было выпущено чуть более 800 книг;\n",
    "- Количество обзоров на книги варьируется от 0 до 7;\n",
    "- Рейтинг имеет широкий диапазон значений, изменяющийся от 1.5 до 5;\n",
    "- Издательство \"Penguin Books\" выпустило наибольшее число книг толще 50 страниц – 42 единицы;\n",
    "- J.K. Rowling совместно с Mary GrandPré являются авторами с самыми рейтинговыми книгами;\n",
    "- В среднем, наиболее активные пользователи, поставившие более 48 оценок, пишут около 24 обзоров."
   ]
  }
 ],
 "metadata": {
  "ExecuteTimeLog": [
   {
    "duration": 11968,
    "start_time": "2023-05-19T22:18:10.678Z"
   },
   {
    "duration": 77,
    "start_time": "2023-05-19T22:18:22.648Z"
   },
   {
    "duration": 61,
    "start_time": "2023-05-19T22:18:22.727Z"
   },
   {
    "duration": 28,
    "start_time": "2023-05-19T22:18:22.790Z"
   },
   {
    "duration": 12,
    "start_time": "2023-05-19T22:18:22.819Z"
   },
   {
    "duration": 13,
    "start_time": "2023-05-19T22:18:22.832Z"
   },
   {
    "duration": 18,
    "start_time": "2023-05-19T22:18:22.846Z"
   }
  ],
  "kernelspec": {
   "display_name": "Python 3 (ipykernel)",
   "language": "python",
   "name": "python3"
  },
  "language_info": {
   "codemirror_mode": {
    "name": "ipython",
    "version": 3
   },
   "file_extension": ".py",
   "mimetype": "text/x-python",
   "name": "python",
   "nbconvert_exporter": "python",
   "pygments_lexer": "ipython3",
   "version": "3.9.13"
  },
  "toc": {
   "base_numbering": 1,
   "nav_menu": {},
   "number_sections": true,
   "sideBar": true,
   "skip_h1_title": true,
   "title_cell": "Table of Contents",
   "title_sidebar": "Анализ базы данных сервиса для чтения книг",
   "toc_cell": false,
   "toc_position": {
    "height": "calc(100% - 180px)",
    "left": "10px",
    "top": "150px",
    "width": "384px"
   },
   "toc_section_display": true,
   "toc_window_display": true
  }
 },
 "nbformat": 4,
 "nbformat_minor": 5
}
