{
 "cells": [
  {
   "cell_type": "markdown",
   "id": "927d7367",
   "metadata": {
    "toc": true
   },
   "source": [
    "<h1>Table of Contents<span class=\"tocSkip\"></span></h1>\n",
    "<div class=\"toc\"><ul class=\"toc-item\"><li><span><a href=\"#Цели-и-ход-исследования\" data-toc-modified-id=\"Цели-и-ход-исследования-1\"><span class=\"toc-item-num\">1&nbsp;&nbsp;</span>Цели и ход исследования</a></span></li><li><span><a href=\"#Предобработка-данных\" data-toc-modified-id=\"Предобработка-данных-2\"><span class=\"toc-item-num\">2&nbsp;&nbsp;</span>Предобработка данных</a></span><ul class=\"toc-item\"><li><span><a href=\"#Ознакомление-с-данными\" data-toc-modified-id=\"Ознакомление-с-данными-2.1\"><span class=\"toc-item-num\">2.1&nbsp;&nbsp;</span>Ознакомление с данными</a></span></li><li><span><a href=\"#Работа-с-типами-данных\" data-toc-modified-id=\"Работа-с-типами-данных-2.2\"><span class=\"toc-item-num\">2.2&nbsp;&nbsp;</span>Работа с типами данных</a></span></li><li><span><a href=\"#Работа-с-пропусками\" data-toc-modified-id=\"Работа-с-пропусками-2.3\"><span class=\"toc-item-num\">2.3&nbsp;&nbsp;</span>Работа с пропусками</a></span></li><li><span><a href=\"#Работа-с-дубликатами\" data-toc-modified-id=\"Работа-с-дубликатами-2.4\"><span class=\"toc-item-num\">2.4&nbsp;&nbsp;</span>Работа с дубликатами</a></span></li><li><span><a href=\"#Проверка-теста-на-соответствие-техническому-заданию\" data-toc-modified-id=\"Проверка-теста-на-соответствие-техническому-заданию-2.5\"><span class=\"toc-item-num\">2.5&nbsp;&nbsp;</span>Проверка теста на соответствие техническому заданию</a></span></li></ul></li><li><span><a href=\"#Корректировка-данных-в-соответствии-с-ТЗ\" data-toc-modified-id=\"Корректировка-данных-в-соответствии-с-ТЗ-3\"><span class=\"toc-item-num\">3&nbsp;&nbsp;</span>Корректировка данных в соответствии с ТЗ</a></span><ul class=\"toc-item\"><li><span><a href=\"#Период-регистрации-новых-пользователей\" data-toc-modified-id=\"Период-регистрации-новых-пользователей-3.1\"><span class=\"toc-item-num\">3.1&nbsp;&nbsp;</span>Период регистрации новых пользователей</a></span></li><li><span><a href=\"#Период-активности-пользователей\" data-toc-modified-id=\"Период-активности-пользователей-3.2\"><span class=\"toc-item-num\">3.2&nbsp;&nbsp;</span>Период активности пользователей</a></span></li><li><span><a href=\"#Аудитория-теста\" data-toc-modified-id=\"Аудитория-теста-3.3\"><span class=\"toc-item-num\">3.3&nbsp;&nbsp;</span>Аудитория теста</a></span></li><li><span><a href=\"#Назначение-теста\" data-toc-modified-id=\"Назначение-теста-3.4\"><span class=\"toc-item-num\">3.4&nbsp;&nbsp;</span>Назначение теста</a></span></li><li><span><a href=\"#&quot;Пересекающиеся&quot;-пользователи\" data-toc-modified-id=\"&quot;Пересекающиеся&quot;-пользователи-3.5\"><span class=\"toc-item-num\">3.5&nbsp;&nbsp;</span>\"Пересекающиеся\" пользователи</a></span></li><li><span><a href=\"#Объем-аудитории\" data-toc-modified-id=\"Объем-аудитории-3.6\"><span class=\"toc-item-num\">3.6&nbsp;&nbsp;</span>Объем аудитории</a></span></li><li><span><a href=\"#Количество-участников-теста\" data-toc-modified-id=\"Количество-участников-теста-3.7\"><span class=\"toc-item-num\">3.7&nbsp;&nbsp;</span>Количество участников теста</a></span></li><li><span><a href=\"#Ожидаемый-эффект\" data-toc-modified-id=\"Ожидаемый-эффект-3.8\"><span class=\"toc-item-num\">3.8&nbsp;&nbsp;</span>Ожидаемый эффект</a></span></li><li><span><a href=\"#Маркетинговые-активности-в-период-теста\" data-toc-modified-id=\"Маркетинговые-активности-в-период-теста-3.9\"><span class=\"toc-item-num\">3.9&nbsp;&nbsp;</span>Маркетинговые активности в период теста</a></span></li><li><span><a href=\"#Качество-данных\" data-toc-modified-id=\"Качество-данных-3.10\"><span class=\"toc-item-num\">3.10&nbsp;&nbsp;</span>Качество данных</a></span></li></ul></li><li><span><a href=\"#Исследовательский-анализ-данных\" data-toc-modified-id=\"Исследовательский-анализ-данных-4\"><span class=\"toc-item-num\">4&nbsp;&nbsp;</span>Исследовательский анализ данных</a></span><ul class=\"toc-item\"><li><span><a href=\"#Распределение-событий-по-частоте\" data-toc-modified-id=\"Распределение-событий-по-частоте-4.1\"><span class=\"toc-item-num\">4.1&nbsp;&nbsp;</span>Распределение событий по частоте</a></span></li><li><span><a href=\"#Распределение-событий-по-дням\" data-toc-modified-id=\"Распределение-событий-по-дням-4.2\"><span class=\"toc-item-num\">4.2&nbsp;&nbsp;</span>Распределение событий по дням</a></span></li><li><span><a href=\"#Воронка-событий\" data-toc-modified-id=\"Воронка-событий-4.3\"><span class=\"toc-item-num\">4.3&nbsp;&nbsp;</span>Воронка событий</a></span></li><li><span><a href=\"#Особенности-данных\" data-toc-modified-id=\"Особенности-данных-4.4\"><span class=\"toc-item-num\">4.4&nbsp;&nbsp;</span>Особенности данных</a></span></li></ul></li><li><span><a href=\"#Оценка-результатов-A/B-тестирования\" data-toc-modified-id=\"Оценка-результатов-A/B-тестирования-5\"><span class=\"toc-item-num\">5&nbsp;&nbsp;</span>Оценка результатов A/B-тестирования</a></span><ul class=\"toc-item\"><li><span><a href=\"#Проведение-теста\" data-toc-modified-id=\"Проведение-теста-5.1\"><span class=\"toc-item-num\">5.1&nbsp;&nbsp;</span>Проведение теста</a></span></li></ul></li><li><span><a href=\"#Выводы\" data-toc-modified-id=\"Выводы-6\"><span class=\"toc-item-num\">6&nbsp;&nbsp;</span>Выводы</a></span></li></ul></div>"
   ]
  },
  {
   "cell_type": "markdown",
   "id": "b5f05ec1",
   "metadata": {},
   "source": [
    "# Оценка результатов A/B-теста"
   ]
  },
  {
   "cell_type": "markdown",
   "id": "f646b245",
   "metadata": {},
   "source": [
    "## Цели и ход исследования"
   ]
  },
  {
   "cell_type": "markdown",
   "id": "8f20ce82",
   "metadata": {},
   "source": [
    "Из открытых источников в нашем распоряжении находится датасет, описывающий действия пользователей, техническое задание, а также несколько вспомогательных датасетов. С целью определения ожидаемого эффекта необходимо оценить корректность проведения теста и проанализируйте его результаты.\n",
    "\n",
    "**Цели исследования:**\n",
    "1. Ознакомится с датасетами и выполнить первичную предобработку данных;\n",
    "2. Проверить и скорректировать данные в соответствии с техническим заданием;\n",
    "3. Провести исследовательский анализ данных;\n",
    "4. Оценить результаты A/B-тестирования;\n",
    "5. Сформировать общие выводы."
   ]
  },
  {
   "cell_type": "markdown",
   "id": "b4a4fc99",
   "metadata": {},
   "source": [
    "## Предобработка данных"
   ]
  },
  {
   "cell_type": "markdown",
   "id": "2fbd7eff",
   "metadata": {},
   "source": [
    "### Ознакомление с данными"
   ]
  },
  {
   "cell_type": "markdown",
   "id": "baa9dca8",
   "metadata": {},
   "source": [
    "Импортируем необходимые для работы библиотеки и присвоим датасет в переменную."
   ]
  },
  {
   "cell_type": "code",
   "execution_count": 108,
   "id": "ea723ed8",
   "metadata": {},
   "outputs": [],
   "source": [
    "# Импортируем необходимые библиотеки\n",
    "import pandas as pd\n",
    "import datetime as dt\n",
    "import numpy as np\n",
    "import math as mth\n",
    "import matplotlib.pyplot as plt\n",
    "import plotly.express as px\n",
    "from scipy import stats as st\n",
    "from plotly import graph_objects as go\n",
    "from plotly.subplots import make_subplots"
   ]
  },
  {
   "cell_type": "code",
   "execution_count": 109,
   "id": "1e63d0d6",
   "metadata": {
    "scrolled": false
   },
   "outputs": [
    {
     "data": {
      "text/html": [
       "<div>\n",
       "<style scoped>\n",
       "    .dataframe tbody tr th:only-of-type {\n",
       "        vertical-align: middle;\n",
       "    }\n",
       "\n",
       "    .dataframe tbody tr th {\n",
       "        vertical-align: top;\n",
       "    }\n",
       "\n",
       "    .dataframe thead th {\n",
       "        text-align: right;\n",
       "    }\n",
       "</style>\n",
       "<table border=\"1\" class=\"dataframe\">\n",
       "  <thead>\n",
       "    <tr style=\"text-align: right;\">\n",
       "      <th></th>\n",
       "      <th>name</th>\n",
       "      <th>regions</th>\n",
       "      <th>start_dt</th>\n",
       "      <th>finish_dt</th>\n",
       "    </tr>\n",
       "  </thead>\n",
       "  <tbody>\n",
       "    <tr>\n",
       "      <th>0</th>\n",
       "      <td>Christmas&amp;New Year Promo</td>\n",
       "      <td>EU, N.America</td>\n",
       "      <td>2020-12-25</td>\n",
       "      <td>2021-01-03</td>\n",
       "    </tr>\n",
       "    <tr>\n",
       "      <th>1</th>\n",
       "      <td>St. Valentine's Day Giveaway</td>\n",
       "      <td>EU, CIS, APAC, N.America</td>\n",
       "      <td>2020-02-14</td>\n",
       "      <td>2020-02-16</td>\n",
       "    </tr>\n",
       "    <tr>\n",
       "      <th>2</th>\n",
       "      <td>St. Patric's Day Promo</td>\n",
       "      <td>EU, N.America</td>\n",
       "      <td>2020-03-17</td>\n",
       "      <td>2020-03-19</td>\n",
       "    </tr>\n",
       "    <tr>\n",
       "      <th>3</th>\n",
       "      <td>Easter Promo</td>\n",
       "      <td>EU, CIS, APAC, N.America</td>\n",
       "      <td>2020-04-12</td>\n",
       "      <td>2020-04-19</td>\n",
       "    </tr>\n",
       "    <tr>\n",
       "      <th>4</th>\n",
       "      <td>4th of July Promo</td>\n",
       "      <td>N.America</td>\n",
       "      <td>2020-07-04</td>\n",
       "      <td>2020-07-11</td>\n",
       "    </tr>\n",
       "    <tr>\n",
       "      <th>5</th>\n",
       "      <td>Black Friday Ads Campaign</td>\n",
       "      <td>EU, CIS, APAC, N.America</td>\n",
       "      <td>2020-11-26</td>\n",
       "      <td>2020-12-01</td>\n",
       "    </tr>\n",
       "    <tr>\n",
       "      <th>6</th>\n",
       "      <td>Chinese New Year Promo</td>\n",
       "      <td>APAC</td>\n",
       "      <td>2020-01-25</td>\n",
       "      <td>2020-02-07</td>\n",
       "    </tr>\n",
       "    <tr>\n",
       "      <th>7</th>\n",
       "      <td>Labor day (May 1st) Ads Campaign</td>\n",
       "      <td>EU, CIS, APAC</td>\n",
       "      <td>2020-05-01</td>\n",
       "      <td>2020-05-03</td>\n",
       "    </tr>\n",
       "    <tr>\n",
       "      <th>8</th>\n",
       "      <td>International Women's Day Promo</td>\n",
       "      <td>EU, CIS, APAC</td>\n",
       "      <td>2020-03-08</td>\n",
       "      <td>2020-03-10</td>\n",
       "    </tr>\n",
       "    <tr>\n",
       "      <th>9</th>\n",
       "      <td>Victory Day CIS (May 9th) Event</td>\n",
       "      <td>CIS</td>\n",
       "      <td>2020-05-09</td>\n",
       "      <td>2020-05-11</td>\n",
       "    </tr>\n",
       "    <tr>\n",
       "      <th>10</th>\n",
       "      <td>CIS New Year Gift Lottery</td>\n",
       "      <td>CIS</td>\n",
       "      <td>2020-12-30</td>\n",
       "      <td>2021-01-07</td>\n",
       "    </tr>\n",
       "    <tr>\n",
       "      <th>11</th>\n",
       "      <td>Dragon Boat Festival Giveaway</td>\n",
       "      <td>APAC</td>\n",
       "      <td>2020-06-25</td>\n",
       "      <td>2020-07-01</td>\n",
       "    </tr>\n",
       "    <tr>\n",
       "      <th>12</th>\n",
       "      <td>Single's Day Gift Promo</td>\n",
       "      <td>APAC</td>\n",
       "      <td>2020-11-11</td>\n",
       "      <td>2020-11-12</td>\n",
       "    </tr>\n",
       "    <tr>\n",
       "      <th>13</th>\n",
       "      <td>Chinese Moon Festival</td>\n",
       "      <td>APAC</td>\n",
       "      <td>2020-10-01</td>\n",
       "      <td>2020-10-07</td>\n",
       "    </tr>\n",
       "  </tbody>\n",
       "</table>\n",
       "</div>"
      ],
      "text/plain": [
       "                                name                   regions    start_dt  \\\n",
       "0           Christmas&New Year Promo             EU, N.America  2020-12-25   \n",
       "1       St. Valentine's Day Giveaway  EU, CIS, APAC, N.America  2020-02-14   \n",
       "2             St. Patric's Day Promo             EU, N.America  2020-03-17   \n",
       "3                       Easter Promo  EU, CIS, APAC, N.America  2020-04-12   \n",
       "4                  4th of July Promo                 N.America  2020-07-04   \n",
       "5          Black Friday Ads Campaign  EU, CIS, APAC, N.America  2020-11-26   \n",
       "6             Chinese New Year Promo                      APAC  2020-01-25   \n",
       "7   Labor day (May 1st) Ads Campaign             EU, CIS, APAC  2020-05-01   \n",
       "8    International Women's Day Promo             EU, CIS, APAC  2020-03-08   \n",
       "9    Victory Day CIS (May 9th) Event                       CIS  2020-05-09   \n",
       "10         CIS New Year Gift Lottery                       CIS  2020-12-30   \n",
       "11     Dragon Boat Festival Giveaway                      APAC  2020-06-25   \n",
       "12           Single's Day Gift Promo                      APAC  2020-11-11   \n",
       "13             Chinese Moon Festival                      APAC  2020-10-01   \n",
       "\n",
       "     finish_dt  \n",
       "0   2021-01-03  \n",
       "1   2020-02-16  \n",
       "2   2020-03-19  \n",
       "3   2020-04-19  \n",
       "4   2020-07-11  \n",
       "5   2020-12-01  \n",
       "6   2020-02-07  \n",
       "7   2020-05-03  \n",
       "8   2020-03-10  \n",
       "9   2020-05-11  \n",
       "10  2021-01-07  \n",
       "11  2020-07-01  \n",
       "12  2020-11-12  \n",
       "13  2020-10-07  "
      ]
     },
     "metadata": {},
     "output_type": "display_data"
    },
    {
     "data": {
      "text/html": [
       "<div>\n",
       "<style scoped>\n",
       "    .dataframe tbody tr th:only-of-type {\n",
       "        vertical-align: middle;\n",
       "    }\n",
       "\n",
       "    .dataframe tbody tr th {\n",
       "        vertical-align: top;\n",
       "    }\n",
       "\n",
       "    .dataframe thead th {\n",
       "        text-align: right;\n",
       "    }\n",
       "</style>\n",
       "<table border=\"1\" class=\"dataframe\">\n",
       "  <thead>\n",
       "    <tr style=\"text-align: right;\">\n",
       "      <th></th>\n",
       "      <th>user_id</th>\n",
       "      <th>first_date</th>\n",
       "      <th>region</th>\n",
       "      <th>device</th>\n",
       "    </tr>\n",
       "  </thead>\n",
       "  <tbody>\n",
       "    <tr>\n",
       "      <th>0</th>\n",
       "      <td>D72A72121175D8BE</td>\n",
       "      <td>2020-12-07</td>\n",
       "      <td>EU</td>\n",
       "      <td>PC</td>\n",
       "    </tr>\n",
       "    <tr>\n",
       "      <th>1</th>\n",
       "      <td>F1C668619DFE6E65</td>\n",
       "      <td>2020-12-07</td>\n",
       "      <td>N.America</td>\n",
       "      <td>Android</td>\n",
       "    </tr>\n",
       "    <tr>\n",
       "      <th>2</th>\n",
       "      <td>2E1BF1D4C37EA01F</td>\n",
       "      <td>2020-12-07</td>\n",
       "      <td>EU</td>\n",
       "      <td>PC</td>\n",
       "    </tr>\n",
       "    <tr>\n",
       "      <th>3</th>\n",
       "      <td>50734A22C0C63768</td>\n",
       "      <td>2020-12-07</td>\n",
       "      <td>EU</td>\n",
       "      <td>iPhone</td>\n",
       "    </tr>\n",
       "    <tr>\n",
       "      <th>4</th>\n",
       "      <td>E1BDDCE0DAFA2679</td>\n",
       "      <td>2020-12-07</td>\n",
       "      <td>N.America</td>\n",
       "      <td>iPhone</td>\n",
       "    </tr>\n",
       "    <tr>\n",
       "      <th>...</th>\n",
       "      <td>...</td>\n",
       "      <td>...</td>\n",
       "      <td>...</td>\n",
       "      <td>...</td>\n",
       "    </tr>\n",
       "    <tr>\n",
       "      <th>61728</th>\n",
       "      <td>1DB53B933257165D</td>\n",
       "      <td>2020-12-20</td>\n",
       "      <td>EU</td>\n",
       "      <td>Android</td>\n",
       "    </tr>\n",
       "    <tr>\n",
       "      <th>61729</th>\n",
       "      <td>538643EB4527ED03</td>\n",
       "      <td>2020-12-20</td>\n",
       "      <td>EU</td>\n",
       "      <td>Mac</td>\n",
       "    </tr>\n",
       "    <tr>\n",
       "      <th>61730</th>\n",
       "      <td>7ADEE837D5D8CBBD</td>\n",
       "      <td>2020-12-20</td>\n",
       "      <td>EU</td>\n",
       "      <td>PC</td>\n",
       "    </tr>\n",
       "    <tr>\n",
       "      <th>61731</th>\n",
       "      <td>1C7D23927835213F</td>\n",
       "      <td>2020-12-20</td>\n",
       "      <td>EU</td>\n",
       "      <td>iPhone</td>\n",
       "    </tr>\n",
       "    <tr>\n",
       "      <th>61732</th>\n",
       "      <td>8F04273BB2860229</td>\n",
       "      <td>2020-12-20</td>\n",
       "      <td>EU</td>\n",
       "      <td>Android</td>\n",
       "    </tr>\n",
       "  </tbody>\n",
       "</table>\n",
       "<p>61733 rows × 4 columns</p>\n",
       "</div>"
      ],
      "text/plain": [
       "                user_id  first_date     region   device\n",
       "0      D72A72121175D8BE  2020-12-07         EU       PC\n",
       "1      F1C668619DFE6E65  2020-12-07  N.America  Android\n",
       "2      2E1BF1D4C37EA01F  2020-12-07         EU       PC\n",
       "3      50734A22C0C63768  2020-12-07         EU   iPhone\n",
       "4      E1BDDCE0DAFA2679  2020-12-07  N.America   iPhone\n",
       "...                 ...         ...        ...      ...\n",
       "61728  1DB53B933257165D  2020-12-20         EU  Android\n",
       "61729  538643EB4527ED03  2020-12-20         EU      Mac\n",
       "61730  7ADEE837D5D8CBBD  2020-12-20         EU       PC\n",
       "61731  1C7D23927835213F  2020-12-20         EU   iPhone\n",
       "61732  8F04273BB2860229  2020-12-20         EU  Android\n",
       "\n",
       "[61733 rows x 4 columns]"
      ]
     },
     "metadata": {},
     "output_type": "display_data"
    },
    {
     "data": {
      "text/html": [
       "<div>\n",
       "<style scoped>\n",
       "    .dataframe tbody tr th:only-of-type {\n",
       "        vertical-align: middle;\n",
       "    }\n",
       "\n",
       "    .dataframe tbody tr th {\n",
       "        vertical-align: top;\n",
       "    }\n",
       "\n",
       "    .dataframe thead th {\n",
       "        text-align: right;\n",
       "    }\n",
       "</style>\n",
       "<table border=\"1\" class=\"dataframe\">\n",
       "  <thead>\n",
       "    <tr style=\"text-align: right;\">\n",
       "      <th></th>\n",
       "      <th>user_id</th>\n",
       "      <th>event_dt</th>\n",
       "      <th>event_name</th>\n",
       "      <th>details</th>\n",
       "    </tr>\n",
       "  </thead>\n",
       "  <tbody>\n",
       "    <tr>\n",
       "      <th>0</th>\n",
       "      <td>E1BDDCE0DAFA2679</td>\n",
       "      <td>2020-12-07 20:22:03</td>\n",
       "      <td>purchase</td>\n",
       "      <td>99.99</td>\n",
       "    </tr>\n",
       "    <tr>\n",
       "      <th>1</th>\n",
       "      <td>7B6452F081F49504</td>\n",
       "      <td>2020-12-07 09:22:53</td>\n",
       "      <td>purchase</td>\n",
       "      <td>9.99</td>\n",
       "    </tr>\n",
       "    <tr>\n",
       "      <th>2</th>\n",
       "      <td>9CD9F34546DF254C</td>\n",
       "      <td>2020-12-07 12:59:29</td>\n",
       "      <td>purchase</td>\n",
       "      <td>4.99</td>\n",
       "    </tr>\n",
       "    <tr>\n",
       "      <th>3</th>\n",
       "      <td>96F27A054B191457</td>\n",
       "      <td>2020-12-07 04:02:40</td>\n",
       "      <td>purchase</td>\n",
       "      <td>4.99</td>\n",
       "    </tr>\n",
       "    <tr>\n",
       "      <th>4</th>\n",
       "      <td>1FD7660FDF94CA1F</td>\n",
       "      <td>2020-12-07 10:15:09</td>\n",
       "      <td>purchase</td>\n",
       "      <td>4.99</td>\n",
       "    </tr>\n",
       "    <tr>\n",
       "      <th>...</th>\n",
       "      <td>...</td>\n",
       "      <td>...</td>\n",
       "      <td>...</td>\n",
       "      <td>...</td>\n",
       "    </tr>\n",
       "    <tr>\n",
       "      <th>440312</th>\n",
       "      <td>245E85F65C358E08</td>\n",
       "      <td>2020-12-30 19:35:55</td>\n",
       "      <td>login</td>\n",
       "      <td>NaN</td>\n",
       "    </tr>\n",
       "    <tr>\n",
       "      <th>440313</th>\n",
       "      <td>9385A108F5A0A7A7</td>\n",
       "      <td>2020-12-30 10:54:15</td>\n",
       "      <td>login</td>\n",
       "      <td>NaN</td>\n",
       "    </tr>\n",
       "    <tr>\n",
       "      <th>440314</th>\n",
       "      <td>DB650B7559AC6EAC</td>\n",
       "      <td>2020-12-30 10:59:09</td>\n",
       "      <td>login</td>\n",
       "      <td>NaN</td>\n",
       "    </tr>\n",
       "    <tr>\n",
       "      <th>440315</th>\n",
       "      <td>F80C9BDDEA02E53C</td>\n",
       "      <td>2020-12-30 09:53:39</td>\n",
       "      <td>login</td>\n",
       "      <td>NaN</td>\n",
       "    </tr>\n",
       "    <tr>\n",
       "      <th>440316</th>\n",
       "      <td>7AEC61159B672CC5</td>\n",
       "      <td>2020-12-30 11:36:13</td>\n",
       "      <td>login</td>\n",
       "      <td>NaN</td>\n",
       "    </tr>\n",
       "  </tbody>\n",
       "</table>\n",
       "<p>440317 rows × 4 columns</p>\n",
       "</div>"
      ],
      "text/plain": [
       "                 user_id             event_dt event_name  details\n",
       "0       E1BDDCE0DAFA2679  2020-12-07 20:22:03   purchase    99.99\n",
       "1       7B6452F081F49504  2020-12-07 09:22:53   purchase     9.99\n",
       "2       9CD9F34546DF254C  2020-12-07 12:59:29   purchase     4.99\n",
       "3       96F27A054B191457  2020-12-07 04:02:40   purchase     4.99\n",
       "4       1FD7660FDF94CA1F  2020-12-07 10:15:09   purchase     4.99\n",
       "...                  ...                  ...        ...      ...\n",
       "440312  245E85F65C358E08  2020-12-30 19:35:55      login      NaN\n",
       "440313  9385A108F5A0A7A7  2020-12-30 10:54:15      login      NaN\n",
       "440314  DB650B7559AC6EAC  2020-12-30 10:59:09      login      NaN\n",
       "440315  F80C9BDDEA02E53C  2020-12-30 09:53:39      login      NaN\n",
       "440316  7AEC61159B672CC5  2020-12-30 11:36:13      login      NaN\n",
       "\n",
       "[440317 rows x 4 columns]"
      ]
     },
     "metadata": {},
     "output_type": "display_data"
    },
    {
     "data": {
      "text/html": [
       "<div>\n",
       "<style scoped>\n",
       "    .dataframe tbody tr th:only-of-type {\n",
       "        vertical-align: middle;\n",
       "    }\n",
       "\n",
       "    .dataframe tbody tr th {\n",
       "        vertical-align: top;\n",
       "    }\n",
       "\n",
       "    .dataframe thead th {\n",
       "        text-align: right;\n",
       "    }\n",
       "</style>\n",
       "<table border=\"1\" class=\"dataframe\">\n",
       "  <thead>\n",
       "    <tr style=\"text-align: right;\">\n",
       "      <th></th>\n",
       "      <th>user_id</th>\n",
       "      <th>group</th>\n",
       "      <th>ab_test</th>\n",
       "    </tr>\n",
       "  </thead>\n",
       "  <tbody>\n",
       "    <tr>\n",
       "      <th>0</th>\n",
       "      <td>D1ABA3E2887B6A73</td>\n",
       "      <td>A</td>\n",
       "      <td>recommender_system_test</td>\n",
       "    </tr>\n",
       "    <tr>\n",
       "      <th>1</th>\n",
       "      <td>A7A3664BD6242119</td>\n",
       "      <td>A</td>\n",
       "      <td>recommender_system_test</td>\n",
       "    </tr>\n",
       "    <tr>\n",
       "      <th>2</th>\n",
       "      <td>DABC14FDDFADD29E</td>\n",
       "      <td>A</td>\n",
       "      <td>recommender_system_test</td>\n",
       "    </tr>\n",
       "    <tr>\n",
       "      <th>3</th>\n",
       "      <td>04988C5DF189632E</td>\n",
       "      <td>A</td>\n",
       "      <td>recommender_system_test</td>\n",
       "    </tr>\n",
       "    <tr>\n",
       "      <th>4</th>\n",
       "      <td>482F14783456D21B</td>\n",
       "      <td>B</td>\n",
       "      <td>recommender_system_test</td>\n",
       "    </tr>\n",
       "    <tr>\n",
       "      <th>...</th>\n",
       "      <td>...</td>\n",
       "      <td>...</td>\n",
       "      <td>...</td>\n",
       "    </tr>\n",
       "    <tr>\n",
       "      <th>18263</th>\n",
       "      <td>1D302F8688B91781</td>\n",
       "      <td>B</td>\n",
       "      <td>interface_eu_test</td>\n",
       "    </tr>\n",
       "    <tr>\n",
       "      <th>18264</th>\n",
       "      <td>3DE51B726983B657</td>\n",
       "      <td>A</td>\n",
       "      <td>interface_eu_test</td>\n",
       "    </tr>\n",
       "    <tr>\n",
       "      <th>18265</th>\n",
       "      <td>F501F79D332BE86C</td>\n",
       "      <td>A</td>\n",
       "      <td>interface_eu_test</td>\n",
       "    </tr>\n",
       "    <tr>\n",
       "      <th>18266</th>\n",
       "      <td>63FBE257B05F2245</td>\n",
       "      <td>A</td>\n",
       "      <td>interface_eu_test</td>\n",
       "    </tr>\n",
       "    <tr>\n",
       "      <th>18267</th>\n",
       "      <td>79F9ABFB029CF724</td>\n",
       "      <td>B</td>\n",
       "      <td>interface_eu_test</td>\n",
       "    </tr>\n",
       "  </tbody>\n",
       "</table>\n",
       "<p>18268 rows × 3 columns</p>\n",
       "</div>"
      ],
      "text/plain": [
       "                user_id group                  ab_test\n",
       "0      D1ABA3E2887B6A73     A  recommender_system_test\n",
       "1      A7A3664BD6242119     A  recommender_system_test\n",
       "2      DABC14FDDFADD29E     A  recommender_system_test\n",
       "3      04988C5DF189632E     A  recommender_system_test\n",
       "4      482F14783456D21B     B  recommender_system_test\n",
       "...                 ...   ...                      ...\n",
       "18263  1D302F8688B91781     B        interface_eu_test\n",
       "18264  3DE51B726983B657     A        interface_eu_test\n",
       "18265  F501F79D332BE86C     A        interface_eu_test\n",
       "18266  63FBE257B05F2245     A        interface_eu_test\n",
       "18267  79F9ABFB029CF724     B        interface_eu_test\n",
       "\n",
       "[18268 rows x 3 columns]"
      ]
     },
     "metadata": {},
     "output_type": "display_data"
    }
   ],
   "source": [
    "# Загружаем датасеты и присваиваем в переменные\n",
    "try:\n",
    "    # Синтаксис указания пути для облака\n",
    "    ab_project_marketing_events = pd.read_csv('/datasets/ab_project_marketing_events.csv')\n",
    "except:\n",
    "    # Синтаксис указания пути для Windows\n",
    "    ab_project_marketing_events = pd.read_csv(r\"D:\\Саша\\По IT\\Самостоятельные проекты\\8. Финальный проект\\4. A-B тест\\ab_project_marketing_events.csv\")\n",
    "display(ab_project_marketing_events)\n",
    "\n",
    "\n",
    "try:\n",
    "    final_ab_new_users = pd.read_csv('/datasets/final_ab_new_users.csv')\n",
    "except:\n",
    "    final_ab_new_users = pd.read_csv(r\"D:\\Саша\\По IT\\Самостоятельные проекты\\8. Финальный проект\\4. A-B тест\\final_ab_new_users.csv\")\n",
    "display(final_ab_new_users)\n",
    "\n",
    "\n",
    "try:\n",
    "    final_ab_events = pd.read_csv('/datasets/final_ab_events.csv')\n",
    "except:\n",
    "    final_ab_events = pd.read_csv(r\"D:\\Саша\\По IT\\Самостоятельные проекты\\8. Финальный проект\\4. A-B тест\\final_ab_events.csv\")\n",
    "display(final_ab_events)\n",
    "\n",
    "\n",
    "try:\n",
    "    final_ab_participants = pd.read_csv('/datasets/final_ab_participants.csv')\n",
    "except:\n",
    "    final_ab_participants = pd.read_csv(r\"D:\\Саша\\По IT\\Самостоятельные проекты\\8. Финальный проект\\4. A-B тест\\final_ab_participants.csv\")\n",
    "display(final_ab_participants)"
   ]
  },
  {
   "cell_type": "markdown",
   "id": "76a408a9",
   "metadata": {},
   "source": [
    "Объединим информацию о пользователях в единый датасет."
   ]
  },
  {
   "cell_type": "code",
   "execution_count": 110,
   "id": "8c932bed",
   "metadata": {},
   "outputs": [
    {
     "data": {
      "text/html": [
       "<div>\n",
       "<style scoped>\n",
       "    .dataframe tbody tr th:only-of-type {\n",
       "        vertical-align: middle;\n",
       "    }\n",
       "\n",
       "    .dataframe tbody tr th {\n",
       "        vertical-align: top;\n",
       "    }\n",
       "\n",
       "    .dataframe thead th {\n",
       "        text-align: right;\n",
       "    }\n",
       "</style>\n",
       "<table border=\"1\" class=\"dataframe\">\n",
       "  <thead>\n",
       "    <tr style=\"text-align: right;\">\n",
       "      <th></th>\n",
       "      <th>user_id</th>\n",
       "      <th>group</th>\n",
       "      <th>ab_test</th>\n",
       "      <th>registration_date</th>\n",
       "      <th>region</th>\n",
       "      <th>registration_device</th>\n",
       "      <th>event_date</th>\n",
       "      <th>event_name</th>\n",
       "      <th>details</th>\n",
       "    </tr>\n",
       "  </thead>\n",
       "  <tbody>\n",
       "    <tr>\n",
       "      <th>0</th>\n",
       "      <td>D1ABA3E2887B6A73</td>\n",
       "      <td>A</td>\n",
       "      <td>recommender_system_test</td>\n",
       "      <td>2020-12-07</td>\n",
       "      <td>EU</td>\n",
       "      <td>PC</td>\n",
       "      <td>2020-12-07 14:43:27</td>\n",
       "      <td>purchase</td>\n",
       "      <td>99.99</td>\n",
       "    </tr>\n",
       "    <tr>\n",
       "      <th>1</th>\n",
       "      <td>D1ABA3E2887B6A73</td>\n",
       "      <td>A</td>\n",
       "      <td>recommender_system_test</td>\n",
       "      <td>2020-12-07</td>\n",
       "      <td>EU</td>\n",
       "      <td>PC</td>\n",
       "      <td>2020-12-25 00:04:56</td>\n",
       "      <td>purchase</td>\n",
       "      <td>4.99</td>\n",
       "    </tr>\n",
       "    <tr>\n",
       "      <th>2</th>\n",
       "      <td>D1ABA3E2887B6A73</td>\n",
       "      <td>A</td>\n",
       "      <td>recommender_system_test</td>\n",
       "      <td>2020-12-07</td>\n",
       "      <td>EU</td>\n",
       "      <td>PC</td>\n",
       "      <td>2020-12-07 14:43:29</td>\n",
       "      <td>product_cart</td>\n",
       "      <td>NaN</td>\n",
       "    </tr>\n",
       "    <tr>\n",
       "      <th>3</th>\n",
       "      <td>D1ABA3E2887B6A73</td>\n",
       "      <td>A</td>\n",
       "      <td>recommender_system_test</td>\n",
       "      <td>2020-12-07</td>\n",
       "      <td>EU</td>\n",
       "      <td>PC</td>\n",
       "      <td>2020-12-25 00:04:57</td>\n",
       "      <td>product_cart</td>\n",
       "      <td>NaN</td>\n",
       "    </tr>\n",
       "    <tr>\n",
       "      <th>4</th>\n",
       "      <td>D1ABA3E2887B6A73</td>\n",
       "      <td>A</td>\n",
       "      <td>recommender_system_test</td>\n",
       "      <td>2020-12-07</td>\n",
       "      <td>EU</td>\n",
       "      <td>PC</td>\n",
       "      <td>2020-12-07 14:43:27</td>\n",
       "      <td>product_page</td>\n",
       "      <td>NaN</td>\n",
       "    </tr>\n",
       "  </tbody>\n",
       "</table>\n",
       "</div>"
      ],
      "text/plain": [
       "            user_id group                  ab_test registration_date region  \\\n",
       "0  D1ABA3E2887B6A73     A  recommender_system_test        2020-12-07     EU   \n",
       "1  D1ABA3E2887B6A73     A  recommender_system_test        2020-12-07     EU   \n",
       "2  D1ABA3E2887B6A73     A  recommender_system_test        2020-12-07     EU   \n",
       "3  D1ABA3E2887B6A73     A  recommender_system_test        2020-12-07     EU   \n",
       "4  D1ABA3E2887B6A73     A  recommender_system_test        2020-12-07     EU   \n",
       "\n",
       "  registration_device           event_date    event_name  details  \n",
       "0                  PC  2020-12-07 14:43:27      purchase    99.99  \n",
       "1                  PC  2020-12-25 00:04:56      purchase     4.99  \n",
       "2                  PC  2020-12-07 14:43:29  product_cart      NaN  \n",
       "3                  PC  2020-12-25 00:04:57  product_cart      NaN  \n",
       "4                  PC  2020-12-07 14:43:27  product_page      NaN  "
      ]
     },
     "execution_count": 110,
     "metadata": {},
     "output_type": "execute_result"
    }
   ],
   "source": [
    "# Присоединяем датасет \"final_ab_new_users\"\n",
    "final_ab_participants = final_ab_participants\\\n",
    "                        .merge(final_ab_new_users[['user_id', 'first_date', 'region', 'device']], how='left', on='user_id')\n",
    "\n",
    "# Присоединяем датасет \"final_ab_events\"\n",
    "final_ab_participants = final_ab_participants\\\n",
    "                        .merge(final_ab_events[['user_id', 'event_dt', 'event_name', 'details']], how='left', on='user_id')\n",
    "\n",
    "# Переименовываем столбцы\n",
    "final_ab_participants = final_ab_participants.rename(\n",
    "    columns={'first_date': 'registration_date', 'device': 'registration_device',\\\n",
    "             'event_dt': 'event_date', 'device': 'registration_device'}\n",
    ")\n",
    "\n",
    "final_ab_participants.head()"
   ]
  },
  {
   "cell_type": "markdown",
   "id": "e963fe7f",
   "metadata": {},
   "source": [
    "### Работа с типами данных"
   ]
  },
  {
   "cell_type": "markdown",
   "id": "e67121fa",
   "metadata": {},
   "source": [
    "Получим общую информацию о датасетах с помощью метода `info()`."
   ]
  },
  {
   "cell_type": "code",
   "execution_count": 111,
   "id": "9679a67b",
   "metadata": {
    "scrolled": false
   },
   "outputs": [
    {
     "name": "stdout",
     "output_type": "stream",
     "text": [
      "<class 'pandas.core.frame.DataFrame'>\n",
      "RangeIndex: 14 entries, 0 to 13\n",
      "Data columns (total 4 columns):\n",
      " #   Column     Non-Null Count  Dtype \n",
      "---  ------     --------------  ----- \n",
      " 0   name       14 non-null     object\n",
      " 1   regions    14 non-null     object\n",
      " 2   start_dt   14 non-null     object\n",
      " 3   finish_dt  14 non-null     object\n",
      "dtypes: object(4)\n",
      "memory usage: 576.0+ bytes\n"
     ]
    },
    {
     "data": {
      "text/plain": [
       "None"
      ]
     },
     "metadata": {},
     "output_type": "display_data"
    },
    {
     "name": "stdout",
     "output_type": "stream",
     "text": [
      "<class 'pandas.core.frame.DataFrame'>\n",
      "Int64Index: 110368 entries, 0 to 110367\n",
      "Data columns (total 9 columns):\n",
      " #   Column               Non-Null Count   Dtype  \n",
      "---  ------               --------------   -----  \n",
      " 0   user_id              110368 non-null  object \n",
      " 1   group                110368 non-null  object \n",
      " 2   ab_test              110368 non-null  object \n",
      " 3   registration_date    110368 non-null  object \n",
      " 4   region               110368 non-null  object \n",
      " 5   registration_device  110368 non-null  object \n",
      " 6   event_date           106625 non-null  object \n",
      " 7   event_name           106625 non-null  object \n",
      " 8   details              15416 non-null   float64\n",
      "dtypes: float64(1), object(8)\n",
      "memory usage: 8.4+ MB\n"
     ]
    },
    {
     "data": {
      "text/plain": [
       "None"
      ]
     },
     "metadata": {},
     "output_type": "display_data"
    }
   ],
   "source": [
    "display(ab_project_marketing_events.info())\n",
    "display(final_ab_participants.info())"
   ]
  },
  {
   "cell_type": "markdown",
   "id": "9edcb977",
   "metadata": {},
   "source": [
    "Данные в столбцах с датой имеют неверный тип данных. Приведем столбцы к необходимому формату."
   ]
  },
  {
   "cell_type": "code",
   "execution_count": 112,
   "id": "ec49d5af",
   "metadata": {
    "scrolled": false
   },
   "outputs": [
    {
     "name": "stdout",
     "output_type": "stream",
     "text": [
      "<class 'pandas.core.frame.DataFrame'>\n",
      "RangeIndex: 14 entries, 0 to 13\n",
      "Data columns (total 4 columns):\n",
      " #   Column     Non-Null Count  Dtype         \n",
      "---  ------     --------------  -----         \n",
      " 0   name       14 non-null     object        \n",
      " 1   regions    14 non-null     object        \n",
      " 2   start_dt   14 non-null     datetime64[ns]\n",
      " 3   finish_dt  14 non-null     object        \n",
      "dtypes: datetime64[ns](1), object(3)\n",
      "memory usage: 576.0+ bytes\n"
     ]
    },
    {
     "data": {
      "text/plain": [
       "None"
      ]
     },
     "metadata": {},
     "output_type": "display_data"
    },
    {
     "name": "stdout",
     "output_type": "stream",
     "text": [
      "<class 'pandas.core.frame.DataFrame'>\n",
      "Int64Index: 110368 entries, 0 to 110367\n",
      "Data columns (total 9 columns):\n",
      " #   Column               Non-Null Count   Dtype         \n",
      "---  ------               --------------   -----         \n",
      " 0   user_id              110368 non-null  object        \n",
      " 1   group                110368 non-null  object        \n",
      " 2   ab_test              110368 non-null  object        \n",
      " 3   registration_date    110368 non-null  datetime64[ns]\n",
      " 4   region               110368 non-null  object        \n",
      " 5   registration_device  110368 non-null  object        \n",
      " 6   event_date           106625 non-null  datetime64[ns]\n",
      " 7   event_name           106625 non-null  object        \n",
      " 8   details              15416 non-null   float64       \n",
      "dtypes: datetime64[ns](2), float64(1), object(6)\n",
      "memory usage: 8.4+ MB\n"
     ]
    },
    {
     "data": {
      "text/plain": [
       "None"
      ]
     },
     "metadata": {},
     "output_type": "display_data"
    }
   ],
   "source": [
    "# Проверим корректность измененных типов данных\n",
    "ab_project_marketing_events['start_dt'] = pd.to_datetime(ab_project_marketing_events['start_dt'])\n",
    "display(ab_project_marketing_events.info())\n",
    "\n",
    "final_ab_participants['registration_date'] = pd.to_datetime(final_ab_participants['registration_date'])\n",
    "final_ab_participants['event_date'] = pd.to_datetime(final_ab_participants['event_date'])\n",
    "\n",
    "display(final_ab_participants.info())"
   ]
  },
  {
   "cell_type": "markdown",
   "id": "59b120ac",
   "metadata": {},
   "source": [
    "### Работа с пропусками"
   ]
  },
  {
   "cell_type": "markdown",
   "id": "3ee10b53",
   "metadata": {},
   "source": [
    "Проверим данные на пропуски."
   ]
  },
  {
   "cell_type": "code",
   "execution_count": 113,
   "id": "56b93949",
   "metadata": {
    "scrolled": false
   },
   "outputs": [
    {
     "data": {
      "text/plain": [
       "name         0\n",
       "regions      0\n",
       "start_dt     0\n",
       "finish_dt    0\n",
       "dtype: int64"
      ]
     },
     "metadata": {},
     "output_type": "display_data"
    },
    {
     "data": {
      "text/plain": [
       "user_id                    0\n",
       "group                      0\n",
       "ab_test                    0\n",
       "registration_date          0\n",
       "region                     0\n",
       "registration_device        0\n",
       "event_date              3743\n",
       "event_name              3743\n",
       "details                94952\n",
       "dtype: int64"
      ]
     },
     "metadata": {},
     "output_type": "display_data"
    }
   ],
   "source": [
    "# Выявим количество пропущенных значений в таблицах\n",
    "display(ab_project_marketing_events.isna().sum())\n",
    "display(final_ab_participants.isna().sum())"
   ]
  },
  {
   "cell_type": "markdown",
   "id": "66eec323",
   "metadata": {},
   "source": [
    "В датасете с информацией о пользователях наблюдаются пропуски в столбцах с датой и названием события, а также в столбце с дополнительными данными о событии. Так как пропуски в столбце `details` имеют место быть ввиду наличия стоимости покупок для определенного типа события, необходимо отфильтровать пользователей, у которых отсутствует дата и название события. Определить конверсию по таким пользователям будет невозможно ввиду отсутствия целевого действия."
   ]
  },
  {
   "cell_type": "code",
   "execution_count": 114,
   "id": "16e40d24",
   "metadata": {},
   "outputs": [
    {
     "data": {
      "text/plain": [
       "user_id                    0\n",
       "group                      0\n",
       "ab_test                    0\n",
       "registration_date          0\n",
       "region                     0\n",
       "registration_device        0\n",
       "event_date                 0\n",
       "event_name                 0\n",
       "details                91209\n",
       "dtype: int64"
      ]
     },
     "execution_count": 114,
     "metadata": {},
     "output_type": "execute_result"
    }
   ],
   "source": [
    "final_ab_participants = final_ab_participants.dropna(subset=['event_date', 'event_name'])\n",
    "\n",
    "final_ab_participants.isna().sum()"
   ]
  },
  {
   "cell_type": "markdown",
   "id": "2385ea6f",
   "metadata": {},
   "source": [
    "### Работа с дубликатами"
   ]
  },
  {
   "cell_type": "markdown",
   "id": "f13225e8",
   "metadata": {},
   "source": [
    "Проверим данные на дубликаты."
   ]
  },
  {
   "cell_type": "code",
   "execution_count": 115,
   "id": "1c616127",
   "metadata": {
    "scrolled": false
   },
   "outputs": [
    {
     "name": "stdout",
     "output_type": "stream",
     "text": [
      "Количество дубликатов в датасете \"ab_project_marketing_events\": 0\n",
      "Количество дубликатов в датасете \"final_ab_participants\": 0\n"
     ]
    }
   ],
   "source": [
    "# Проверим каждую из таблиц на явные дубликаты\n",
    "print ('Количество дубликатов в датасете \"ab_project_marketing_events\":', ab_project_marketing_events.duplicated().sum())\n",
    "print ('Количество дубликатов в датасете \"final_ab_participants\":', final_ab_participants.duplicated().sum())"
   ]
  },
  {
   "cell_type": "markdown",
   "id": "62bfa7b1",
   "metadata": {},
   "source": [
    "Явные дубликаты в датасетах отсутствуют."
   ]
  },
  {
   "cell_type": "markdown",
   "id": "2930fa48",
   "metadata": {},
   "source": [
    "### Проверка теста на соответствие техническому заданию"
   ]
  },
  {
   "cell_type": "markdown",
   "id": "d1b5394b",
   "metadata": {},
   "source": [
    "Определим за какие периоды находятся данные в нашем распоряжении, найдя минимальную и максимальную даты."
   ]
  },
  {
   "cell_type": "code",
   "execution_count": 116,
   "id": "4d1bd051",
   "metadata": {},
   "outputs": [
    {
     "name": "stdout",
     "output_type": "stream",
     "text": [
      "Период регистрации новых пользователей: 2020-12-07 00:00:00 – 2020-12-23 00:00:00\n",
      "Период действий новых пользователей: 2020-12-07 00:02:48 – 2020-12-30 18:28:55\n"
     ]
    }
   ],
   "source": [
    "print('Период регистрации новых пользователей:', final_ab_participants['registration_date'].min(),\\\n",
    "      '–', final_ab_participants['registration_date'].max())\n",
    "\n",
    "print('Период действий новых пользователей:', final_ab_participants['event_date'].min(),\\\n",
    "      '–', final_ab_participants['event_date'].max())"
   ]
  },
  {
   "cell_type": "markdown",
   "id": "5f686602",
   "metadata": {},
   "source": [
    "Часть данных не соответствует техническому заданию. Не смотря на совпадение даты запуска теста (07 декабря 2020 года), дата остановки набора больше на 2 дня (23 декабря вместо 21 декабря).\n",
    "\n",
    "Несоответветствие дат техническому заданию также наблюдается в столбце \"event_date\" где действия новых пользователей завершаются раньше на 4 дня (30 декабря 2020 года вместо 04 января 2021 года)."
   ]
  },
  {
   "cell_type": "markdown",
   "id": "567af036",
   "metadata": {},
   "source": [
    "## Корректировка данных в соответствии с ТЗ"
   ]
  },
  {
   "cell_type": "markdown",
   "id": "68301a78",
   "metadata": {},
   "source": [
    "### Период регистрации новых пользователей"
   ]
  },
  {
   "cell_type": "markdown",
   "id": "7924c7d8",
   "metadata": {},
   "source": [
    "Основываясь на техническом, задании отфильтруем пользователей зарегистрировавшихся после 21 декабря 2020 года."
   ]
  },
  {
   "cell_type": "code",
   "execution_count": 117,
   "id": "d55cb29f",
   "metadata": {
    "scrolled": false
   },
   "outputs": [
    {
     "name": "stdout",
     "output_type": "stream",
     "text": [
      "Период регистрации новых пользователей: 2020-12-07 00:00:00 – 2020-12-21 00:00:00\n"
     ]
    }
   ],
   "source": [
    "final_ab_participants = final_ab_participants.query('registration_date <= \"2020-12-21\"')\n",
    "\n",
    "print('Период регистрации новых пользователей:', final_ab_participants['registration_date'].min(),\\\n",
    "      '–', final_ab_participants['registration_date'].max())"
   ]
  },
  {
   "cell_type": "markdown",
   "id": "219e4e68",
   "metadata": {},
   "source": [
    "### Период активности пользователей"
   ]
  },
  {
   "cell_type": "markdown",
   "id": "d880983c",
   "metadata": {},
   "source": [
    "Согласно техническому заданию, ожидаемый эффект должен наблюдаться в течении 14 дней после регистрации нового пользователя. \n",
    "\n",
    "Определим покупателей с показателем `lifetime` больше двух недель и отфильтруем таких пользователей."
   ]
  },
  {
   "cell_type": "code",
   "execution_count": 118,
   "id": "42d65890",
   "metadata": {
    "scrolled": false
   },
   "outputs": [
    {
     "name": "stdout",
     "output_type": "stream",
     "text": [
      "Количество пользователей в оригинальном датасете: 12636\n",
      "Количество пользователей в обновленном датасете: 11509\n"
     ]
    }
   ],
   "source": [
    "# Сгруппируем пользователей по минимальной дате \"event_date\" (начала периода активности)\n",
    "final_ab_participants2 = final_ab_participants.pivot_table(index='user_id', aggfunc={'event_date': 'min'})\n",
    "final_ab_participants2 = final_ab_participants2.reset_index()\n",
    "\n",
    "# Сгруппируем пользователей по максимальной дате \"event_date\" (конец периода активности)\n",
    "final_ab_participants3 = final_ab_participants.pivot_table(index='user_id', aggfunc={'event_date': 'max'})\n",
    "final_ab_participants3 = final_ab_participants3.reset_index()\n",
    "\n",
    "# Переименуем столбцы и соединим таблицы\n",
    "final_ab_participants2 = final_ab_participants2.rename(columns={'event_date': 'event_date_start'})\n",
    "final_ab_participants3 = final_ab_participants3.rename(columns={'event_date': 'event_date_end'})\n",
    "final_ab_participants2 = final_ab_participants2\\\n",
    "                        .merge(final_ab_participants3[['user_id', 'event_date_end']], on='user_id')\n",
    "\n",
    "# Вычислим количество дней между датами (период активности пользователей в днях)\n",
    "final_ab_participants2['days_diff'] = (final_ab_participants2['event_date_end'] - final_ab_participants2['event_date_start']).dt.days\n",
    "\n",
    "# Определим пользователей, проявлявших активность более 14 дней\n",
    "final_ab_participants2 = final_ab_participants2.query('days_diff >= 15')\n",
    "\n",
    "print('Количество пользователей в оригинальном датасете:', final_ab_participants['user_id'].nunique())\n",
    "\n",
    "# Поместим всех пользователей с активностью более 14 дней в переменную \"users_list\"\n",
    "# и отфильтруем датасет от таких покупателей\n",
    "users_list = final_ab_participants2['user_id'].tolist()\n",
    "final_ab_participants = final_ab_participants.query('user_id != @users_list')\n",
    "\n",
    "print('Количество пользователей в обновленном датасете:', final_ab_participants['user_id'].nunique())"
   ]
  },
  {
   "cell_type": "markdown",
   "id": "4979a977",
   "metadata": {},
   "source": [
    "В датасете стало на 1 127 пользователей меньше."
   ]
  },
  {
   "cell_type": "markdown",
   "id": "46130199",
   "metadata": {},
   "source": [
    "### Аудитория теста"
   ]
  },
  {
   "cell_type": "markdown",
   "id": "ef137f06",
   "metadata": {},
   "source": [
    "При анализе теста нас интересуют только пользователи из Европы, так как если в него попадут пользователи из других регионов, это может помешать проведению нашего теста. Отфильтруем пользователей из других регионов."
   ]
  },
  {
   "cell_type": "code",
   "execution_count": 119,
   "id": "227cef44",
   "metadata": {},
   "outputs": [
    {
     "name": "stdout",
     "output_type": "stream",
     "text": [
      "Регионы регистрации новых пользователей: ['EU']\n"
     ]
    }
   ],
   "source": [
    "final_ab_participants = final_ab_participants.query('region == \"EU\"')\n",
    "\n",
    "final_ab_participants.head()\n",
    "\n",
    "print('Регионы регистрации новых пользователей:', final_ab_participants['region'].unique())"
   ]
  },
  {
   "cell_type": "markdown",
   "id": "48d921fb",
   "metadata": {},
   "source": [
    "### Назначение теста"
   ]
  },
  {
   "cell_type": "markdown",
   "id": "a55ee5e3",
   "metadata": {},
   "source": [
    "Назначением теста является тестирование изменений, связанных с внедрением улучшенной рекомендательной системы. Таким образом нас интересуют только пользователи c названием теста `recommender_system_test`. Тест с названием `interface_eu_test` является конкурирующим и может нарушить результаты нашего, в связи с чем отфильтруем таких пользователей."
   ]
  },
  {
   "cell_type": "code",
   "execution_count": 120,
   "id": "77439be0",
   "metadata": {
    "scrolled": false
   },
   "outputs": [
    {
     "name": "stdout",
     "output_type": "stream",
     "text": [
      "Названия тестов в датасете: ['recommender_system_test']\n"
     ]
    }
   ],
   "source": [
    "final_ab_participants = final_ab_participants.query('ab_test != \"interface_eu_test\"')\n",
    "\n",
    "print('Названия тестов в датасете:', final_ab_participants['ab_test'].unique())"
   ]
  },
  {
   "cell_type": "markdown",
   "id": "84d19df6",
   "metadata": {},
   "source": [
    "### \"Пересекающиеся\" пользователи"
   ]
  },
  {
   "cell_type": "markdown",
   "id": "78ed2c12",
   "metadata": {},
   "source": [
    "Проверим группы на \"перресекающихся\" пользователей."
   ]
  },
  {
   "cell_type": "code",
   "execution_count": 121,
   "id": "c99eef93",
   "metadata": {
    "scrolled": true
   },
   "outputs": [
    {
     "name": "stdout",
     "output_type": "stream",
     "text": [
      "Количество \"пересекающихся\" пользователей: 0\n"
     ]
    }
   ],
   "source": [
    "print('Количество \"пересекающихся\" пользователей:',\\\n",
    "      final_ab_participants.groupby('user_id', as_index=False).group.nunique().query('group > 1').shape[0])"
   ]
  },
  {
   "cell_type": "markdown",
   "id": "f8001520",
   "metadata": {},
   "source": [
    "Наблюдается отсутствие \"пересекающихся\" пользователей в обеих группах эксперимента."
   ]
  },
  {
   "cell_type": "markdown",
   "id": "eea34a25",
   "metadata": {},
   "source": [
    "### Объем аудитории"
   ]
  },
  {
   "cell_type": "markdown",
   "id": "477ddda4",
   "metadata": {},
   "source": [
    "Одним из условий технического задания является наличие в тестируемой аудитории 15 % новых пользователей из региона \"EU\".\n",
    "\n",
    "Определим количество новых пользователей из данного региона, зарегистрировавшихся в период с 7 по 21 декабря 2020 года, а также долю данных пользователей, вошедших в итоговый тест."
   ]
  },
  {
   "cell_type": "code",
   "execution_count": 122,
   "id": "3bf99cf6",
   "metadata": {
    "scrolled": false
   },
   "outputs": [
    {
     "name": "stdout",
     "output_type": "stream",
     "text": [
      "Количество новых зарегистрированных пользователей из региона \"EU\": 42340\n",
      "Количество пользователей в итоговом тесте: 3259\n",
      "Доля новых зарегистрированных пользователей из региона \"EU\" в итоговом тесте, %: 7.7\n"
     ]
    }
   ],
   "source": [
    "# Сгруппируем пользователей по количеству совершенных действий с разбивкой на группы теста\n",
    "regions = final_ab_new_users.query('first_date <= \"2020-12-21\"')\\\n",
    "                            .pivot_table(index='region', values='user_id',aggfunc=['nunique']).droplevel(level=1, axis=1)\n",
    "\n",
    "regions['share, %'] = round(regions['nunique'] / regions['nunique'].sum() * 100, 2)\n",
    "\n",
    "print('Количество новых зарегистрированных пользователей из региона \"EU\":', regions['nunique'].values [2])\n",
    "print('Количество пользователей в итоговом тесте:', final_ab_participants['user_id'].nunique())\n",
    "print('Доля новых зарегистрированных пользователей из региона \"EU\" в итоговом тесте, %:',\\\n",
    "      round(final_ab_participants['user_id'].nunique() / regions['nunique'].values [2] * 100, 1))"
   ]
  },
  {
   "cell_type": "markdown",
   "id": "66a2ae09",
   "metadata": {},
   "source": [
    "В итоговом тесте наблюдается чуть менее 8 % аудитории из региона \"EU\", вместо необходимых 15 %."
   ]
  },
  {
   "cell_type": "markdown",
   "id": "44979686",
   "metadata": {},
   "source": [
    "### Количество участников теста"
   ]
  },
  {
   "cell_type": "markdown",
   "id": "f2185e66",
   "metadata": {},
   "source": [
    "Определим количество участвующих в тесте пользователей."
   ]
  },
  {
   "cell_type": "code",
   "execution_count": 123,
   "id": "8b364b47",
   "metadata": {
    "scrolled": true
   },
   "outputs": [
    {
     "name": "stdout",
     "output_type": "stream",
     "text": [
      "Количество участников теста: 3259\n"
     ]
    }
   ],
   "source": [
    "print('Количество участников теста:', final_ab_participants['user_id'].nunique())"
   ]
  },
  {
   "cell_type": "markdown",
   "id": "26cdb429",
   "metadata": {},
   "source": [
    "Количество участвующих в тесте пользователей менее 6 000 человек, что также не удовлетворяет условиям технического задания. "
   ]
  },
  {
   "cell_type": "markdown",
   "id": "4123befd",
   "metadata": {},
   "source": [
    "### Ожидаемый эффект"
   ]
  },
  {
   "cell_type": "markdown",
   "id": "8b0135b8",
   "metadata": {},
   "source": [
    "Узнаем количество участников в каждой из тестируемых групп и определим является ли их количество достаточным для проведения теста."
   ]
  },
  {
   "cell_type": "code",
   "execution_count": 124,
   "id": "0fd9c289",
   "metadata": {
    "scrolled": true
   },
   "outputs": [
    {
     "data": {
      "text/html": [
       "<div>\n",
       "<style scoped>\n",
       "    .dataframe tbody tr th:only-of-type {\n",
       "        vertical-align: middle;\n",
       "    }\n",
       "\n",
       "    .dataframe tbody tr th {\n",
       "        vertical-align: top;\n",
       "    }\n",
       "\n",
       "    .dataframe thead th {\n",
       "        text-align: right;\n",
       "    }\n",
       "</style>\n",
       "<table border=\"1\" class=\"dataframe\">\n",
       "  <thead>\n",
       "    <tr style=\"text-align: right;\">\n",
       "      <th></th>\n",
       "      <th>user_id</th>\n",
       "      <th>share, %</th>\n",
       "    </tr>\n",
       "    <tr>\n",
       "      <th>group</th>\n",
       "      <th></th>\n",
       "      <th></th>\n",
       "    </tr>\n",
       "  </thead>\n",
       "  <tbody>\n",
       "    <tr>\n",
       "      <th>A</th>\n",
       "      <td>2480</td>\n",
       "      <td>76.1</td>\n",
       "    </tr>\n",
       "    <tr>\n",
       "      <th>B</th>\n",
       "      <td>779</td>\n",
       "      <td>23.9</td>\n",
       "    </tr>\n",
       "  </tbody>\n",
       "</table>\n",
       "</div>"
      ],
      "text/plain": [
       "       user_id  share, %\n",
       "group                   \n",
       "A         2480      76.1\n",
       "B          779      23.9"
      ]
     },
     "execution_count": 124,
     "metadata": {},
     "output_type": "execute_result"
    }
   ],
   "source": [
    "groups = final_ab_participants.pivot_table(index='group', values='user_id', aggfunc='nunique')\n",
    "\n",
    "groups['share, %'] = round(groups['user_id'] / groups['user_id'].sum() * 100, 2)\n",
    "\n",
    "groups"
   ]
  },
  {
   "cell_type": "markdown",
   "id": "15bc6240",
   "metadata": {},
   "source": [
    "Исходя из того, что ожидаемый эффект конверсии каждой метрики должен составлять не менее 10 %, а базовый коэффициент конверсии также равен 10 % можно вычислить минимальный размер выборки для каждой группы – 14 000 человек. \n",
    "В таком случае количество пользователей в каждой из групп недостаточно.\n",
    "\n",
    "Также наблюдается несбалансированность выборок, что может повлиять на результаты теста."
   ]
  },
  {
   "cell_type": "markdown",
   "id": "c1cbeed4",
   "metadata": {},
   "source": [
    "### Маркетинговые активности в период теста"
   ]
  },
  {
   "cell_type": "markdown",
   "id": "99d1a324",
   "metadata": {},
   "source": [
    "Проанализируем маркетинговые события и определим пересечение с датыми проведения теста."
   ]
  },
  {
   "cell_type": "code",
   "execution_count": 125,
   "id": "ff07886d",
   "metadata": {},
   "outputs": [
    {
     "name": "stdout",
     "output_type": "stream",
     "text": [
      "Период проведения теста: 2020-12-07 00:00:00 – 2020-12-29 23:38:29\n"
     ]
    }
   ],
   "source": [
    "print('Период проведения теста:', final_ab_participants['registration_date'].min(),\\\n",
    "      '–', final_ab_participants['event_date'].max())"
   ]
  },
  {
   "cell_type": "code",
   "execution_count": 126,
   "id": "a3a99ae1",
   "metadata": {
    "scrolled": false
   },
   "outputs": [
    {
     "data": {
      "text/html": [
       "<div>\n",
       "<style scoped>\n",
       "    .dataframe tbody tr th:only-of-type {\n",
       "        vertical-align: middle;\n",
       "    }\n",
       "\n",
       "    .dataframe tbody tr th {\n",
       "        vertical-align: top;\n",
       "    }\n",
       "\n",
       "    .dataframe thead th {\n",
       "        text-align: right;\n",
       "    }\n",
       "</style>\n",
       "<table border=\"1\" class=\"dataframe\">\n",
       "  <thead>\n",
       "    <tr style=\"text-align: right;\">\n",
       "      <th></th>\n",
       "      <th>name</th>\n",
       "      <th>regions</th>\n",
       "      <th>start_dt</th>\n",
       "      <th>finish_dt</th>\n",
       "    </tr>\n",
       "  </thead>\n",
       "  <tbody>\n",
       "    <tr>\n",
       "      <th>0</th>\n",
       "      <td>Christmas&amp;New Year Promo</td>\n",
       "      <td>EU, N.America</td>\n",
       "      <td>2020-12-25</td>\n",
       "      <td>2021-01-03</td>\n",
       "    </tr>\n",
       "    <tr>\n",
       "      <th>1</th>\n",
       "      <td>St. Valentine's Day Giveaway</td>\n",
       "      <td>EU, CIS, APAC, N.America</td>\n",
       "      <td>2020-02-14</td>\n",
       "      <td>2020-02-16</td>\n",
       "    </tr>\n",
       "    <tr>\n",
       "      <th>2</th>\n",
       "      <td>St. Patric's Day Promo</td>\n",
       "      <td>EU, N.America</td>\n",
       "      <td>2020-03-17</td>\n",
       "      <td>2020-03-19</td>\n",
       "    </tr>\n",
       "    <tr>\n",
       "      <th>3</th>\n",
       "      <td>Easter Promo</td>\n",
       "      <td>EU, CIS, APAC, N.America</td>\n",
       "      <td>2020-04-12</td>\n",
       "      <td>2020-04-19</td>\n",
       "    </tr>\n",
       "    <tr>\n",
       "      <th>4</th>\n",
       "      <td>4th of July Promo</td>\n",
       "      <td>N.America</td>\n",
       "      <td>2020-07-04</td>\n",
       "      <td>2020-07-11</td>\n",
       "    </tr>\n",
       "    <tr>\n",
       "      <th>5</th>\n",
       "      <td>Black Friday Ads Campaign</td>\n",
       "      <td>EU, CIS, APAC, N.America</td>\n",
       "      <td>2020-11-26</td>\n",
       "      <td>2020-12-01</td>\n",
       "    </tr>\n",
       "    <tr>\n",
       "      <th>6</th>\n",
       "      <td>Chinese New Year Promo</td>\n",
       "      <td>APAC</td>\n",
       "      <td>2020-01-25</td>\n",
       "      <td>2020-02-07</td>\n",
       "    </tr>\n",
       "    <tr>\n",
       "      <th>7</th>\n",
       "      <td>Labor day (May 1st) Ads Campaign</td>\n",
       "      <td>EU, CIS, APAC</td>\n",
       "      <td>2020-05-01</td>\n",
       "      <td>2020-05-03</td>\n",
       "    </tr>\n",
       "    <tr>\n",
       "      <th>8</th>\n",
       "      <td>International Women's Day Promo</td>\n",
       "      <td>EU, CIS, APAC</td>\n",
       "      <td>2020-03-08</td>\n",
       "      <td>2020-03-10</td>\n",
       "    </tr>\n",
       "    <tr>\n",
       "      <th>9</th>\n",
       "      <td>Victory Day CIS (May 9th) Event</td>\n",
       "      <td>CIS</td>\n",
       "      <td>2020-05-09</td>\n",
       "      <td>2020-05-11</td>\n",
       "    </tr>\n",
       "    <tr>\n",
       "      <th>10</th>\n",
       "      <td>CIS New Year Gift Lottery</td>\n",
       "      <td>CIS</td>\n",
       "      <td>2020-12-30</td>\n",
       "      <td>2021-01-07</td>\n",
       "    </tr>\n",
       "    <tr>\n",
       "      <th>11</th>\n",
       "      <td>Dragon Boat Festival Giveaway</td>\n",
       "      <td>APAC</td>\n",
       "      <td>2020-06-25</td>\n",
       "      <td>2020-07-01</td>\n",
       "    </tr>\n",
       "    <tr>\n",
       "      <th>12</th>\n",
       "      <td>Single's Day Gift Promo</td>\n",
       "      <td>APAC</td>\n",
       "      <td>2020-11-11</td>\n",
       "      <td>2020-11-12</td>\n",
       "    </tr>\n",
       "    <tr>\n",
       "      <th>13</th>\n",
       "      <td>Chinese Moon Festival</td>\n",
       "      <td>APAC</td>\n",
       "      <td>2020-10-01</td>\n",
       "      <td>2020-10-07</td>\n",
       "    </tr>\n",
       "  </tbody>\n",
       "</table>\n",
       "</div>"
      ],
      "text/plain": [
       "                                name                   regions   start_dt  \\\n",
       "0           Christmas&New Year Promo             EU, N.America 2020-12-25   \n",
       "1       St. Valentine's Day Giveaway  EU, CIS, APAC, N.America 2020-02-14   \n",
       "2             St. Patric's Day Promo             EU, N.America 2020-03-17   \n",
       "3                       Easter Promo  EU, CIS, APAC, N.America 2020-04-12   \n",
       "4                  4th of July Promo                 N.America 2020-07-04   \n",
       "5          Black Friday Ads Campaign  EU, CIS, APAC, N.America 2020-11-26   \n",
       "6             Chinese New Year Promo                      APAC 2020-01-25   \n",
       "7   Labor day (May 1st) Ads Campaign             EU, CIS, APAC 2020-05-01   \n",
       "8    International Women's Day Promo             EU, CIS, APAC 2020-03-08   \n",
       "9    Victory Day CIS (May 9th) Event                       CIS 2020-05-09   \n",
       "10         CIS New Year Gift Lottery                       CIS 2020-12-30   \n",
       "11     Dragon Boat Festival Giveaway                      APAC 2020-06-25   \n",
       "12           Single's Day Gift Promo                      APAC 2020-11-11   \n",
       "13             Chinese Moon Festival                      APAC 2020-10-01   \n",
       "\n",
       "     finish_dt  \n",
       "0   2021-01-03  \n",
       "1   2020-02-16  \n",
       "2   2020-03-19  \n",
       "3   2020-04-19  \n",
       "4   2020-07-11  \n",
       "5   2020-12-01  \n",
       "6   2020-02-07  \n",
       "7   2020-05-03  \n",
       "8   2020-03-10  \n",
       "9   2020-05-11  \n",
       "10  2021-01-07  \n",
       "11  2020-07-01  \n",
       "12  2020-11-12  \n",
       "13  2020-10-07  "
      ]
     },
     "execution_count": 126,
     "metadata": {},
     "output_type": "execute_result"
    }
   ],
   "source": [
    "ab_project_marketing_events"
   ]
  },
  {
   "cell_type": "markdown",
   "id": "21a25c47",
   "metadata": {},
   "source": [
    "Только одно маркетинговое событие попадает под окончание периода проведения теста – \"Christmas&New Year Promo\". Учитывая активные действия пользователей с 07 декабря, есть вероятность, что данное событие не повлияет на общий результат. При дальнейшем анализе пользовательской активности можно будет проверить данную гипотезу."
   ]
  },
  {
   "cell_type": "markdown",
   "id": "75213ed9",
   "metadata": {},
   "source": [
    "### Качество данных"
   ]
  },
  {
   "cell_type": "markdown",
   "id": "a463a8b8",
   "metadata": {},
   "source": [
    "Скорректированные в соответствии с техническим заданием данные обладают минимальными необходимыми условиями для успешного проведения теста, что может негативно повлиять на его точность. Отмечается малое количество значений в выборках, а также их несбалансированность."
   ]
  },
  {
   "cell_type": "markdown",
   "id": "094cd4dc",
   "metadata": {},
   "source": [
    "\n",
    "## Исследовательский анализ данных"
   ]
  },
  {
   "cell_type": "markdown",
   "id": "bafff86f",
   "metadata": {},
   "source": [
    "### Распределение событий по частоте"
   ]
  },
  {
   "cell_type": "markdown",
   "id": "966f28d4",
   "metadata": {},
   "source": [
    "Сгруппируем датасет по количеству событий, приходящихся на каждого пользователя, и оценим распределение."
   ]
  },
  {
   "cell_type": "code",
   "execution_count": 127,
   "id": "dbf2164b",
   "metadata": {
    "scrolled": false
   },
   "outputs": [
    {
     "data": {
      "application/vnd.plotly.v1+json": {
       "config": {
        "plotlyServerURL": "https://plot.ly"
       },
       "data": [
        {
         "alignmentgroup": "True",
         "bingroup": "x",
         "hovertemplate": "group=A<br>value=%{x}<br>count=%{y}<extra></extra>",
         "legendgroup": "A",
         "marker": {
          "color": "#636efa",
          "opacity": 0.5,
          "pattern": {
           "shape": ""
          }
         },
         "name": "A",
         "offsetgroup": "A",
         "orientation": "v",
         "showlegend": true,
         "type": "histogram",
         "x": [
          null,
          12,
          2,
          15,
          5,
          null,
          6,
          20,
          2,
          9,
          9,
          9,
          4,
          9,
          4,
          8,
          null,
          null,
          6,
          null,
          9,
          1,
          2,
          null,
          null,
          null,
          8,
          9,
          null,
          9,
          6,
          6,
          4,
          10,
          6,
          9,
          8,
          4,
          4,
          12,
          6,
          8,
          null,
          null,
          9,
          null,
          15,
          12,
          10,
          null,
          4,
          8,
          null,
          4,
          8,
          5,
          null,
          3,
          8,
          10,
          8,
          3,
          null,
          6,
          9,
          6,
          3,
          12,
          2,
          null,
          6,
          null,
          12,
          3,
          4,
          null,
          null,
          null,
          8,
          6,
          2,
          null,
          4,
          4,
          3,
          null,
          8,
          null,
          6,
          5,
          9,
          6,
          null,
          6,
          null,
          4,
          null,
          10,
          6,
          9,
          3,
          9,
          9,
          8,
          4,
          12,
          10,
          9,
          9,
          null,
          6,
          3,
          9,
          null,
          6,
          null,
          12,
          6,
          6,
          8,
          16,
          9,
          null,
          null,
          null,
          2,
          null,
          9,
          12,
          15,
          15,
          6,
          4,
          9,
          null,
          5,
          6,
          4,
          3,
          6,
          4,
          4,
          8,
          4,
          10,
          3,
          6,
          10,
          null,
          8,
          15,
          6,
          9,
          2,
          8,
          3,
          9,
          4,
          null,
          8,
          12,
          9,
          2,
          6,
          10,
          8,
          12,
          4,
          9,
          8,
          8,
          6,
          null,
          6,
          10,
          6,
          9,
          3,
          6,
          null,
          null,
          4,
          4,
          4,
          5,
          3,
          6,
          1,
          4,
          3,
          8,
          null,
          6,
          8,
          null,
          10,
          null,
          12,
          20,
          null,
          4,
          null,
          null,
          4,
          8,
          null,
          9,
          2,
          8,
          6,
          null,
          6,
          4,
          null,
          6,
          4,
          2,
          6,
          10,
          9,
          2,
          6,
          8,
          4,
          5,
          8,
          12,
          8,
          4,
          10,
          6,
          4,
          null,
          3,
          4,
          10,
          12,
          12,
          12,
          4,
          9,
          null,
          10,
          4,
          9,
          3,
          null,
          6,
          2,
          6,
          6,
          null,
          null,
          null,
          2,
          3,
          null,
          null,
          null,
          12,
          null,
          2,
          12,
          null,
          3,
          16,
          6,
          15,
          null,
          8,
          12,
          8,
          6,
          9,
          null,
          3,
          null,
          9,
          null,
          null,
          3,
          null,
          6,
          6,
          4,
          4,
          8,
          4,
          null,
          4,
          6,
          6,
          10,
          12,
          null,
          3,
          4,
          6,
          6,
          6,
          null,
          15,
          9,
          4,
          2,
          12,
          null,
          null,
          2,
          3,
          6,
          6,
          9,
          20,
          3,
          4,
          20,
          15,
          6,
          8,
          3,
          12,
          null,
          6,
          8,
          16,
          8,
          9,
          4,
          4,
          4,
          null,
          null,
          9,
          8,
          6,
          null,
          6,
          16,
          6,
          20,
          15,
          2,
          8,
          12,
          6,
          null,
          null,
          null,
          null,
          16,
          4,
          null,
          4,
          8,
          9,
          null,
          9,
          4,
          null,
          4,
          6,
          24,
          9,
          6,
          4,
          null,
          3,
          9,
          4,
          12,
          6,
          2,
          8,
          9,
          4,
          12,
          null,
          null,
          6,
          1,
          null,
          null,
          null,
          10,
          null,
          12,
          12,
          null,
          6,
          null,
          null,
          2,
          4,
          4,
          9,
          2,
          8,
          null,
          1,
          12,
          4,
          2,
          null,
          9,
          8,
          3,
          9,
          null,
          4,
          18,
          8,
          null,
          6,
          null,
          15,
          9,
          6,
          3,
          null,
          9,
          4,
          6,
          2,
          6,
          5,
          3,
          null,
          null,
          6,
          2,
          6,
          8,
          4,
          8,
          8,
          6,
          null,
          6,
          6,
          10,
          12,
          4,
          null,
          null,
          9,
          4,
          1,
          6,
          null,
          null,
          4,
          null,
          9,
          16,
          null,
          9,
          8,
          2,
          3,
          null,
          3,
          null,
          15,
          null,
          2,
          null,
          4,
          8,
          3,
          6,
          null,
          null,
          2,
          1,
          null,
          null,
          4,
          9,
          15,
          6,
          8,
          3,
          12,
          null,
          4,
          6,
          9,
          6,
          12,
          12,
          8,
          9,
          4,
          3,
          null,
          null,
          8,
          9,
          12,
          4,
          null,
          9,
          9,
          3,
          4,
          8,
          null,
          null,
          9,
          6,
          12,
          8,
          null,
          6,
          6,
          null,
          4,
          6,
          15,
          8,
          3,
          8,
          2,
          4,
          15,
          8,
          6,
          null,
          6,
          12,
          6,
          4,
          6,
          null,
          12,
          8,
          10,
          20,
          null,
          null,
          4,
          null,
          6,
          6,
          8,
          null,
          null,
          6,
          null,
          4,
          8,
          null,
          3,
          null,
          2,
          6,
          4,
          null,
          3,
          5,
          8,
          null,
          null,
          12,
          10,
          null,
          5,
          9,
          null,
          6,
          6,
          6,
          6,
          6,
          4,
          12,
          null,
          6,
          12,
          4,
          4,
          null,
          3,
          6,
          6,
          null,
          3,
          6,
          20,
          null,
          12,
          6,
          6,
          12,
          6,
          9,
          3,
          null,
          8,
          6,
          15,
          6,
          8,
          6,
          8,
          8,
          3,
          6,
          10,
          null,
          null,
          3,
          9,
          null,
          6,
          null,
          2,
          15,
          3,
          12,
          6,
          9,
          15,
          8,
          null,
          6,
          null,
          null,
          4,
          4,
          9,
          null,
          null,
          8,
          15,
          6,
          5,
          null,
          6,
          null,
          6,
          8,
          4,
          8,
          9,
          9,
          15,
          2,
          null,
          3,
          6,
          6,
          4,
          8,
          12,
          null,
          null,
          8,
          2,
          5,
          8,
          12,
          8,
          3,
          null,
          null,
          5,
          8,
          null,
          12,
          6,
          4,
          4,
          4,
          4,
          10,
          6,
          12,
          9,
          10,
          6,
          null,
          9,
          6,
          4,
          null,
          null,
          2,
          15,
          1,
          null,
          15,
          4,
          null,
          null,
          6,
          null,
          3,
          null,
          9,
          null,
          null,
          null,
          12,
          8,
          null,
          5,
          9,
          16,
          5,
          null,
          10,
          15,
          4,
          12,
          12,
          6,
          18,
          2,
          6,
          6,
          2,
          6,
          null,
          4,
          null,
          4,
          null,
          null,
          null,
          8,
          8,
          12,
          12,
          2,
          3,
          12,
          3,
          6,
          2,
          8,
          null,
          1,
          null,
          4,
          4,
          2,
          null,
          6,
          12,
          null,
          6,
          null,
          4,
          8,
          null,
          16,
          3,
          5,
          4,
          4,
          3,
          null,
          4,
          9,
          3,
          8,
          8,
          15,
          3,
          6,
          4,
          1,
          4,
          12,
          6,
          12,
          4,
          null,
          null,
          4,
          12,
          3,
          9,
          12,
          9,
          12,
          6,
          9,
          null,
          8,
          6,
          null,
          2,
          3,
          null,
          6,
          6,
          6,
          null,
          null,
          8,
          12,
          null,
          9,
          9,
          6,
          3,
          6,
          null,
          6,
          6,
          null,
          6,
          3,
          9,
          4,
          null,
          12,
          4,
          6,
          14,
          null,
          2,
          12,
          8,
          6,
          null,
          18,
          6,
          9,
          3,
          2,
          2,
          8,
          4,
          null,
          4,
          8,
          4,
          null,
          null,
          null,
          4,
          6,
          1,
          null,
          2,
          1,
          null,
          12,
          6,
          null,
          15,
          4,
          8,
          8,
          3,
          null,
          6,
          4,
          2,
          8,
          6,
          12,
          4,
          6,
          8,
          6,
          2,
          null,
          15,
          null,
          null,
          null,
          null,
          3,
          3,
          6,
          null,
          null,
          8,
          15,
          4,
          9,
          9,
          8,
          9,
          2,
          2,
          6,
          4,
          3,
          16,
          9,
          null,
          null,
          2,
          2,
          null,
          null,
          15,
          null,
          null,
          6,
          null,
          8,
          9,
          6,
          8,
          null,
          null,
          9,
          null,
          3,
          9,
          2,
          9,
          null,
          4,
          9,
          8,
          8,
          16,
          null,
          12,
          1,
          4,
          null,
          6,
          null,
          12,
          null,
          4,
          3,
          15,
          null,
          3,
          6,
          15,
          8,
          6,
          20,
          null,
          6,
          4,
          6,
          12,
          12,
          6,
          16,
          6,
          3,
          2,
          8,
          4,
          null,
          8,
          9,
          8,
          4,
          9,
          9,
          10,
          6,
          4,
          null,
          null,
          null,
          12,
          null,
          4,
          4,
          4,
          null,
          5,
          null,
          9,
          6,
          9,
          9,
          6,
          3,
          2,
          12,
          8,
          3,
          9,
          5,
          12,
          null,
          4,
          12,
          2,
          9,
          6,
          null,
          4,
          10,
          12,
          5,
          3,
          null,
          null,
          8,
          4,
          null,
          12,
          12,
          null,
          2,
          12,
          4,
          4,
          null,
          8,
          6,
          null,
          12,
          4,
          null,
          null,
          10,
          12,
          6,
          2,
          null,
          9,
          4,
          12,
          null,
          4,
          6,
          2,
          10,
          12,
          15,
          2,
          6,
          6,
          4,
          6,
          null,
          5,
          6,
          null,
          null,
          6,
          null,
          2,
          4,
          9,
          4,
          3,
          4,
          null,
          4,
          null,
          4,
          4,
          null,
          2,
          2,
          6,
          null,
          null,
          null,
          null,
          6,
          6,
          9,
          2,
          3,
          null,
          2,
          6,
          null,
          6,
          6,
          4,
          4,
          6,
          2,
          null,
          null,
          6,
          9,
          null,
          9,
          4,
          12,
          10,
          4,
          8,
          9,
          null,
          8,
          4,
          12,
          6,
          3,
          4,
          2,
          6,
          null,
          null,
          16,
          9,
          null,
          null,
          12,
          12,
          6,
          null,
          1,
          null,
          10,
          null,
          8,
          4,
          null,
          6,
          4,
          null,
          12,
          8,
          8,
          null,
          null,
          3,
          4,
          12,
          1,
          null,
          null,
          9,
          4,
          12,
          8,
          null,
          4,
          null,
          2,
          9,
          4,
          6,
          10,
          6,
          null,
          9,
          9,
          8,
          3,
          null,
          9,
          6,
          12,
          null,
          1,
          9,
          1,
          3,
          6,
          8,
          2,
          9,
          null,
          8,
          6,
          2,
          6,
          3,
          8,
          3,
          5,
          null,
          4,
          8,
          8,
          4,
          4,
          12,
          6,
          null,
          null,
          10,
          10,
          8,
          12,
          null,
          12,
          9,
          8,
          4,
          3,
          15,
          null,
          null,
          3,
          6,
          null,
          null,
          2,
          4,
          8,
          null,
          10,
          18,
          3,
          6,
          10,
          4,
          8,
          8,
          8,
          null,
          3,
          3,
          9,
          2,
          null,
          null,
          8,
          9,
          15,
          14,
          6,
          8,
          6,
          4,
          6,
          null,
          3,
          4,
          8,
          null,
          4,
          12,
          14,
          null,
          12,
          8,
          12,
          9,
          12,
          8,
          null,
          6,
          12,
          3,
          6,
          3,
          12,
          2,
          null,
          4,
          null,
          null,
          4,
          8,
          4,
          12,
          18,
          9,
          4,
          2,
          8,
          6,
          5,
          10,
          16,
          9,
          4,
          8,
          4,
          null,
          null,
          4,
          6,
          12,
          2,
          null,
          8,
          null,
          null,
          12,
          12,
          6,
          6,
          12,
          6,
          4,
          9,
          6,
          12,
          2,
          8,
          6,
          null,
          8,
          6,
          null,
          6,
          3,
          4,
          null,
          null,
          4,
          4,
          6,
          15,
          4,
          null,
          4,
          3,
          null,
          6,
          10,
          9,
          4,
          null,
          null,
          2,
          12,
          8,
          6,
          null,
          9,
          12,
          6,
          4,
          null,
          12,
          9,
          3,
          4,
          4,
          null,
          15,
          8,
          9,
          6,
          9,
          4,
          null,
          2,
          6,
          4,
          2,
          4,
          2,
          null,
          6,
          3,
          6,
          3,
          6,
          4,
          null,
          4,
          3,
          9,
          20,
          10,
          null,
          null,
          12,
          3,
          2,
          null,
          6,
          null,
          12,
          6,
          6,
          15,
          null,
          6,
          12,
          null,
          8,
          9,
          null,
          null,
          10,
          null,
          5,
          6,
          9,
          2,
          9,
          1,
          4,
          null,
          null,
          3,
          6,
          9,
          null,
          9,
          6,
          8,
          21,
          2,
          3,
          null,
          2,
          15,
          12,
          2,
          3,
          2,
          6,
          null,
          9,
          5,
          6,
          9,
          6,
          4,
          null,
          9,
          null,
          2,
          3,
          8,
          3,
          null,
          6,
          6,
          2,
          6,
          5,
          4,
          null,
          18,
          null,
          12,
          null,
          4,
          14,
          null,
          9,
          3,
          9,
          6,
          null,
          8,
          4,
          6,
          null,
          6,
          null,
          null,
          null,
          10,
          12,
          null,
          12,
          20,
          null,
          null,
          9,
          9,
          4,
          5,
          3,
          12,
          4,
          3,
          6,
          9,
          8,
          12,
          null,
          12,
          3,
          8,
          12,
          3,
          9,
          null,
          6,
          15,
          null,
          null,
          6,
          9,
          14,
          3,
          3,
          3,
          null,
          2,
          null,
          null,
          3,
          null,
          null,
          null,
          4,
          8,
          4,
          6,
          3,
          4,
          3,
          6,
          9,
          6,
          11,
          6,
          null,
          12,
          6,
          null,
          20,
          3,
          6,
          null,
          null,
          9,
          1,
          15,
          6,
          5,
          8,
          14,
          6,
          15,
          null,
          2,
          12,
          9,
          4,
          10,
          12,
          12,
          4,
          3,
          6,
          4,
          20,
          9,
          null,
          6,
          null,
          12,
          8,
          3,
          3,
          2,
          8,
          6,
          null,
          3,
          null,
          null,
          null,
          2,
          6,
          6,
          12,
          10,
          2,
          2,
          4,
          null,
          6,
          2,
          4,
          6,
          null,
          6,
          3,
          3,
          null,
          null,
          10,
          6,
          9,
          12,
          6,
          4,
          null,
          8,
          6,
          4,
          2,
          2,
          14,
          2,
          6,
          4,
          8,
          null,
          6,
          1,
          6,
          3,
          2,
          4,
          null,
          3,
          4,
          6,
          4,
          4,
          4,
          6,
          12,
          9,
          9,
          12,
          2,
          null,
          null,
          null,
          null,
          null,
          6,
          3,
          6,
          null,
          6,
          10,
          3,
          null,
          4,
          9,
          12,
          4,
          12,
          null,
          null,
          3,
          3,
          4,
          null,
          8,
          12,
          null,
          null,
          2,
          4,
          8,
          null,
          null,
          6,
          8,
          4,
          4,
          8,
          4,
          10,
          null,
          20,
          null,
          4,
          1,
          10,
          8,
          null,
          6,
          null,
          6,
          20,
          null,
          6,
          4,
          9,
          null,
          12,
          10,
          6,
          3,
          4,
          4,
          null,
          3,
          3,
          12,
          2,
          12,
          null,
          2,
          9,
          6,
          6,
          6,
          2,
          12,
          6,
          12,
          6,
          4,
          null,
          18,
          null,
          null,
          null,
          9,
          null,
          6,
          8,
          4,
          6,
          6,
          null,
          3,
          16,
          null,
          null,
          16,
          4,
          3,
          8,
          16,
          12,
          12,
          3,
          null,
          null,
          10,
          14,
          9,
          6,
          null,
          8,
          3,
          null,
          3,
          null,
          4,
          8,
          2,
          4,
          12,
          2,
          4,
          8,
          4,
          2,
          6,
          null,
          3,
          8,
          4,
          8,
          4,
          2,
          null,
          6,
          null,
          null,
          null,
          6,
          null,
          4,
          6,
          null,
          3,
          null,
          4,
          9,
          8,
          4,
          10,
          4,
          null,
          9,
          null,
          3,
          9,
          9,
          6,
          8,
          9,
          2,
          4,
          3,
          null,
          6,
          null,
          6,
          12,
          3,
          12,
          12,
          6,
          8,
          18,
          null,
          6,
          1,
          8,
          null,
          2,
          3,
          null,
          3,
          null,
          8,
          3,
          null,
          12,
          null,
          null,
          16,
          13,
          6,
          4,
          null,
          null,
          12,
          null,
          4,
          4,
          15,
          8,
          2,
          4,
          null,
          12,
          4,
          4,
          8,
          12,
          6,
          9,
          null,
          2,
          4,
          6,
          6,
          9,
          null,
          1,
          null,
          null,
          null,
          8,
          null,
          8,
          9,
          8,
          6,
          2,
          12,
          16,
          6,
          9,
          3,
          6,
          3,
          3,
          null,
          null,
          8,
          9,
          4,
          null,
          6,
          9,
          6,
          9,
          9,
          10,
          null,
          6,
          4,
          null,
          9,
          null,
          null,
          6,
          6,
          8,
          6,
          4,
          null,
          6,
          8,
          3,
          2,
          6,
          4,
          6,
          4,
          6,
          2,
          9,
          2,
          2,
          3,
          null,
          8,
          4,
          4,
          9,
          8,
          null,
          4,
          9,
          null,
          null,
          12,
          20,
          9,
          6,
          null,
          4,
          2,
          6,
          3,
          12,
          9,
          null,
          6,
          15,
          5,
          null,
          18,
          null,
          null,
          9,
          null,
          4,
          2,
          null,
          6,
          9,
          12,
          12,
          null,
          null,
          6,
          4,
          6,
          12,
          15,
          8,
          null,
          15,
          19,
          3,
          3,
          6,
          4,
          16,
          12,
          4,
          4,
          9,
          null,
          null,
          10,
          3,
          null,
          null,
          null,
          6,
          6,
          12,
          9,
          null,
          10,
          10,
          null,
          6,
          null,
          6,
          4,
          5,
          16,
          6,
          4,
          8,
          9,
          4,
          null,
          null,
          3,
          null,
          4,
          2,
          9,
          4,
          8,
          8,
          6,
          2,
          4,
          12,
          6,
          4,
          6,
          3,
          4,
          3,
          null,
          null,
          6,
          3,
          3,
          6,
          15,
          12,
          4,
          6,
          null,
          null,
          6,
          10,
          null,
          6,
          2,
          4,
          6,
          8,
          10,
          15,
          8,
          3,
          null,
          5,
          6,
          15,
          2,
          2,
          null,
          4,
          6,
          1,
          2,
          null,
          6,
          12,
          12,
          null,
          4,
          9,
          6,
          4,
          10,
          null,
          9,
          4,
          6,
          2,
          20,
          6,
          2,
          6,
          null,
          null,
          12,
          6,
          20,
          6,
          9,
          4,
          15,
          15,
          null,
          4,
          18,
          11,
          8,
          null,
          6,
          null,
          8,
          4,
          9,
          null,
          18,
          4,
          9,
          10,
          15,
          null,
          6,
          8,
          4,
          14,
          8,
          null,
          3,
          null,
          12,
          15,
          null,
          null,
          6,
          null,
          null,
          null,
          9,
          8,
          8,
          null,
          6,
          null,
          4,
          6,
          3,
          null,
          15,
          6,
          6,
          null,
          4,
          4,
          4,
          14,
          6,
          null,
          null,
          null,
          null,
          4,
          9,
          null,
          2,
          null,
          6,
          null,
          6,
          12,
          6,
          3,
          6,
          10,
          15,
          6,
          null,
          4,
          4,
          null,
          9,
          null,
          16,
          null,
          10,
          4,
          4,
          2,
          null,
          null,
          null,
          8,
          12,
          6,
          6,
          16,
          16,
          9,
          null,
          6,
          6,
          12,
          2,
          3,
          9,
          10,
          6,
          4,
          null,
          null,
          2,
          6,
          10,
          6,
          12,
          null,
          null,
          2,
          6,
          6,
          6,
          16,
          8,
          6,
          12,
          10,
          10,
          null,
          4,
          2,
          6,
          4,
          8,
          12,
          20,
          8,
          12,
          6,
          16,
          9,
          4,
          3,
          5,
          6,
          3,
          4,
          null,
          9,
          null,
          6,
          4,
          6,
          9,
          null,
          6,
          null,
          12,
          null,
          12,
          10,
          15,
          null,
          null,
          null,
          null,
          4,
          null,
          9,
          6,
          6,
          10,
          6,
          2,
          null,
          null,
          4,
          8,
          10,
          10,
          3,
          1,
          10,
          6,
          5,
          8,
          8,
          3,
          null,
          12,
          6,
          12,
          6,
          9,
          8,
          2,
          9,
          15,
          8,
          4,
          6,
          9,
          2,
          3,
          6,
          3,
          6,
          null,
          6,
          4,
          4,
          6,
          4,
          3,
          6,
          6,
          8,
          null,
          10,
          15,
          null,
          3,
          4,
          null,
          4,
          6,
          9,
          14,
          null,
          8,
          12,
          6,
          6,
          3,
          6,
          15,
          4,
          6,
          15,
          6,
          10,
          6,
          4,
          null,
          9,
          12,
          2,
          2,
          null,
          6,
          null,
          8,
          2,
          8,
          4,
          3,
          12,
          10,
          null,
          15,
          5,
          null,
          null,
          4,
          null,
          9,
          12,
          3,
          4,
          8,
          9,
          4,
          4,
          12,
          3,
          2,
          3,
          null,
          6,
          10,
          4,
          6,
          null,
          15,
          4,
          4,
          2,
          4,
          15,
          null,
          15,
          15,
          3,
          2,
          8,
          null,
          4,
          8,
          9,
          null,
          null,
          8,
          12,
          8,
          15,
          21,
          4,
          null,
          8,
          null,
          null,
          6,
          6,
          null,
          12,
          8,
          null,
          null,
          8,
          6,
          4,
          6,
          null,
          null,
          15,
          null,
          12,
          16,
          null,
          4,
          6,
          8,
          8,
          8,
          20,
          null,
          18,
          8,
          12,
          8,
          6,
          4,
          6,
          null,
          4,
          5,
          null,
          8,
          4,
          4,
          8,
          4,
          null,
          5,
          9,
          10,
          12,
          4,
          4,
          null,
          6,
          null,
          4,
          4,
          1,
          3,
          8,
          8,
          6,
          15,
          8,
          10,
          4,
          null,
          8,
          8,
          3,
          9,
          null,
          9,
          6,
          12,
          null,
          null,
          8,
          6,
          6,
          12,
          null,
          4,
          6,
          3,
          null,
          null,
          6,
          6,
          6,
          6,
          4,
          20,
          null,
          null,
          6,
          18,
          6,
          null,
          4,
          5,
          6,
          null,
          null,
          8,
          3,
          null,
          20,
          9,
          null,
          8,
          9,
          6,
          4,
          2,
          null,
          4,
          8,
          6,
          6,
          2,
          null,
          2,
          null,
          6,
          null,
          null,
          null,
          4,
          6,
          9,
          null,
          3,
          8,
          3,
          null,
          4,
          4,
          9,
          2,
          8,
          9,
          6,
          3,
          6,
          9,
          6,
          6,
          null,
          9,
          6,
          16,
          8,
          12,
          null,
          8,
          3,
          null,
          null,
          4,
          null,
          8,
          9,
          null,
          12,
          9,
          4,
          9,
          null,
          1,
          8,
          6,
          9,
          4,
          null,
          6,
          6,
          8,
          null,
          9,
          null,
          12,
          null,
          2,
          6,
          16,
          9,
          null,
          4,
          6,
          3,
          6,
          null,
          12,
          null,
          null,
          2,
          8,
          3,
          6,
          null,
          3,
          18,
          6,
          12,
          null,
          4,
          6,
          12,
          8,
          null,
          null,
          null,
          null,
          null,
          8,
          null,
          3,
          12,
          4,
          12,
          2,
          6,
          6,
          6,
          null,
          null,
          null,
          null,
          8,
          null,
          9,
          null,
          6,
          null,
          1,
          3,
          8,
          null,
          10,
          6,
          12,
          8,
          2,
          9,
          4,
          4,
          null,
          4,
          6,
          null,
          null,
          9,
          null,
          null,
          null,
          6,
          12,
          null,
          8,
          2,
          4,
          18,
          null,
          6,
          8,
          12,
          null,
          null,
          9,
          8,
          4,
          15,
          null,
          6,
          3,
          1,
          4,
          8,
          12,
          12,
          6,
          6,
          24,
          null,
          6,
          null,
          8,
          6,
          2,
          8,
          6,
          9,
          6,
          4,
          null,
          3,
          6,
          6,
          2,
          8,
          4,
          6,
          null,
          9,
          6,
          null,
          2,
          9,
          8,
          9,
          null,
          null,
          2,
          12,
          4,
          null,
          6,
          6,
          6,
          6,
          6,
          8,
          null,
          2,
          null,
          1,
          null,
          2,
          4,
          8,
          4,
          12,
          4,
          2,
          2,
          9,
          5,
          null,
          12,
          null,
          12,
          3,
          null,
          null,
          6,
          6,
          6,
          6,
          4,
          6,
          null,
          null,
          null,
          2,
          6,
          8,
          4,
          6,
          12,
          10,
          2,
          2,
          4,
          8,
          4,
          12,
          6,
          6,
          3,
          12,
          9,
          12,
          null,
          2,
          15,
          6,
          null,
          3,
          10,
          2,
          4,
          12,
          null,
          4,
          12,
          4,
          6,
          10,
          2,
          null,
          8,
          15,
          6,
          null,
          12,
          null,
          4,
          2,
          6,
          6,
          null,
          null,
          4,
          12,
          15,
          4,
          6,
          16,
          6,
          4,
          4,
          6,
          null,
          null,
          18,
          null,
          4,
          6,
          null,
          9,
          3,
          6,
          null,
          8,
          null,
          null,
          15,
          6,
          16,
          12,
          null,
          8,
          null,
          null,
          4,
          3,
          4,
          null,
          8,
          6,
          8,
          null,
          9,
          6,
          9,
          3,
          15,
          null,
          6,
          null,
          null,
          6,
          4,
          6,
          null,
          12,
          6,
          6,
          null,
          4,
          8,
          4,
          12,
          12,
          1,
          6,
          6,
          6,
          4,
          null,
          4,
          6,
          null,
          12,
          6,
          9,
          null,
          4,
          null,
          3,
          6,
          null,
          6,
          12,
          2,
          9,
          null,
          8,
          null,
          12,
          null,
          16,
          8,
          4,
          null,
          10,
          3,
          6,
          6,
          12,
          3,
          6,
          4,
          3,
          4,
          null,
          15,
          6,
          12,
          null,
          6,
          null,
          20,
          6,
          12,
          null,
          6,
          null,
          null,
          3,
          null,
          null,
          6,
          6,
          4,
          null,
          null,
          null,
          2,
          3,
          2,
          null,
          null,
          3,
          null,
          18,
          4,
          2,
          3,
          6,
          4,
          8,
          6,
          4,
          6,
          null,
          1,
          9,
          2,
          8,
          12,
          10,
          4,
          2,
          8,
          null,
          9,
          null,
          16,
          9,
          3,
          null,
          null,
          null,
          4,
          8,
          null,
          6,
          null,
          4,
          6,
          3,
          null,
          8,
          null,
          3,
          null,
          6,
          3,
          2,
          6,
          3,
          6,
          3,
          3,
          15,
          null,
          null,
          6,
          9,
          9,
          4,
          8,
          9,
          null,
          2,
          4,
          6,
          null,
          3,
          2,
          6,
          null,
          null,
          2,
          18,
          3,
          6,
          8,
          9,
          9,
          null,
          null,
          null,
          null,
          12,
          9,
          6,
          6,
          6,
          8,
          6,
          null,
          3,
          6,
          null,
          3,
          null,
          6,
          8,
          6,
          6,
          6,
          3,
          9,
          4,
          2,
          6,
          12,
          2,
          4,
          2,
          6,
          null,
          4,
          6,
          4,
          3,
          null,
          2,
          15,
          6,
          4,
          6,
          6,
          8,
          null,
          null,
          9,
          6,
          12,
          6,
          6,
          null,
          9,
          6,
          6,
          9,
          2,
          2,
          4,
          null,
          4,
          8,
          6,
          9,
          8,
          6,
          8,
          null,
          6,
          9,
          6,
          6,
          2,
          6,
          null,
          2,
          null,
          9,
          8,
          8,
          8,
          3,
          2,
          9,
          6,
          3,
          12,
          15,
          3,
          null,
          10,
          4,
          12,
          12,
          12,
          12,
          9,
          9,
          6,
          8,
          15,
          null,
          3,
          null,
          null,
          null,
          3,
          3,
          8,
          5,
          null,
          1,
          null,
          9,
          6,
          8,
          4,
          4,
          4,
          4,
          4,
          8,
          4,
          9,
          null,
          6,
          6,
          6,
          9,
          6,
          15,
          6,
          8,
          10,
          9,
          null,
          null,
          9,
          6,
          8,
          null,
          2,
          2,
          null,
          3,
          8,
          null,
          2,
          8,
          6,
          6,
          6,
          10,
          8,
          4,
          null,
          8,
          4,
          3,
          3,
          6,
          null,
          null,
          null,
          null,
          6,
          4,
          3,
          null,
          8,
          4,
          8,
          14,
          10,
          20,
          12,
          4,
          null,
          6,
          9,
          9,
          4,
          4,
          12,
          8,
          null,
          6,
          12,
          6,
          12,
          12,
          null,
          15,
          2,
          8,
          null,
          8,
          20,
          6,
          8,
          6,
          6,
          9,
          8,
          null,
          9,
          4,
          6,
          null,
          2,
          6,
          9,
          12,
          6,
          6,
          null,
          12,
          3,
          4,
          null,
          2,
          1,
          null,
          null,
          null,
          null,
          null,
          6,
          4,
          4,
          null,
          8,
          null,
          4,
          6,
          8,
          8,
          8,
          null,
          4,
          null,
          null,
          6,
          9,
          2,
          8,
          3,
          null,
          16,
          12,
          3,
          null,
          3,
          4,
          8,
          3,
          null,
          6,
          null,
          1,
          null,
          6,
          9,
          12,
          6,
          9,
          10,
          6,
          4,
          4,
          4,
          12,
          6,
          10,
          9,
          8,
          null,
          6,
          null
         ],
         "xaxis": "x",
         "yaxis": "y"
        },
        {
         "alignmentgroup": "True",
         "bingroup": "x",
         "hovertemplate": "group=B<br>value=%{x}<br>count=%{y}<extra></extra>",
         "legendgroup": "B",
         "marker": {
          "color": "#EF553B",
          "opacity": 0.5,
          "pattern": {
           "shape": ""
          }
         },
         "name": "B",
         "offsetgroup": "B",
         "orientation": "v",
         "showlegend": true,
         "type": "histogram",
         "x": [
          6,
          null,
          null,
          null,
          null,
          4,
          null,
          null,
          null,
          null,
          null,
          null,
          null,
          null,
          null,
          null,
          6,
          2,
          null,
          12,
          null,
          null,
          null,
          6,
          8,
          3,
          null,
          null,
          2,
          null,
          null,
          null,
          null,
          null,
          null,
          null,
          null,
          null,
          null,
          null,
          null,
          null,
          5,
          6,
          null,
          8,
          null,
          null,
          null,
          3,
          null,
          null,
          3,
          null,
          null,
          null,
          2,
          null,
          null,
          null,
          null,
          null,
          3,
          null,
          null,
          null,
          null,
          null,
          null,
          6,
          null,
          2,
          null,
          null,
          null,
          3,
          3,
          4,
          null,
          null,
          null,
          4,
          null,
          null,
          null,
          8,
          null,
          6,
          null,
          null,
          null,
          null,
          12,
          null,
          9,
          null,
          2,
          null,
          null,
          null,
          null,
          null,
          null,
          null,
          null,
          null,
          null,
          null,
          null,
          7,
          null,
          null,
          null,
          9,
          null,
          2,
          null,
          null,
          null,
          null,
          null,
          null,
          4,
          1,
          2,
          null,
          12,
          null,
          null,
          null,
          null,
          null,
          null,
          null,
          9,
          null,
          null,
          null,
          null,
          null,
          null,
          null,
          null,
          null,
          null,
          null,
          null,
          null,
          12,
          null,
          null,
          null,
          null,
          null,
          null,
          null,
          null,
          null,
          9,
          null,
          null,
          null,
          null,
          null,
          null,
          null,
          null,
          null,
          null,
          null,
          null,
          null,
          6,
          null,
          null,
          null,
          null,
          null,
          null,
          5,
          2,
          null,
          null,
          null,
          null,
          null,
          null,
          null,
          null,
          null,
          null,
          4,
          null,
          null,
          9,
          null,
          12,
          null,
          null,
          3,
          null,
          6,
          4,
          null,
          null,
          6,
          null,
          null,
          null,
          null,
          6,
          null,
          null,
          2,
          null,
          null,
          null,
          null,
          null,
          null,
          null,
          null,
          null,
          null,
          null,
          null,
          null,
          null,
          null,
          null,
          null,
          null,
          12,
          null,
          null,
          null,
          null,
          null,
          null,
          null,
          null,
          4,
          null,
          null,
          null,
          null,
          10,
          null,
          null,
          null,
          null,
          4,
          6,
          6,
          null,
          null,
          6,
          6,
          9,
          null,
          3,
          null,
          null,
          8,
          null,
          null,
          null,
          null,
          2,
          null,
          null,
          null,
          null,
          null,
          3,
          null,
          6,
          null,
          3,
          9,
          null,
          9,
          null,
          null,
          null,
          null,
          null,
          null,
          6,
          null,
          null,
          null,
          null,
          null,
          6,
          null,
          null,
          null,
          null,
          null,
          8,
          null,
          null,
          null,
          null,
          null,
          4,
          1,
          null,
          null,
          null,
          null,
          null,
          null,
          null,
          null,
          null,
          null,
          null,
          null,
          null,
          null,
          4,
          null,
          null,
          null,
          null,
          null,
          null,
          null,
          null,
          9,
          3,
          null,
          null,
          null,
          8,
          null,
          null,
          null,
          null,
          null,
          null,
          null,
          null,
          null,
          4,
          4,
          9,
          9,
          null,
          null,
          4,
          null,
          null,
          null,
          2,
          null,
          null,
          2,
          null,
          null,
          null,
          null,
          null,
          null,
          9,
          null,
          null,
          null,
          null,
          null,
          null,
          null,
          null,
          null,
          null,
          3,
          4,
          null,
          null,
          8,
          3,
          9,
          null,
          9,
          null,
          null,
          4,
          null,
          4,
          1,
          null,
          null,
          null,
          null,
          null,
          null,
          4,
          null,
          null,
          null,
          null,
          6,
          null,
          null,
          null,
          null,
          4,
          null,
          null,
          null,
          6,
          null,
          4,
          null,
          null,
          null,
          null,
          8,
          null,
          null,
          null,
          null,
          null,
          null,
          null,
          8,
          3,
          null,
          null,
          null,
          null,
          null,
          null,
          null,
          null,
          4,
          null,
          null,
          null,
          null,
          null,
          4,
          4,
          null,
          null,
          null,
          null,
          4,
          6,
          null,
          12,
          null,
          null,
          3,
          null,
          null,
          null,
          null,
          2,
          null,
          9,
          null,
          6,
          null,
          2,
          null,
          null,
          null,
          null,
          6,
          4,
          null,
          null,
          4,
          9,
          null,
          null,
          null,
          null,
          null,
          null,
          null,
          2,
          null,
          null,
          null,
          null,
          null,
          null,
          null,
          null,
          null,
          null,
          6,
          12,
          null,
          null,
          null,
          null,
          4,
          null,
          null,
          null,
          null,
          null,
          4,
          4,
          null,
          null,
          null,
          null,
          2,
          null,
          null,
          3,
          null,
          null,
          null,
          null,
          null,
          null,
          null,
          null,
          null,
          null,
          null,
          15,
          null,
          null,
          null,
          null,
          null,
          6,
          null,
          null,
          null,
          null,
          6,
          4,
          null,
          12,
          null,
          null,
          null,
          12,
          10,
          null,
          20,
          null,
          null,
          3,
          null,
          4,
          null,
          null,
          null,
          4,
          null,
          null,
          null,
          1,
          4,
          null,
          null,
          6,
          null,
          null,
          8,
          null,
          null,
          null,
          null,
          null,
          null,
          null,
          4,
          null,
          null,
          null,
          null,
          5,
          null,
          null,
          null,
          8,
          null,
          null,
          null,
          4,
          null,
          null,
          null,
          null,
          null,
          null,
          null,
          6,
          null,
          null,
          null,
          null,
          null,
          null,
          null,
          null,
          null,
          null,
          null,
          3,
          8,
          null,
          null,
          9,
          null,
          4,
          null,
          null,
          null,
          null,
          null,
          null,
          null,
          null,
          2,
          null,
          4,
          8,
          null,
          null,
          null,
          7,
          6,
          null,
          null,
          null,
          null,
          3,
          null,
          6,
          null,
          null,
          null,
          null,
          null,
          null,
          null,
          null,
          4,
          null,
          null,
          null,
          null,
          null,
          null,
          3,
          2,
          null,
          null,
          null,
          null,
          null,
          null,
          null,
          2,
          6,
          null,
          null,
          9,
          null,
          null,
          null,
          null,
          null,
          null,
          null,
          null,
          null,
          null,
          null,
          null,
          4,
          null,
          null,
          null,
          10,
          16,
          null,
          null,
          null,
          10,
          null,
          null,
          9,
          3,
          null,
          6,
          null,
          4,
          null,
          6,
          3,
          9,
          null,
          null,
          3,
          null,
          null,
          null,
          null,
          3,
          null,
          null,
          null,
          null,
          null,
          null,
          null,
          null,
          null,
          null,
          null,
          null,
          8,
          null,
          6,
          null,
          8,
          3,
          3,
          null,
          null,
          null,
          null,
          null,
          null,
          null,
          null,
          null,
          null,
          null,
          4,
          null,
          4,
          null,
          null,
          null,
          11,
          null,
          null,
          2,
          null,
          6,
          null,
          null,
          6,
          null,
          null,
          null,
          null,
          null,
          null,
          2,
          null,
          null,
          null,
          null,
          null,
          null,
          null,
          null,
          null,
          null,
          null,
          null,
          null,
          null,
          null,
          12,
          9,
          null,
          null,
          null,
          null,
          null,
          null,
          null,
          null,
          null,
          1,
          null,
          null,
          12,
          null,
          null,
          2,
          null,
          null,
          null,
          2,
          6,
          null,
          null,
          2,
          null,
          null,
          null,
          null,
          null,
          4,
          null,
          null,
          3,
          null,
          null,
          null,
          null,
          4,
          null,
          null,
          null,
          null,
          9,
          null,
          null,
          null,
          null,
          6,
          null,
          null,
          null,
          null,
          null,
          null,
          null,
          null,
          10,
          null,
          null,
          null,
          2,
          4,
          4,
          null,
          null,
          null,
          4,
          null,
          null,
          4,
          null,
          null,
          6,
          null,
          null,
          null,
          null,
          null,
          4,
          null,
          null,
          null,
          null,
          null,
          null,
          null,
          null,
          null,
          null,
          null,
          4,
          null,
          12,
          6,
          2,
          4,
          null,
          null,
          null,
          4,
          6,
          null,
          null,
          null,
          null,
          null,
          null,
          null,
          null,
          null,
          null,
          null,
          null,
          null,
          null,
          6,
          2,
          null,
          null,
          2,
          4,
          null,
          9,
          4,
          null,
          3,
          null,
          null,
          null,
          null,
          4,
          5,
          null,
          9,
          null,
          null,
          null,
          null,
          4,
          null,
          null,
          null,
          null,
          null,
          4,
          null,
          null,
          null,
          15,
          null,
          4,
          null,
          4,
          null,
          null,
          null,
          8,
          null,
          null,
          null,
          null,
          null,
          null,
          4,
          null,
          null,
          null,
          null,
          null,
          null,
          null,
          null,
          null,
          null,
          null,
          null,
          6,
          null,
          null,
          null,
          null,
          null,
          null,
          null,
          null,
          null,
          4,
          6,
          4,
          null,
          8,
          null,
          null,
          null,
          2,
          null,
          3,
          null,
          null,
          null,
          null,
          null,
          null,
          null,
          null,
          null,
          null,
          null,
          null,
          null,
          4,
          null,
          null,
          null,
          null,
          null,
          12,
          null,
          null,
          null,
          null,
          null,
          2,
          5,
          null,
          null,
          20,
          null,
          null,
          2,
          null,
          null,
          null,
          null,
          4,
          null,
          null,
          6,
          null,
          null,
          8,
          4,
          null,
          null,
          null,
          null,
          8,
          null,
          null,
          null,
          4,
          null,
          null,
          null,
          null,
          null,
          null,
          null,
          null,
          null,
          null,
          null,
          4,
          null,
          null,
          3,
          2,
          null,
          8,
          null,
          null,
          null,
          null,
          null,
          null,
          2,
          null,
          8,
          null,
          null,
          4,
          null,
          null,
          null,
          4,
          10,
          3,
          6,
          null,
          null,
          null,
          null,
          null,
          6,
          null,
          null,
          6,
          null,
          null,
          null,
          null,
          null,
          null,
          1,
          8,
          null,
          null,
          9,
          null,
          null,
          null,
          null,
          null,
          null,
          null,
          12,
          null,
          null,
          null,
          null,
          null,
          null,
          null,
          null,
          2,
          8,
          null,
          null,
          3,
          12,
          null,
          null,
          null,
          9,
          null,
          2,
          null,
          2,
          null,
          null,
          2,
          null,
          null,
          4,
          null,
          null,
          null,
          8,
          4,
          null,
          null,
          null,
          null,
          6,
          6,
          null,
          null,
          null,
          null,
          4,
          null,
          4,
          null,
          null,
          null,
          null,
          null,
          null,
          2,
          null,
          null,
          null,
          null,
          6,
          null,
          null,
          null,
          5,
          null,
          null,
          null,
          null,
          null,
          null,
          null,
          null,
          6,
          null,
          null,
          null,
          null,
          null,
          null,
          null,
          null,
          3,
          null,
          null,
          null,
          null,
          null,
          null,
          null,
          12,
          8,
          null,
          null,
          null,
          null,
          6,
          null,
          null,
          null,
          null,
          null,
          null,
          6,
          6,
          null,
          null,
          4,
          6,
          null,
          null,
          null,
          3,
          null,
          null,
          null,
          null,
          null,
          null,
          null,
          null,
          null,
          4,
          null,
          null,
          null,
          null,
          3,
          3,
          null,
          null,
          null,
          null,
          null,
          null,
          null,
          null,
          null,
          15,
          null,
          null,
          null,
          6,
          null,
          null,
          null,
          9,
          null,
          null,
          null,
          null,
          null,
          null,
          2,
          null,
          null,
          null,
          null,
          null,
          null,
          null,
          6,
          null,
          2,
          8,
          null,
          null,
          null,
          null,
          null,
          null,
          null,
          null,
          null,
          null,
          null,
          null,
          null,
          null,
          null,
          null,
          null,
          15,
          4,
          null,
          null,
          null,
          null,
          10,
          null,
          3,
          9,
          null,
          null,
          null,
          null,
          null,
          null,
          null,
          null,
          null,
          null,
          null,
          null,
          null,
          3,
          null,
          null,
          9,
          null,
          null,
          null,
          8,
          4,
          null,
          null,
          null,
          null,
          null,
          3,
          null,
          null,
          2,
          null,
          null,
          null,
          null,
          2,
          2,
          null,
          null,
          null,
          null,
          6,
          null,
          null,
          null,
          null,
          3,
          null,
          null,
          null,
          null,
          null,
          6,
          null,
          null,
          null,
          null,
          null,
          null,
          6,
          null,
          null,
          null,
          null,
          null,
          null,
          2,
          null,
          null,
          null,
          null,
          null,
          null,
          1,
          null,
          null,
          null,
          null,
          null,
          6,
          4,
          null,
          null,
          null,
          2,
          null,
          9,
          null,
          null,
          null,
          null,
          3,
          null,
          null,
          6,
          null,
          null,
          6,
          6,
          null,
          9,
          null,
          null,
          null,
          null,
          null,
          null,
          null,
          3,
          4,
          null,
          null,
          null,
          12,
          null,
          null,
          null,
          null,
          null,
          null,
          12,
          null,
          null,
          null,
          null,
          null,
          null,
          null,
          6,
          null,
          null,
          null,
          null,
          null,
          null,
          9,
          null,
          6,
          null,
          null,
          null,
          null,
          3,
          null,
          null,
          null,
          null,
          null,
          null,
          6,
          null,
          9,
          null,
          8,
          null,
          null,
          6,
          null,
          null,
          null,
          null,
          12,
          null,
          null,
          null,
          12,
          null,
          5,
          2,
          6,
          null,
          null,
          2,
          null,
          null,
          12,
          6,
          null,
          null,
          null,
          null,
          null,
          null,
          null,
          null,
          null,
          null,
          null,
          null,
          2,
          null,
          null,
          null,
          null,
          null,
          null,
          4,
          null,
          null,
          12,
          10,
          null,
          null,
          null,
          null,
          null,
          null,
          9,
          null,
          5,
          10,
          null,
          12,
          3,
          4,
          null,
          null,
          null,
          null,
          null,
          null,
          null,
          null,
          null,
          null,
          null,
          null,
          8,
          null,
          null,
          4,
          null,
          null,
          null,
          2,
          2,
          null,
          null,
          null,
          null,
          null,
          null,
          null,
          null,
          null,
          3,
          null,
          null,
          null,
          null,
          null,
          null,
          null,
          null,
          null,
          null,
          null,
          null,
          null,
          2,
          null,
          8,
          null,
          null,
          null,
          null,
          null,
          null,
          null,
          4,
          null,
          12,
          3,
          6,
          null,
          null,
          null,
          null,
          null,
          null,
          null,
          null,
          4,
          null,
          null,
          null,
          null,
          4,
          null,
          null,
          null,
          6,
          12,
          null,
          null,
          null,
          null,
          null,
          null,
          20,
          null,
          null,
          null,
          null,
          null,
          null,
          null,
          null,
          null,
          null,
          9,
          null,
          null,
          null,
          null,
          null,
          null,
          4,
          null,
          null,
          null,
          null,
          null,
          null,
          null,
          null,
          null,
          null,
          null,
          null,
          4,
          4,
          10,
          6,
          4,
          null,
          null,
          null,
          11,
          null,
          null,
          null,
          2,
          null,
          null,
          null,
          null,
          null,
          6,
          3,
          null,
          null,
          null,
          12,
          null,
          null,
          2,
          4,
          null,
          null,
          null,
          3,
          2,
          null,
          null,
          null,
          null,
          null,
          null,
          null,
          6,
          null,
          8,
          null,
          null,
          null,
          null,
          3,
          null,
          6,
          null,
          null,
          3,
          null,
          null,
          null,
          2,
          null,
          null,
          null,
          null,
          null,
          null,
          6,
          null,
          null,
          null,
          null,
          null,
          6,
          null,
          null,
          null,
          null,
          null,
          null,
          null,
          null,
          null,
          null,
          null,
          9,
          null,
          1,
          6,
          6,
          null,
          2,
          null,
          null,
          null,
          null,
          null,
          8,
          null,
          null,
          9,
          5,
          null,
          null,
          null,
          null,
          null,
          null,
          null,
          null,
          6,
          21,
          null,
          null,
          null,
          null,
          10,
          null,
          null,
          3,
          null,
          8,
          null,
          null,
          null,
          null,
          null,
          null,
          null,
          null,
          null,
          null,
          null,
          9,
          null,
          null,
          null,
          null,
          null,
          null,
          4,
          null,
          9,
          3,
          2,
          null,
          4,
          null,
          null,
          4,
          null,
          3,
          null,
          null,
          null,
          null,
          null,
          null,
          4,
          null,
          6,
          null,
          null,
          null,
          null,
          null,
          null,
          null,
          null,
          null,
          12,
          null,
          3,
          null,
          null,
          null,
          null,
          null,
          null,
          null,
          null,
          3,
          null,
          null,
          null,
          6,
          null,
          null,
          3,
          null,
          2,
          null,
          null,
          2,
          null,
          8,
          4,
          null,
          null,
          null,
          null,
          2,
          12,
          null,
          2,
          null,
          null,
          null,
          null,
          null,
          null,
          3,
          null,
          null,
          null,
          null,
          null,
          null,
          null,
          6,
          null,
          null,
          null,
          null,
          null,
          4,
          null,
          2,
          8,
          1,
          null,
          3,
          null,
          null,
          null,
          null,
          null,
          null,
          null,
          null,
          null,
          null,
          null,
          null,
          null,
          6,
          6,
          null,
          null,
          null,
          6,
          null,
          null,
          null,
          null,
          null,
          null,
          6,
          null,
          null,
          2,
          null,
          4,
          3,
          null,
          null,
          null,
          null,
          null,
          1,
          null,
          null,
          null,
          null,
          null,
          null,
          null,
          null,
          null,
          null,
          null,
          null,
          null,
          null,
          8,
          null,
          null,
          null,
          null,
          null,
          3,
          null,
          null,
          2,
          4,
          null,
          null,
          null,
          null,
          4,
          null,
          null,
          null,
          null,
          null,
          null,
          12,
          null,
          null,
          null,
          9,
          null,
          6,
          4,
          null,
          4,
          null,
          null,
          4,
          null,
          null,
          null,
          null,
          3,
          4,
          null,
          null,
          null,
          null,
          null,
          null,
          8,
          null,
          null,
          null,
          null,
          null,
          null,
          null,
          null,
          null,
          null,
          null,
          3,
          4,
          null,
          null,
          8,
          3,
          3,
          null,
          null,
          null,
          null,
          8,
          null,
          null,
          4,
          null,
          6,
          null,
          null,
          null,
          null,
          null,
          null,
          null,
          null,
          null,
          10,
          2,
          null,
          6,
          null,
          null,
          null,
          null,
          null,
          null,
          null,
          null,
          null,
          null,
          null,
          null,
          null,
          null,
          null,
          null,
          6,
          6,
          null,
          null,
          null,
          null,
          null,
          null,
          null,
          null,
          6,
          2,
          null,
          null,
          6,
          null,
          null,
          null,
          null,
          null,
          null,
          null,
          null,
          null,
          16,
          null,
          null,
          null,
          null,
          null,
          3,
          null,
          null,
          null,
          null,
          2,
          null,
          null,
          null,
          4,
          null,
          null,
          null,
          null,
          null,
          6,
          null,
          null,
          null,
          null,
          null,
          null,
          null,
          null,
          12,
          4,
          null,
          null,
          null,
          null,
          null,
          null,
          null,
          null,
          2,
          null,
          null,
          null,
          null,
          6,
          null,
          3,
          null,
          null,
          null,
          12,
          null,
          null,
          null,
          null,
          null,
          3,
          null,
          null,
          null,
          null,
          null,
          6,
          null,
          4,
          null,
          null,
          8,
          9,
          null,
          3,
          4,
          8,
          null,
          null,
          null,
          3,
          null,
          3,
          null,
          null,
          null,
          6,
          null,
          null,
          null,
          8,
          null,
          null,
          null,
          null,
          null,
          6,
          6,
          3,
          6,
          null,
          null,
          4,
          null,
          4,
          null,
          6,
          null,
          null,
          null,
          null,
          null,
          null,
          null,
          null,
          5,
          null,
          null,
          3,
          null,
          3,
          null,
          2,
          null,
          null,
          null,
          null,
          6,
          6,
          16,
          null,
          null,
          null,
          null,
          null,
          null,
          null,
          6,
          null,
          null,
          null,
          null,
          null,
          null,
          null,
          null,
          null,
          8,
          4,
          null,
          null,
          null,
          null,
          null,
          4,
          2,
          null,
          null,
          null,
          null,
          null,
          null,
          null,
          null,
          null,
          null,
          4,
          null,
          null,
          null,
          null,
          null,
          null,
          null,
          null,
          null,
          null,
          null,
          null,
          null,
          null,
          null,
          null,
          null,
          null,
          6,
          null,
          2,
          null,
          null,
          null,
          null,
          6,
          null,
          6,
          null,
          6,
          null,
          null,
          null,
          3,
          3,
          8,
          3,
          null,
          12,
          null,
          null,
          null,
          null,
          null,
          null,
          4,
          3,
          null,
          null,
          null,
          null,
          null,
          null,
          null,
          null,
          null,
          null,
          null,
          null,
          3,
          null,
          null,
          null,
          null,
          null,
          null,
          null,
          null,
          null,
          null,
          null,
          null,
          null,
          null,
          null,
          null,
          null,
          null,
          4,
          null,
          null,
          null,
          null,
          null,
          null,
          null,
          null,
          null,
          2,
          null,
          null,
          6,
          null,
          null,
          8,
          null,
          null,
          null,
          null,
          4,
          null,
          null,
          null,
          null,
          null,
          null,
          null,
          null,
          null,
          null,
          null,
          null,
          null,
          null,
          4,
          null,
          null,
          null,
          null,
          12,
          null,
          6,
          null,
          null,
          null,
          null,
          null,
          null,
          null,
          11,
          null,
          null,
          4,
          9,
          null,
          3,
          null,
          null,
          null,
          null,
          null,
          null,
          null,
          null,
          null,
          null,
          null,
          null,
          3,
          null,
          null,
          null,
          null,
          8,
          null,
          null,
          null,
          null,
          null,
          null,
          12,
          null,
          null,
          null,
          null,
          null,
          2,
          null,
          null,
          null,
          6,
          8,
          null,
          null,
          null,
          null,
          null,
          null,
          9,
          null,
          6,
          2,
          null,
          null,
          3,
          null,
          null,
          2,
          8,
          null,
          null,
          null,
          null,
          2,
          8,
          null,
          2,
          null,
          null,
          3,
          null,
          null,
          null,
          null,
          null,
          null,
          3,
          null,
          null,
          null,
          null,
          null,
          null,
          null,
          4,
          null,
          null,
          4,
          null,
          null,
          null,
          null,
          null,
          8,
          null,
          null,
          null,
          null,
          null,
          null,
          6,
          null,
          9,
          null,
          null,
          null,
          null,
          null,
          null,
          null,
          null,
          null,
          null,
          null,
          3,
          null,
          null,
          null,
          null,
          3,
          null,
          null,
          null,
          4,
          6,
          null,
          null,
          null,
          null,
          4,
          null,
          null,
          null,
          2,
          2,
          null,
          null,
          null,
          null,
          null,
          null,
          9,
          4,
          null,
          null,
          null,
          3,
          null,
          null,
          null,
          6,
          4,
          null,
          null,
          3,
          null,
          null,
          9,
          null,
          null,
          null,
          null,
          null,
          3,
          null,
          null,
          null,
          null,
          null,
          2,
          null,
          6,
          null,
          4,
          4,
          4,
          null,
          null,
          null,
          9,
          null,
          null,
          null,
          9,
          null,
          null,
          null,
          null,
          null,
          null,
          null,
          null,
          null,
          null,
          null,
          null,
          4,
          null,
          null,
          null,
          null,
          null,
          3,
          null,
          null,
          4,
          4,
          null,
          6,
          null,
          null,
          3,
          null,
          null,
          null,
          null,
          2,
          null,
          null,
          null,
          null,
          null,
          6,
          null,
          null,
          null,
          3,
          null,
          9,
          null,
          3,
          null,
          null,
          null,
          null,
          4,
          null,
          null,
          null,
          null,
          6,
          null,
          3,
          3,
          null,
          null,
          null,
          null,
          13,
          null,
          null,
          null,
          null,
          18,
          null,
          null,
          null,
          null,
          3,
          4,
          9,
          4,
          6,
          null,
          6,
          null,
          null,
          null,
          null,
          null,
          null,
          null,
          null,
          4,
          6,
          5,
          4,
          null,
          10,
          null,
          6,
          null,
          8,
          null,
          null,
          null,
          2,
          null,
          null,
          null,
          null,
          null,
          null,
          null,
          null,
          3,
          null,
          null,
          3,
          8,
          null,
          6,
          4,
          4,
          null,
          null,
          3,
          null,
          null,
          null,
          null,
          2,
          null,
          null,
          null,
          2,
          6,
          null,
          null,
          null,
          null,
          4,
          null,
          null,
          null,
          null,
          null,
          null,
          null,
          null,
          null,
          null,
          3,
          null,
          2,
          null,
          null,
          null,
          null,
          null,
          null,
          null,
          null,
          10,
          null,
          null,
          null,
          null,
          null,
          null,
          null,
          8,
          null,
          null,
          1,
          null,
          null,
          null,
          null,
          2,
          6,
          null,
          null,
          null,
          14,
          null,
          null,
          null,
          null,
          null,
          null,
          3,
          null,
          4,
          null,
          6,
          null,
          null,
          null,
          null,
          null,
          null,
          null,
          null,
          null,
          null,
          3,
          null,
          3,
          null,
          null,
          2,
          3,
          null,
          null,
          null,
          null,
          null,
          null,
          6,
          9,
          10,
          null,
          null,
          null,
          null,
          null,
          null,
          null,
          null,
          null,
          null,
          null,
          null,
          null,
          null,
          null,
          null,
          null,
          null,
          null,
          9,
          null,
          null,
          null,
          6,
          null,
          null,
          null,
          null,
          null,
          4,
          null,
          null,
          null,
          null,
          null,
          null,
          4,
          null,
          null,
          null,
          9,
          null,
          8,
          null,
          null,
          null,
          null,
          8,
          6,
          null,
          null,
          null,
          null,
          null,
          null,
          null,
          null,
          null,
          null,
          6,
          6,
          null,
          10,
          null,
          null,
          12,
          null,
          null,
          null,
          1,
          null,
          9,
          2,
          null,
          null,
          null,
          null,
          6,
          null,
          2,
          12,
          null,
          null,
          null,
          1,
          null,
          null,
          null,
          3,
          null,
          null,
          null,
          null,
          null,
          2,
          null,
          12,
          6,
          null,
          null,
          null,
          9,
          null,
          null,
          null,
          5,
          null,
          null,
          null,
          null,
          null,
          null,
          null,
          null,
          null,
          null,
          2,
          null,
          null,
          4,
          null,
          null,
          null,
          4,
          null,
          2,
          null,
          null,
          4,
          null,
          null,
          null,
          null,
          6,
          null,
          4,
          null,
          8,
          null,
          null,
          null,
          2,
          null,
          null,
          null,
          null,
          null,
          null,
          null,
          null,
          null,
          null,
          6,
          null,
          null,
          null,
          8,
          null,
          4,
          null,
          null,
          null,
          4,
          null,
          6,
          2,
          null,
          8,
          3,
          null,
          null,
          null,
          6,
          8,
          2,
          null,
          null,
          null,
          3,
          3,
          null,
          8,
          null,
          null,
          null,
          null,
          null,
          null,
          null,
          null,
          null,
          null,
          2,
          null,
          null,
          null,
          null,
          null,
          null,
          null,
          null,
          null,
          9,
          null,
          3,
          null,
          null,
          null,
          6,
          15,
          6,
          null,
          null,
          1,
          null,
          1,
          null,
          null,
          null,
          6,
          null,
          4,
          null,
          6,
          null,
          null,
          null,
          null,
          null,
          null,
          null,
          null,
          null,
          8,
          3,
          null,
          null,
          null,
          null,
          null,
          null,
          6,
          null,
          null,
          null,
          8,
          null,
          null,
          null,
          4,
          10,
          null,
          null,
          null,
          null,
          null,
          null,
          null,
          9,
          5,
          9,
          6,
          null,
          null,
          null,
          null,
          null,
          null,
          null,
          8,
          null,
          null,
          3,
          null,
          6,
          null,
          null,
          null,
          null,
          null,
          null,
          null,
          null,
          null,
          null,
          null,
          null,
          null,
          null,
          null,
          9,
          null,
          null,
          null,
          null,
          3,
          null,
          null,
          null,
          null,
          null,
          null,
          null,
          6,
          4,
          null,
          null,
          null,
          null,
          null,
          3,
          null,
          null,
          null,
          null,
          null,
          null,
          null,
          4,
          null,
          null,
          null,
          null,
          null,
          null,
          null,
          6,
          null,
          null,
          null,
          null,
          null,
          null,
          2,
          null,
          4,
          null,
          null,
          null,
          null,
          null,
          null,
          null,
          null,
          null,
          null,
          null,
          null,
          12,
          null,
          null,
          null,
          null,
          null,
          null,
          null,
          null,
          null,
          null,
          null,
          3,
          null,
          1,
          6,
          6,
          null,
          null,
          null,
          null,
          3,
          null,
          7,
          null,
          null,
          null,
          null,
          null,
          null,
          null,
          null,
          null,
          null,
          null,
          6,
          null,
          null,
          null,
          null,
          null,
          null,
          null,
          null,
          null,
          null,
          6,
          5,
          null,
          null,
          null,
          2,
          null,
          null,
          2,
          null,
          null,
          9,
          null,
          null,
          null,
          null,
          null,
          null,
          null,
          null,
          3,
          null,
          null,
          null,
          null,
          null,
          3,
          12,
          2,
          4,
          null,
          null,
          null,
          2,
          null,
          null,
          null,
          null,
          null,
          null,
          null,
          null,
          2,
          null,
          null,
          null,
          null,
          null,
          null,
          null,
          4,
          null,
          null,
          null,
          null,
          null,
          4,
          null,
          null,
          null,
          5,
          null,
          null,
          null,
          null,
          null,
          null,
          null,
          null,
          4,
          null,
          null,
          null,
          4,
          null,
          null,
          null,
          null,
          null,
          null,
          4,
          null,
          null,
          null,
          2,
          null,
          null,
          6,
          6,
          6,
          1,
          2,
          null,
          null,
          null,
          6,
          null,
          8,
          null,
          null,
          null,
          null,
          null,
          4,
          null,
          4,
          6,
          null,
          null,
          null,
          null,
          null,
          6,
          null,
          null,
          null,
          2,
          null,
          null,
          null,
          null,
          20,
          null,
          2,
          null,
          3,
          null,
          null,
          null,
          null,
          null,
          null,
          null,
          null,
          null,
          null,
          null,
          null,
          null,
          null,
          null,
          4,
          null,
          9
         ],
         "xaxis": "x",
         "yaxis": "y"
        }
       ],
       "layout": {
        "barmode": "overlay",
        "legend": {
         "title": {
          "text": "Группа"
         },
         "tracegroupgap": 0
        },
        "margin": {
         "t": 60
        },
        "template": {
         "data": {
          "bar": [
           {
            "error_x": {
             "color": "#2a3f5f"
            },
            "error_y": {
             "color": "#2a3f5f"
            },
            "marker": {
             "line": {
              "color": "#E5ECF6",
              "width": 0.5
             },
             "pattern": {
              "fillmode": "overlay",
              "size": 10,
              "solidity": 0.2
             }
            },
            "type": "bar"
           }
          ],
          "barpolar": [
           {
            "marker": {
             "line": {
              "color": "#E5ECF6",
              "width": 0.5
             },
             "pattern": {
              "fillmode": "overlay",
              "size": 10,
              "solidity": 0.2
             }
            },
            "type": "barpolar"
           }
          ],
          "carpet": [
           {
            "aaxis": {
             "endlinecolor": "#2a3f5f",
             "gridcolor": "white",
             "linecolor": "white",
             "minorgridcolor": "white",
             "startlinecolor": "#2a3f5f"
            },
            "baxis": {
             "endlinecolor": "#2a3f5f",
             "gridcolor": "white",
             "linecolor": "white",
             "minorgridcolor": "white",
             "startlinecolor": "#2a3f5f"
            },
            "type": "carpet"
           }
          ],
          "choropleth": [
           {
            "colorbar": {
             "outlinewidth": 0,
             "ticks": ""
            },
            "type": "choropleth"
           }
          ],
          "contour": [
           {
            "colorbar": {
             "outlinewidth": 0,
             "ticks": ""
            },
            "colorscale": [
             [
              0,
              "#0d0887"
             ],
             [
              0.1111111111111111,
              "#46039f"
             ],
             [
              0.2222222222222222,
              "#7201a8"
             ],
             [
              0.3333333333333333,
              "#9c179e"
             ],
             [
              0.4444444444444444,
              "#bd3786"
             ],
             [
              0.5555555555555556,
              "#d8576b"
             ],
             [
              0.6666666666666666,
              "#ed7953"
             ],
             [
              0.7777777777777778,
              "#fb9f3a"
             ],
             [
              0.8888888888888888,
              "#fdca26"
             ],
             [
              1,
              "#f0f921"
             ]
            ],
            "type": "contour"
           }
          ],
          "contourcarpet": [
           {
            "colorbar": {
             "outlinewidth": 0,
             "ticks": ""
            },
            "type": "contourcarpet"
           }
          ],
          "heatmap": [
           {
            "colorbar": {
             "outlinewidth": 0,
             "ticks": ""
            },
            "colorscale": [
             [
              0,
              "#0d0887"
             ],
             [
              0.1111111111111111,
              "#46039f"
             ],
             [
              0.2222222222222222,
              "#7201a8"
             ],
             [
              0.3333333333333333,
              "#9c179e"
             ],
             [
              0.4444444444444444,
              "#bd3786"
             ],
             [
              0.5555555555555556,
              "#d8576b"
             ],
             [
              0.6666666666666666,
              "#ed7953"
             ],
             [
              0.7777777777777778,
              "#fb9f3a"
             ],
             [
              0.8888888888888888,
              "#fdca26"
             ],
             [
              1,
              "#f0f921"
             ]
            ],
            "type": "heatmap"
           }
          ],
          "heatmapgl": [
           {
            "colorbar": {
             "outlinewidth": 0,
             "ticks": ""
            },
            "colorscale": [
             [
              0,
              "#0d0887"
             ],
             [
              0.1111111111111111,
              "#46039f"
             ],
             [
              0.2222222222222222,
              "#7201a8"
             ],
             [
              0.3333333333333333,
              "#9c179e"
             ],
             [
              0.4444444444444444,
              "#bd3786"
             ],
             [
              0.5555555555555556,
              "#d8576b"
             ],
             [
              0.6666666666666666,
              "#ed7953"
             ],
             [
              0.7777777777777778,
              "#fb9f3a"
             ],
             [
              0.8888888888888888,
              "#fdca26"
             ],
             [
              1,
              "#f0f921"
             ]
            ],
            "type": "heatmapgl"
           }
          ],
          "histogram": [
           {
            "marker": {
             "pattern": {
              "fillmode": "overlay",
              "size": 10,
              "solidity": 0.2
             }
            },
            "type": "histogram"
           }
          ],
          "histogram2d": [
           {
            "colorbar": {
             "outlinewidth": 0,
             "ticks": ""
            },
            "colorscale": [
             [
              0,
              "#0d0887"
             ],
             [
              0.1111111111111111,
              "#46039f"
             ],
             [
              0.2222222222222222,
              "#7201a8"
             ],
             [
              0.3333333333333333,
              "#9c179e"
             ],
             [
              0.4444444444444444,
              "#bd3786"
             ],
             [
              0.5555555555555556,
              "#d8576b"
             ],
             [
              0.6666666666666666,
              "#ed7953"
             ],
             [
              0.7777777777777778,
              "#fb9f3a"
             ],
             [
              0.8888888888888888,
              "#fdca26"
             ],
             [
              1,
              "#f0f921"
             ]
            ],
            "type": "histogram2d"
           }
          ],
          "histogram2dcontour": [
           {
            "colorbar": {
             "outlinewidth": 0,
             "ticks": ""
            },
            "colorscale": [
             [
              0,
              "#0d0887"
             ],
             [
              0.1111111111111111,
              "#46039f"
             ],
             [
              0.2222222222222222,
              "#7201a8"
             ],
             [
              0.3333333333333333,
              "#9c179e"
             ],
             [
              0.4444444444444444,
              "#bd3786"
             ],
             [
              0.5555555555555556,
              "#d8576b"
             ],
             [
              0.6666666666666666,
              "#ed7953"
             ],
             [
              0.7777777777777778,
              "#fb9f3a"
             ],
             [
              0.8888888888888888,
              "#fdca26"
             ],
             [
              1,
              "#f0f921"
             ]
            ],
            "type": "histogram2dcontour"
           }
          ],
          "mesh3d": [
           {
            "colorbar": {
             "outlinewidth": 0,
             "ticks": ""
            },
            "type": "mesh3d"
           }
          ],
          "parcoords": [
           {
            "line": {
             "colorbar": {
              "outlinewidth": 0,
              "ticks": ""
             }
            },
            "type": "parcoords"
           }
          ],
          "pie": [
           {
            "automargin": true,
            "type": "pie"
           }
          ],
          "scatter": [
           {
            "fillpattern": {
             "fillmode": "overlay",
             "size": 10,
             "solidity": 0.2
            },
            "type": "scatter"
           }
          ],
          "scatter3d": [
           {
            "line": {
             "colorbar": {
              "outlinewidth": 0,
              "ticks": ""
             }
            },
            "marker": {
             "colorbar": {
              "outlinewidth": 0,
              "ticks": ""
             }
            },
            "type": "scatter3d"
           }
          ],
          "scattercarpet": [
           {
            "marker": {
             "colorbar": {
              "outlinewidth": 0,
              "ticks": ""
             }
            },
            "type": "scattercarpet"
           }
          ],
          "scattergeo": [
           {
            "marker": {
             "colorbar": {
              "outlinewidth": 0,
              "ticks": ""
             }
            },
            "type": "scattergeo"
           }
          ],
          "scattergl": [
           {
            "marker": {
             "colorbar": {
              "outlinewidth": 0,
              "ticks": ""
             }
            },
            "type": "scattergl"
           }
          ],
          "scattermapbox": [
           {
            "marker": {
             "colorbar": {
              "outlinewidth": 0,
              "ticks": ""
             }
            },
            "type": "scattermapbox"
           }
          ],
          "scatterpolar": [
           {
            "marker": {
             "colorbar": {
              "outlinewidth": 0,
              "ticks": ""
             }
            },
            "type": "scatterpolar"
           }
          ],
          "scatterpolargl": [
           {
            "marker": {
             "colorbar": {
              "outlinewidth": 0,
              "ticks": ""
             }
            },
            "type": "scatterpolargl"
           }
          ],
          "scatterternary": [
           {
            "marker": {
             "colorbar": {
              "outlinewidth": 0,
              "ticks": ""
             }
            },
            "type": "scatterternary"
           }
          ],
          "surface": [
           {
            "colorbar": {
             "outlinewidth": 0,
             "ticks": ""
            },
            "colorscale": [
             [
              0,
              "#0d0887"
             ],
             [
              0.1111111111111111,
              "#46039f"
             ],
             [
              0.2222222222222222,
              "#7201a8"
             ],
             [
              0.3333333333333333,
              "#9c179e"
             ],
             [
              0.4444444444444444,
              "#bd3786"
             ],
             [
              0.5555555555555556,
              "#d8576b"
             ],
             [
              0.6666666666666666,
              "#ed7953"
             ],
             [
              0.7777777777777778,
              "#fb9f3a"
             ],
             [
              0.8888888888888888,
              "#fdca26"
             ],
             [
              1,
              "#f0f921"
             ]
            ],
            "type": "surface"
           }
          ],
          "table": [
           {
            "cells": {
             "fill": {
              "color": "#EBF0F8"
             },
             "line": {
              "color": "white"
             }
            },
            "header": {
             "fill": {
              "color": "#C8D4E3"
             },
             "line": {
              "color": "white"
             }
            },
            "type": "table"
           }
          ]
         },
         "layout": {
          "annotationdefaults": {
           "arrowcolor": "#2a3f5f",
           "arrowhead": 0,
           "arrowwidth": 1
          },
          "autotypenumbers": "strict",
          "coloraxis": {
           "colorbar": {
            "outlinewidth": 0,
            "ticks": ""
           }
          },
          "colorscale": {
           "diverging": [
            [
             0,
             "#8e0152"
            ],
            [
             0.1,
             "#c51b7d"
            ],
            [
             0.2,
             "#de77ae"
            ],
            [
             0.3,
             "#f1b6da"
            ],
            [
             0.4,
             "#fde0ef"
            ],
            [
             0.5,
             "#f7f7f7"
            ],
            [
             0.6,
             "#e6f5d0"
            ],
            [
             0.7,
             "#b8e186"
            ],
            [
             0.8,
             "#7fbc41"
            ],
            [
             0.9,
             "#4d9221"
            ],
            [
             1,
             "#276419"
            ]
           ],
           "sequential": [
            [
             0,
             "#0d0887"
            ],
            [
             0.1111111111111111,
             "#46039f"
            ],
            [
             0.2222222222222222,
             "#7201a8"
            ],
            [
             0.3333333333333333,
             "#9c179e"
            ],
            [
             0.4444444444444444,
             "#bd3786"
            ],
            [
             0.5555555555555556,
             "#d8576b"
            ],
            [
             0.6666666666666666,
             "#ed7953"
            ],
            [
             0.7777777777777778,
             "#fb9f3a"
            ],
            [
             0.8888888888888888,
             "#fdca26"
            ],
            [
             1,
             "#f0f921"
            ]
           ],
           "sequentialminus": [
            [
             0,
             "#0d0887"
            ],
            [
             0.1111111111111111,
             "#46039f"
            ],
            [
             0.2222222222222222,
             "#7201a8"
            ],
            [
             0.3333333333333333,
             "#9c179e"
            ],
            [
             0.4444444444444444,
             "#bd3786"
            ],
            [
             0.5555555555555556,
             "#d8576b"
            ],
            [
             0.6666666666666666,
             "#ed7953"
            ],
            [
             0.7777777777777778,
             "#fb9f3a"
            ],
            [
             0.8888888888888888,
             "#fdca26"
            ],
            [
             1,
             "#f0f921"
            ]
           ]
          },
          "colorway": [
           "#636efa",
           "#EF553B",
           "#00cc96",
           "#ab63fa",
           "#FFA15A",
           "#19d3f3",
           "#FF6692",
           "#B6E880",
           "#FF97FF",
           "#FECB52"
          ],
          "font": {
           "color": "#2a3f5f"
          },
          "geo": {
           "bgcolor": "white",
           "lakecolor": "white",
           "landcolor": "#E5ECF6",
           "showlakes": true,
           "showland": true,
           "subunitcolor": "white"
          },
          "hoverlabel": {
           "align": "left"
          },
          "hovermode": "closest",
          "mapbox": {
           "style": "light"
          },
          "paper_bgcolor": "white",
          "plot_bgcolor": "#E5ECF6",
          "polar": {
           "angularaxis": {
            "gridcolor": "white",
            "linecolor": "white",
            "ticks": ""
           },
           "bgcolor": "#E5ECF6",
           "radialaxis": {
            "gridcolor": "white",
            "linecolor": "white",
            "ticks": ""
           }
          },
          "scene": {
           "xaxis": {
            "backgroundcolor": "#E5ECF6",
            "gridcolor": "white",
            "gridwidth": 2,
            "linecolor": "white",
            "showbackground": true,
            "ticks": "",
            "zerolinecolor": "white"
           },
           "yaxis": {
            "backgroundcolor": "#E5ECF6",
            "gridcolor": "white",
            "gridwidth": 2,
            "linecolor": "white",
            "showbackground": true,
            "ticks": "",
            "zerolinecolor": "white"
           },
           "zaxis": {
            "backgroundcolor": "#E5ECF6",
            "gridcolor": "white",
            "gridwidth": 2,
            "linecolor": "white",
            "showbackground": true,
            "ticks": "",
            "zerolinecolor": "white"
           }
          },
          "shapedefaults": {
           "line": {
            "color": "#2a3f5f"
           }
          },
          "ternary": {
           "aaxis": {
            "gridcolor": "white",
            "linecolor": "white",
            "ticks": ""
           },
           "baxis": {
            "gridcolor": "white",
            "linecolor": "white",
            "ticks": ""
           },
           "bgcolor": "#E5ECF6",
           "caxis": {
            "gridcolor": "white",
            "linecolor": "white",
            "ticks": ""
           }
          },
          "title": {
           "x": 0.05
          },
          "xaxis": {
           "automargin": true,
           "gridcolor": "white",
           "linecolor": "white",
           "ticks": "",
           "title": {
            "standoff": 15
           },
           "zerolinecolor": "white",
           "zerolinewidth": 2
          },
          "yaxis": {
           "automargin": true,
           "gridcolor": "white",
           "linecolor": "white",
           "ticks": "",
           "title": {
            "standoff": 15
           },
           "zerolinecolor": "white",
           "zerolinewidth": 2
          }
         }
        },
        "title": {
         "text": "Распределение количества действий пользователей по частоте"
        },
        "xaxis": {
         "anchor": "y",
         "domain": [
          0,
          1
         ],
         "title": {
          "text": "Количетво действий"
         }
        },
        "yaxis": {
         "anchor": "x",
         "domain": [
          0,
          1
         ],
         "title": {
          "text": "Частота"
         }
        }
       }
      },
      "text/html": [
       "<div>                            <div id=\"294928af-0941-412e-9a6a-7e6f330cad5d\" class=\"plotly-graph-div\" style=\"height:525px; width:100%;\"></div>            <script type=\"text/javascript\">                require([\"plotly\"], function(Plotly) {                    window.PLOTLYENV=window.PLOTLYENV || {};                                    if (document.getElementById(\"294928af-0941-412e-9a6a-7e6f330cad5d\")) {                    Plotly.newPlot(                        \"294928af-0941-412e-9a6a-7e6f330cad5d\",                        [{\"alignmentgroup\":\"True\",\"bingroup\":\"x\",\"hovertemplate\":\"group=A<br>value=%{x}<br>count=%{y}<extra></extra>\",\"legendgroup\":\"A\",\"marker\":{\"color\":\"#636efa\",\"opacity\":0.5,\"pattern\":{\"shape\":\"\"}},\"name\":\"A\",\"offsetgroup\":\"A\",\"orientation\":\"v\",\"showlegend\":true,\"x\":[null,12.0,2.0,15.0,5.0,null,6.0,20.0,2.0,9.0,9.0,9.0,4.0,9.0,4.0,8.0,null,null,6.0,null,9.0,1.0,2.0,null,null,null,8.0,9.0,null,9.0,6.0,6.0,4.0,10.0,6.0,9.0,8.0,4.0,4.0,12.0,6.0,8.0,null,null,9.0,null,15.0,12.0,10.0,null,4.0,8.0,null,4.0,8.0,5.0,null,3.0,8.0,10.0,8.0,3.0,null,6.0,9.0,6.0,3.0,12.0,2.0,null,6.0,null,12.0,3.0,4.0,null,null,null,8.0,6.0,2.0,null,4.0,4.0,3.0,null,8.0,null,6.0,5.0,9.0,6.0,null,6.0,null,4.0,null,10.0,6.0,9.0,3.0,9.0,9.0,8.0,4.0,12.0,10.0,9.0,9.0,null,6.0,3.0,9.0,null,6.0,null,12.0,6.0,6.0,8.0,16.0,9.0,null,null,null,2.0,null,9.0,12.0,15.0,15.0,6.0,4.0,9.0,null,5.0,6.0,4.0,3.0,6.0,4.0,4.0,8.0,4.0,10.0,3.0,6.0,10.0,null,8.0,15.0,6.0,9.0,2.0,8.0,3.0,9.0,4.0,null,8.0,12.0,9.0,2.0,6.0,10.0,8.0,12.0,4.0,9.0,8.0,8.0,6.0,null,6.0,10.0,6.0,9.0,3.0,6.0,null,null,4.0,4.0,4.0,5.0,3.0,6.0,1.0,4.0,3.0,8.0,null,6.0,8.0,null,10.0,null,12.0,20.0,null,4.0,null,null,4.0,8.0,null,9.0,2.0,8.0,6.0,null,6.0,4.0,null,6.0,4.0,2.0,6.0,10.0,9.0,2.0,6.0,8.0,4.0,5.0,8.0,12.0,8.0,4.0,10.0,6.0,4.0,null,3.0,4.0,10.0,12.0,12.0,12.0,4.0,9.0,null,10.0,4.0,9.0,3.0,null,6.0,2.0,6.0,6.0,null,null,null,2.0,3.0,null,null,null,12.0,null,2.0,12.0,null,3.0,16.0,6.0,15.0,null,8.0,12.0,8.0,6.0,9.0,null,3.0,null,9.0,null,null,3.0,null,6.0,6.0,4.0,4.0,8.0,4.0,null,4.0,6.0,6.0,10.0,12.0,null,3.0,4.0,6.0,6.0,6.0,null,15.0,9.0,4.0,2.0,12.0,null,null,2.0,3.0,6.0,6.0,9.0,20.0,3.0,4.0,20.0,15.0,6.0,8.0,3.0,12.0,null,6.0,8.0,16.0,8.0,9.0,4.0,4.0,4.0,null,null,9.0,8.0,6.0,null,6.0,16.0,6.0,20.0,15.0,2.0,8.0,12.0,6.0,null,null,null,null,16.0,4.0,null,4.0,8.0,9.0,null,9.0,4.0,null,4.0,6.0,24.0,9.0,6.0,4.0,null,3.0,9.0,4.0,12.0,6.0,2.0,8.0,9.0,4.0,12.0,null,null,6.0,1.0,null,null,null,10.0,null,12.0,12.0,null,6.0,null,null,2.0,4.0,4.0,9.0,2.0,8.0,null,1.0,12.0,4.0,2.0,null,9.0,8.0,3.0,9.0,null,4.0,18.0,8.0,null,6.0,null,15.0,9.0,6.0,3.0,null,9.0,4.0,6.0,2.0,6.0,5.0,3.0,null,null,6.0,2.0,6.0,8.0,4.0,8.0,8.0,6.0,null,6.0,6.0,10.0,12.0,4.0,null,null,9.0,4.0,1.0,6.0,null,null,4.0,null,9.0,16.0,null,9.0,8.0,2.0,3.0,null,3.0,null,15.0,null,2.0,null,4.0,8.0,3.0,6.0,null,null,2.0,1.0,null,null,4.0,9.0,15.0,6.0,8.0,3.0,12.0,null,4.0,6.0,9.0,6.0,12.0,12.0,8.0,9.0,4.0,3.0,null,null,8.0,9.0,12.0,4.0,null,9.0,9.0,3.0,4.0,8.0,null,null,9.0,6.0,12.0,8.0,null,6.0,6.0,null,4.0,6.0,15.0,8.0,3.0,8.0,2.0,4.0,15.0,8.0,6.0,null,6.0,12.0,6.0,4.0,6.0,null,12.0,8.0,10.0,20.0,null,null,4.0,null,6.0,6.0,8.0,null,null,6.0,null,4.0,8.0,null,3.0,null,2.0,6.0,4.0,null,3.0,5.0,8.0,null,null,12.0,10.0,null,5.0,9.0,null,6.0,6.0,6.0,6.0,6.0,4.0,12.0,null,6.0,12.0,4.0,4.0,null,3.0,6.0,6.0,null,3.0,6.0,20.0,null,12.0,6.0,6.0,12.0,6.0,9.0,3.0,null,8.0,6.0,15.0,6.0,8.0,6.0,8.0,8.0,3.0,6.0,10.0,null,null,3.0,9.0,null,6.0,null,2.0,15.0,3.0,12.0,6.0,9.0,15.0,8.0,null,6.0,null,null,4.0,4.0,9.0,null,null,8.0,15.0,6.0,5.0,null,6.0,null,6.0,8.0,4.0,8.0,9.0,9.0,15.0,2.0,null,3.0,6.0,6.0,4.0,8.0,12.0,null,null,8.0,2.0,5.0,8.0,12.0,8.0,3.0,null,null,5.0,8.0,null,12.0,6.0,4.0,4.0,4.0,4.0,10.0,6.0,12.0,9.0,10.0,6.0,null,9.0,6.0,4.0,null,null,2.0,15.0,1.0,null,15.0,4.0,null,null,6.0,null,3.0,null,9.0,null,null,null,12.0,8.0,null,5.0,9.0,16.0,5.0,null,10.0,15.0,4.0,12.0,12.0,6.0,18.0,2.0,6.0,6.0,2.0,6.0,null,4.0,null,4.0,null,null,null,8.0,8.0,12.0,12.0,2.0,3.0,12.0,3.0,6.0,2.0,8.0,null,1.0,null,4.0,4.0,2.0,null,6.0,12.0,null,6.0,null,4.0,8.0,null,16.0,3.0,5.0,4.0,4.0,3.0,null,4.0,9.0,3.0,8.0,8.0,15.0,3.0,6.0,4.0,1.0,4.0,12.0,6.0,12.0,4.0,null,null,4.0,12.0,3.0,9.0,12.0,9.0,12.0,6.0,9.0,null,8.0,6.0,null,2.0,3.0,null,6.0,6.0,6.0,null,null,8.0,12.0,null,9.0,9.0,6.0,3.0,6.0,null,6.0,6.0,null,6.0,3.0,9.0,4.0,null,12.0,4.0,6.0,14.0,null,2.0,12.0,8.0,6.0,null,18.0,6.0,9.0,3.0,2.0,2.0,8.0,4.0,null,4.0,8.0,4.0,null,null,null,4.0,6.0,1.0,null,2.0,1.0,null,12.0,6.0,null,15.0,4.0,8.0,8.0,3.0,null,6.0,4.0,2.0,8.0,6.0,12.0,4.0,6.0,8.0,6.0,2.0,null,15.0,null,null,null,null,3.0,3.0,6.0,null,null,8.0,15.0,4.0,9.0,9.0,8.0,9.0,2.0,2.0,6.0,4.0,3.0,16.0,9.0,null,null,2.0,2.0,null,null,15.0,null,null,6.0,null,8.0,9.0,6.0,8.0,null,null,9.0,null,3.0,9.0,2.0,9.0,null,4.0,9.0,8.0,8.0,16.0,null,12.0,1.0,4.0,null,6.0,null,12.0,null,4.0,3.0,15.0,null,3.0,6.0,15.0,8.0,6.0,20.0,null,6.0,4.0,6.0,12.0,12.0,6.0,16.0,6.0,3.0,2.0,8.0,4.0,null,8.0,9.0,8.0,4.0,9.0,9.0,10.0,6.0,4.0,null,null,null,12.0,null,4.0,4.0,4.0,null,5.0,null,9.0,6.0,9.0,9.0,6.0,3.0,2.0,12.0,8.0,3.0,9.0,5.0,12.0,null,4.0,12.0,2.0,9.0,6.0,null,4.0,10.0,12.0,5.0,3.0,null,null,8.0,4.0,null,12.0,12.0,null,2.0,12.0,4.0,4.0,null,8.0,6.0,null,12.0,4.0,null,null,10.0,12.0,6.0,2.0,null,9.0,4.0,12.0,null,4.0,6.0,2.0,10.0,12.0,15.0,2.0,6.0,6.0,4.0,6.0,null,5.0,6.0,null,null,6.0,null,2.0,4.0,9.0,4.0,3.0,4.0,null,4.0,null,4.0,4.0,null,2.0,2.0,6.0,null,null,null,null,6.0,6.0,9.0,2.0,3.0,null,2.0,6.0,null,6.0,6.0,4.0,4.0,6.0,2.0,null,null,6.0,9.0,null,9.0,4.0,12.0,10.0,4.0,8.0,9.0,null,8.0,4.0,12.0,6.0,3.0,4.0,2.0,6.0,null,null,16.0,9.0,null,null,12.0,12.0,6.0,null,1.0,null,10.0,null,8.0,4.0,null,6.0,4.0,null,12.0,8.0,8.0,null,null,3.0,4.0,12.0,1.0,null,null,9.0,4.0,12.0,8.0,null,4.0,null,2.0,9.0,4.0,6.0,10.0,6.0,null,9.0,9.0,8.0,3.0,null,9.0,6.0,12.0,null,1.0,9.0,1.0,3.0,6.0,8.0,2.0,9.0,null,8.0,6.0,2.0,6.0,3.0,8.0,3.0,5.0,null,4.0,8.0,8.0,4.0,4.0,12.0,6.0,null,null,10.0,10.0,8.0,12.0,null,12.0,9.0,8.0,4.0,3.0,15.0,null,null,3.0,6.0,null,null,2.0,4.0,8.0,null,10.0,18.0,3.0,6.0,10.0,4.0,8.0,8.0,8.0,null,3.0,3.0,9.0,2.0,null,null,8.0,9.0,15.0,14.0,6.0,8.0,6.0,4.0,6.0,null,3.0,4.0,8.0,null,4.0,12.0,14.0,null,12.0,8.0,12.0,9.0,12.0,8.0,null,6.0,12.0,3.0,6.0,3.0,12.0,2.0,null,4.0,null,null,4.0,8.0,4.0,12.0,18.0,9.0,4.0,2.0,8.0,6.0,5.0,10.0,16.0,9.0,4.0,8.0,4.0,null,null,4.0,6.0,12.0,2.0,null,8.0,null,null,12.0,12.0,6.0,6.0,12.0,6.0,4.0,9.0,6.0,12.0,2.0,8.0,6.0,null,8.0,6.0,null,6.0,3.0,4.0,null,null,4.0,4.0,6.0,15.0,4.0,null,4.0,3.0,null,6.0,10.0,9.0,4.0,null,null,2.0,12.0,8.0,6.0,null,9.0,12.0,6.0,4.0,null,12.0,9.0,3.0,4.0,4.0,null,15.0,8.0,9.0,6.0,9.0,4.0,null,2.0,6.0,4.0,2.0,4.0,2.0,null,6.0,3.0,6.0,3.0,6.0,4.0,null,4.0,3.0,9.0,20.0,10.0,null,null,12.0,3.0,2.0,null,6.0,null,12.0,6.0,6.0,15.0,null,6.0,12.0,null,8.0,9.0,null,null,10.0,null,5.0,6.0,9.0,2.0,9.0,1.0,4.0,null,null,3.0,6.0,9.0,null,9.0,6.0,8.0,21.0,2.0,3.0,null,2.0,15.0,12.0,2.0,3.0,2.0,6.0,null,9.0,5.0,6.0,9.0,6.0,4.0,null,9.0,null,2.0,3.0,8.0,3.0,null,6.0,6.0,2.0,6.0,5.0,4.0,null,18.0,null,12.0,null,4.0,14.0,null,9.0,3.0,9.0,6.0,null,8.0,4.0,6.0,null,6.0,null,null,null,10.0,12.0,null,12.0,20.0,null,null,9.0,9.0,4.0,5.0,3.0,12.0,4.0,3.0,6.0,9.0,8.0,12.0,null,12.0,3.0,8.0,12.0,3.0,9.0,null,6.0,15.0,null,null,6.0,9.0,14.0,3.0,3.0,3.0,null,2.0,null,null,3.0,null,null,null,4.0,8.0,4.0,6.0,3.0,4.0,3.0,6.0,9.0,6.0,11.0,6.0,null,12.0,6.0,null,20.0,3.0,6.0,null,null,9.0,1.0,15.0,6.0,5.0,8.0,14.0,6.0,15.0,null,2.0,12.0,9.0,4.0,10.0,12.0,12.0,4.0,3.0,6.0,4.0,20.0,9.0,null,6.0,null,12.0,8.0,3.0,3.0,2.0,8.0,6.0,null,3.0,null,null,null,2.0,6.0,6.0,12.0,10.0,2.0,2.0,4.0,null,6.0,2.0,4.0,6.0,null,6.0,3.0,3.0,null,null,10.0,6.0,9.0,12.0,6.0,4.0,null,8.0,6.0,4.0,2.0,2.0,14.0,2.0,6.0,4.0,8.0,null,6.0,1.0,6.0,3.0,2.0,4.0,null,3.0,4.0,6.0,4.0,4.0,4.0,6.0,12.0,9.0,9.0,12.0,2.0,null,null,null,null,null,6.0,3.0,6.0,null,6.0,10.0,3.0,null,4.0,9.0,12.0,4.0,12.0,null,null,3.0,3.0,4.0,null,8.0,12.0,null,null,2.0,4.0,8.0,null,null,6.0,8.0,4.0,4.0,8.0,4.0,10.0,null,20.0,null,4.0,1.0,10.0,8.0,null,6.0,null,6.0,20.0,null,6.0,4.0,9.0,null,12.0,10.0,6.0,3.0,4.0,4.0,null,3.0,3.0,12.0,2.0,12.0,null,2.0,9.0,6.0,6.0,6.0,2.0,12.0,6.0,12.0,6.0,4.0,null,18.0,null,null,null,9.0,null,6.0,8.0,4.0,6.0,6.0,null,3.0,16.0,null,null,16.0,4.0,3.0,8.0,16.0,12.0,12.0,3.0,null,null,10.0,14.0,9.0,6.0,null,8.0,3.0,null,3.0,null,4.0,8.0,2.0,4.0,12.0,2.0,4.0,8.0,4.0,2.0,6.0,null,3.0,8.0,4.0,8.0,4.0,2.0,null,6.0,null,null,null,6.0,null,4.0,6.0,null,3.0,null,4.0,9.0,8.0,4.0,10.0,4.0,null,9.0,null,3.0,9.0,9.0,6.0,8.0,9.0,2.0,4.0,3.0,null,6.0,null,6.0,12.0,3.0,12.0,12.0,6.0,8.0,18.0,null,6.0,1.0,8.0,null,2.0,3.0,null,3.0,null,8.0,3.0,null,12.0,null,null,16.0,13.0,6.0,4.0,null,null,12.0,null,4.0,4.0,15.0,8.0,2.0,4.0,null,12.0,4.0,4.0,8.0,12.0,6.0,9.0,null,2.0,4.0,6.0,6.0,9.0,null,1.0,null,null,null,8.0,null,8.0,9.0,8.0,6.0,2.0,12.0,16.0,6.0,9.0,3.0,6.0,3.0,3.0,null,null,8.0,9.0,4.0,null,6.0,9.0,6.0,9.0,9.0,10.0,null,6.0,4.0,null,9.0,null,null,6.0,6.0,8.0,6.0,4.0,null,6.0,8.0,3.0,2.0,6.0,4.0,6.0,4.0,6.0,2.0,9.0,2.0,2.0,3.0,null,8.0,4.0,4.0,9.0,8.0,null,4.0,9.0,null,null,12.0,20.0,9.0,6.0,null,4.0,2.0,6.0,3.0,12.0,9.0,null,6.0,15.0,5.0,null,18.0,null,null,9.0,null,4.0,2.0,null,6.0,9.0,12.0,12.0,null,null,6.0,4.0,6.0,12.0,15.0,8.0,null,15.0,19.0,3.0,3.0,6.0,4.0,16.0,12.0,4.0,4.0,9.0,null,null,10.0,3.0,null,null,null,6.0,6.0,12.0,9.0,null,10.0,10.0,null,6.0,null,6.0,4.0,5.0,16.0,6.0,4.0,8.0,9.0,4.0,null,null,3.0,null,4.0,2.0,9.0,4.0,8.0,8.0,6.0,2.0,4.0,12.0,6.0,4.0,6.0,3.0,4.0,3.0,null,null,6.0,3.0,3.0,6.0,15.0,12.0,4.0,6.0,null,null,6.0,10.0,null,6.0,2.0,4.0,6.0,8.0,10.0,15.0,8.0,3.0,null,5.0,6.0,15.0,2.0,2.0,null,4.0,6.0,1.0,2.0,null,6.0,12.0,12.0,null,4.0,9.0,6.0,4.0,10.0,null,9.0,4.0,6.0,2.0,20.0,6.0,2.0,6.0,null,null,12.0,6.0,20.0,6.0,9.0,4.0,15.0,15.0,null,4.0,18.0,11.0,8.0,null,6.0,null,8.0,4.0,9.0,null,18.0,4.0,9.0,10.0,15.0,null,6.0,8.0,4.0,14.0,8.0,null,3.0,null,12.0,15.0,null,null,6.0,null,null,null,9.0,8.0,8.0,null,6.0,null,4.0,6.0,3.0,null,15.0,6.0,6.0,null,4.0,4.0,4.0,14.0,6.0,null,null,null,null,4.0,9.0,null,2.0,null,6.0,null,6.0,12.0,6.0,3.0,6.0,10.0,15.0,6.0,null,4.0,4.0,null,9.0,null,16.0,null,10.0,4.0,4.0,2.0,null,null,null,8.0,12.0,6.0,6.0,16.0,16.0,9.0,null,6.0,6.0,12.0,2.0,3.0,9.0,10.0,6.0,4.0,null,null,2.0,6.0,10.0,6.0,12.0,null,null,2.0,6.0,6.0,6.0,16.0,8.0,6.0,12.0,10.0,10.0,null,4.0,2.0,6.0,4.0,8.0,12.0,20.0,8.0,12.0,6.0,16.0,9.0,4.0,3.0,5.0,6.0,3.0,4.0,null,9.0,null,6.0,4.0,6.0,9.0,null,6.0,null,12.0,null,12.0,10.0,15.0,null,null,null,null,4.0,null,9.0,6.0,6.0,10.0,6.0,2.0,null,null,4.0,8.0,10.0,10.0,3.0,1.0,10.0,6.0,5.0,8.0,8.0,3.0,null,12.0,6.0,12.0,6.0,9.0,8.0,2.0,9.0,15.0,8.0,4.0,6.0,9.0,2.0,3.0,6.0,3.0,6.0,null,6.0,4.0,4.0,6.0,4.0,3.0,6.0,6.0,8.0,null,10.0,15.0,null,3.0,4.0,null,4.0,6.0,9.0,14.0,null,8.0,12.0,6.0,6.0,3.0,6.0,15.0,4.0,6.0,15.0,6.0,10.0,6.0,4.0,null,9.0,12.0,2.0,2.0,null,6.0,null,8.0,2.0,8.0,4.0,3.0,12.0,10.0,null,15.0,5.0,null,null,4.0,null,9.0,12.0,3.0,4.0,8.0,9.0,4.0,4.0,12.0,3.0,2.0,3.0,null,6.0,10.0,4.0,6.0,null,15.0,4.0,4.0,2.0,4.0,15.0,null,15.0,15.0,3.0,2.0,8.0,null,4.0,8.0,9.0,null,null,8.0,12.0,8.0,15.0,21.0,4.0,null,8.0,null,null,6.0,6.0,null,12.0,8.0,null,null,8.0,6.0,4.0,6.0,null,null,15.0,null,12.0,16.0,null,4.0,6.0,8.0,8.0,8.0,20.0,null,18.0,8.0,12.0,8.0,6.0,4.0,6.0,null,4.0,5.0,null,8.0,4.0,4.0,8.0,4.0,null,5.0,9.0,10.0,12.0,4.0,4.0,null,6.0,null,4.0,4.0,1.0,3.0,8.0,8.0,6.0,15.0,8.0,10.0,4.0,null,8.0,8.0,3.0,9.0,null,9.0,6.0,12.0,null,null,8.0,6.0,6.0,12.0,null,4.0,6.0,3.0,null,null,6.0,6.0,6.0,6.0,4.0,20.0,null,null,6.0,18.0,6.0,null,4.0,5.0,6.0,null,null,8.0,3.0,null,20.0,9.0,null,8.0,9.0,6.0,4.0,2.0,null,4.0,8.0,6.0,6.0,2.0,null,2.0,null,6.0,null,null,null,4.0,6.0,9.0,null,3.0,8.0,3.0,null,4.0,4.0,9.0,2.0,8.0,9.0,6.0,3.0,6.0,9.0,6.0,6.0,null,9.0,6.0,16.0,8.0,12.0,null,8.0,3.0,null,null,4.0,null,8.0,9.0,null,12.0,9.0,4.0,9.0,null,1.0,8.0,6.0,9.0,4.0,null,6.0,6.0,8.0,null,9.0,null,12.0,null,2.0,6.0,16.0,9.0,null,4.0,6.0,3.0,6.0,null,12.0,null,null,2.0,8.0,3.0,6.0,null,3.0,18.0,6.0,12.0,null,4.0,6.0,12.0,8.0,null,null,null,null,null,8.0,null,3.0,12.0,4.0,12.0,2.0,6.0,6.0,6.0,null,null,null,null,8.0,null,9.0,null,6.0,null,1.0,3.0,8.0,null,10.0,6.0,12.0,8.0,2.0,9.0,4.0,4.0,null,4.0,6.0,null,null,9.0,null,null,null,6.0,12.0,null,8.0,2.0,4.0,18.0,null,6.0,8.0,12.0,null,null,9.0,8.0,4.0,15.0,null,6.0,3.0,1.0,4.0,8.0,12.0,12.0,6.0,6.0,24.0,null,6.0,null,8.0,6.0,2.0,8.0,6.0,9.0,6.0,4.0,null,3.0,6.0,6.0,2.0,8.0,4.0,6.0,null,9.0,6.0,null,2.0,9.0,8.0,9.0,null,null,2.0,12.0,4.0,null,6.0,6.0,6.0,6.0,6.0,8.0,null,2.0,null,1.0,null,2.0,4.0,8.0,4.0,12.0,4.0,2.0,2.0,9.0,5.0,null,12.0,null,12.0,3.0,null,null,6.0,6.0,6.0,6.0,4.0,6.0,null,null,null,2.0,6.0,8.0,4.0,6.0,12.0,10.0,2.0,2.0,4.0,8.0,4.0,12.0,6.0,6.0,3.0,12.0,9.0,12.0,null,2.0,15.0,6.0,null,3.0,10.0,2.0,4.0,12.0,null,4.0,12.0,4.0,6.0,10.0,2.0,null,8.0,15.0,6.0,null,12.0,null,4.0,2.0,6.0,6.0,null,null,4.0,12.0,15.0,4.0,6.0,16.0,6.0,4.0,4.0,6.0,null,null,18.0,null,4.0,6.0,null,9.0,3.0,6.0,null,8.0,null,null,15.0,6.0,16.0,12.0,null,8.0,null,null,4.0,3.0,4.0,null,8.0,6.0,8.0,null,9.0,6.0,9.0,3.0,15.0,null,6.0,null,null,6.0,4.0,6.0,null,12.0,6.0,6.0,null,4.0,8.0,4.0,12.0,12.0,1.0,6.0,6.0,6.0,4.0,null,4.0,6.0,null,12.0,6.0,9.0,null,4.0,null,3.0,6.0,null,6.0,12.0,2.0,9.0,null,8.0,null,12.0,null,16.0,8.0,4.0,null,10.0,3.0,6.0,6.0,12.0,3.0,6.0,4.0,3.0,4.0,null,15.0,6.0,12.0,null,6.0,null,20.0,6.0,12.0,null,6.0,null,null,3.0,null,null,6.0,6.0,4.0,null,null,null,2.0,3.0,2.0,null,null,3.0,null,18.0,4.0,2.0,3.0,6.0,4.0,8.0,6.0,4.0,6.0,null,1.0,9.0,2.0,8.0,12.0,10.0,4.0,2.0,8.0,null,9.0,null,16.0,9.0,3.0,null,null,null,4.0,8.0,null,6.0,null,4.0,6.0,3.0,null,8.0,null,3.0,null,6.0,3.0,2.0,6.0,3.0,6.0,3.0,3.0,15.0,null,null,6.0,9.0,9.0,4.0,8.0,9.0,null,2.0,4.0,6.0,null,3.0,2.0,6.0,null,null,2.0,18.0,3.0,6.0,8.0,9.0,9.0,null,null,null,null,12.0,9.0,6.0,6.0,6.0,8.0,6.0,null,3.0,6.0,null,3.0,null,6.0,8.0,6.0,6.0,6.0,3.0,9.0,4.0,2.0,6.0,12.0,2.0,4.0,2.0,6.0,null,4.0,6.0,4.0,3.0,null,2.0,15.0,6.0,4.0,6.0,6.0,8.0,null,null,9.0,6.0,12.0,6.0,6.0,null,9.0,6.0,6.0,9.0,2.0,2.0,4.0,null,4.0,8.0,6.0,9.0,8.0,6.0,8.0,null,6.0,9.0,6.0,6.0,2.0,6.0,null,2.0,null,9.0,8.0,8.0,8.0,3.0,2.0,9.0,6.0,3.0,12.0,15.0,3.0,null,10.0,4.0,12.0,12.0,12.0,12.0,9.0,9.0,6.0,8.0,15.0,null,3.0,null,null,null,3.0,3.0,8.0,5.0,null,1.0,null,9.0,6.0,8.0,4.0,4.0,4.0,4.0,4.0,8.0,4.0,9.0,null,6.0,6.0,6.0,9.0,6.0,15.0,6.0,8.0,10.0,9.0,null,null,9.0,6.0,8.0,null,2.0,2.0,null,3.0,8.0,null,2.0,8.0,6.0,6.0,6.0,10.0,8.0,4.0,null,8.0,4.0,3.0,3.0,6.0,null,null,null,null,6.0,4.0,3.0,null,8.0,4.0,8.0,14.0,10.0,20.0,12.0,4.0,null,6.0,9.0,9.0,4.0,4.0,12.0,8.0,null,6.0,12.0,6.0,12.0,12.0,null,15.0,2.0,8.0,null,8.0,20.0,6.0,8.0,6.0,6.0,9.0,8.0,null,9.0,4.0,6.0,null,2.0,6.0,9.0,12.0,6.0,6.0,null,12.0,3.0,4.0,null,2.0,1.0,null,null,null,null,null,6.0,4.0,4.0,null,8.0,null,4.0,6.0,8.0,8.0,8.0,null,4.0,null,null,6.0,9.0,2.0,8.0,3.0,null,16.0,12.0,3.0,null,3.0,4.0,8.0,3.0,null,6.0,null,1.0,null,6.0,9.0,12.0,6.0,9.0,10.0,6.0,4.0,4.0,4.0,12.0,6.0,10.0,9.0,8.0,null,6.0,null],\"xaxis\":\"x\",\"yaxis\":\"y\",\"type\":\"histogram\"},{\"alignmentgroup\":\"True\",\"bingroup\":\"x\",\"hovertemplate\":\"group=B<br>value=%{x}<br>count=%{y}<extra></extra>\",\"legendgroup\":\"B\",\"marker\":{\"color\":\"#EF553B\",\"opacity\":0.5,\"pattern\":{\"shape\":\"\"}},\"name\":\"B\",\"offsetgroup\":\"B\",\"orientation\":\"v\",\"showlegend\":true,\"x\":[6.0,null,null,null,null,4.0,null,null,null,null,null,null,null,null,null,null,6.0,2.0,null,12.0,null,null,null,6.0,8.0,3.0,null,null,2.0,null,null,null,null,null,null,null,null,null,null,null,null,null,5.0,6.0,null,8.0,null,null,null,3.0,null,null,3.0,null,null,null,2.0,null,null,null,null,null,3.0,null,null,null,null,null,null,6.0,null,2.0,null,null,null,3.0,3.0,4.0,null,null,null,4.0,null,null,null,8.0,null,6.0,null,null,null,null,12.0,null,9.0,null,2.0,null,null,null,null,null,null,null,null,null,null,null,null,7.0,null,null,null,9.0,null,2.0,null,null,null,null,null,null,4.0,1.0,2.0,null,12.0,null,null,null,null,null,null,null,9.0,null,null,null,null,null,null,null,null,null,null,null,null,null,12.0,null,null,null,null,null,null,null,null,null,9.0,null,null,null,null,null,null,null,null,null,null,null,null,null,6.0,null,null,null,null,null,null,5.0,2.0,null,null,null,null,null,null,null,null,null,null,4.0,null,null,9.0,null,12.0,null,null,3.0,null,6.0,4.0,null,null,6.0,null,null,null,null,6.0,null,null,2.0,null,null,null,null,null,null,null,null,null,null,null,null,null,null,null,null,null,null,12.0,null,null,null,null,null,null,null,null,4.0,null,null,null,null,10.0,null,null,null,null,4.0,6.0,6.0,null,null,6.0,6.0,9.0,null,3.0,null,null,8.0,null,null,null,null,2.0,null,null,null,null,null,3.0,null,6.0,null,3.0,9.0,null,9.0,null,null,null,null,null,null,6.0,null,null,null,null,null,6.0,null,null,null,null,null,8.0,null,null,null,null,null,4.0,1.0,null,null,null,null,null,null,null,null,null,null,null,null,null,null,4.0,null,null,null,null,null,null,null,null,9.0,3.0,null,null,null,8.0,null,null,null,null,null,null,null,null,null,4.0,4.0,9.0,9.0,null,null,4.0,null,null,null,2.0,null,null,2.0,null,null,null,null,null,null,9.0,null,null,null,null,null,null,null,null,null,null,3.0,4.0,null,null,8.0,3.0,9.0,null,9.0,null,null,4.0,null,4.0,1.0,null,null,null,null,null,null,4.0,null,null,null,null,6.0,null,null,null,null,4.0,null,null,null,6.0,null,4.0,null,null,null,null,8.0,null,null,null,null,null,null,null,8.0,3.0,null,null,null,null,null,null,null,null,4.0,null,null,null,null,null,4.0,4.0,null,null,null,null,4.0,6.0,null,12.0,null,null,3.0,null,null,null,null,2.0,null,9.0,null,6.0,null,2.0,null,null,null,null,6.0,4.0,null,null,4.0,9.0,null,null,null,null,null,null,null,2.0,null,null,null,null,null,null,null,null,null,null,6.0,12.0,null,null,null,null,4.0,null,null,null,null,null,4.0,4.0,null,null,null,null,2.0,null,null,3.0,null,null,null,null,null,null,null,null,null,null,null,15.0,null,null,null,null,null,6.0,null,null,null,null,6.0,4.0,null,12.0,null,null,null,12.0,10.0,null,20.0,null,null,3.0,null,4.0,null,null,null,4.0,null,null,null,1.0,4.0,null,null,6.0,null,null,8.0,null,null,null,null,null,null,null,4.0,null,null,null,null,5.0,null,null,null,8.0,null,null,null,4.0,null,null,null,null,null,null,null,6.0,null,null,null,null,null,null,null,null,null,null,null,3.0,8.0,null,null,9.0,null,4.0,null,null,null,null,null,null,null,null,2.0,null,4.0,8.0,null,null,null,7.0,6.0,null,null,null,null,3.0,null,6.0,null,null,null,null,null,null,null,null,4.0,null,null,null,null,null,null,3.0,2.0,null,null,null,null,null,null,null,2.0,6.0,null,null,9.0,null,null,null,null,null,null,null,null,null,null,null,null,4.0,null,null,null,10.0,16.0,null,null,null,10.0,null,null,9.0,3.0,null,6.0,null,4.0,null,6.0,3.0,9.0,null,null,3.0,null,null,null,null,3.0,null,null,null,null,null,null,null,null,null,null,null,null,8.0,null,6.0,null,8.0,3.0,3.0,null,null,null,null,null,null,null,null,null,null,null,4.0,null,4.0,null,null,null,11.0,null,null,2.0,null,6.0,null,null,6.0,null,null,null,null,null,null,2.0,null,null,null,null,null,null,null,null,null,null,null,null,null,null,null,12.0,9.0,null,null,null,null,null,null,null,null,null,1.0,null,null,12.0,null,null,2.0,null,null,null,2.0,6.0,null,null,2.0,null,null,null,null,null,4.0,null,null,3.0,null,null,null,null,4.0,null,null,null,null,9.0,null,null,null,null,6.0,null,null,null,null,null,null,null,null,10.0,null,null,null,2.0,4.0,4.0,null,null,null,4.0,null,null,4.0,null,null,6.0,null,null,null,null,null,4.0,null,null,null,null,null,null,null,null,null,null,null,4.0,null,12.0,6.0,2.0,4.0,null,null,null,4.0,6.0,null,null,null,null,null,null,null,null,null,null,null,null,null,null,6.0,2.0,null,null,2.0,4.0,null,9.0,4.0,null,3.0,null,null,null,null,4.0,5.0,null,9.0,null,null,null,null,4.0,null,null,null,null,null,4.0,null,null,null,15.0,null,4.0,null,4.0,null,null,null,8.0,null,null,null,null,null,null,4.0,null,null,null,null,null,null,null,null,null,null,null,null,6.0,null,null,null,null,null,null,null,null,null,4.0,6.0,4.0,null,8.0,null,null,null,2.0,null,3.0,null,null,null,null,null,null,null,null,null,null,null,null,null,4.0,null,null,null,null,null,12.0,null,null,null,null,null,2.0,5.0,null,null,20.0,null,null,2.0,null,null,null,null,4.0,null,null,6.0,null,null,8.0,4.0,null,null,null,null,8.0,null,null,null,4.0,null,null,null,null,null,null,null,null,null,null,null,4.0,null,null,3.0,2.0,null,8.0,null,null,null,null,null,null,2.0,null,8.0,null,null,4.0,null,null,null,4.0,10.0,3.0,6.0,null,null,null,null,null,6.0,null,null,6.0,null,null,null,null,null,null,1.0,8.0,null,null,9.0,null,null,null,null,null,null,null,12.0,null,null,null,null,null,null,null,null,2.0,8.0,null,null,3.0,12.0,null,null,null,9.0,null,2.0,null,2.0,null,null,2.0,null,null,4.0,null,null,null,8.0,4.0,null,null,null,null,6.0,6.0,null,null,null,null,4.0,null,4.0,null,null,null,null,null,null,2.0,null,null,null,null,6.0,null,null,null,5.0,null,null,null,null,null,null,null,null,6.0,null,null,null,null,null,null,null,null,3.0,null,null,null,null,null,null,null,12.0,8.0,null,null,null,null,6.0,null,null,null,null,null,null,6.0,6.0,null,null,4.0,6.0,null,null,null,3.0,null,null,null,null,null,null,null,null,null,4.0,null,null,null,null,3.0,3.0,null,null,null,null,null,null,null,null,null,15.0,null,null,null,6.0,null,null,null,9.0,null,null,null,null,null,null,2.0,null,null,null,null,null,null,null,6.0,null,2.0,8.0,null,null,null,null,null,null,null,null,null,null,null,null,null,null,null,null,null,15.0,4.0,null,null,null,null,10.0,null,3.0,9.0,null,null,null,null,null,null,null,null,null,null,null,null,null,3.0,null,null,9.0,null,null,null,8.0,4.0,null,null,null,null,null,3.0,null,null,2.0,null,null,null,null,2.0,2.0,null,null,null,null,6.0,null,null,null,null,3.0,null,null,null,null,null,6.0,null,null,null,null,null,null,6.0,null,null,null,null,null,null,2.0,null,null,null,null,null,null,1.0,null,null,null,null,null,6.0,4.0,null,null,null,2.0,null,9.0,null,null,null,null,3.0,null,null,6.0,null,null,6.0,6.0,null,9.0,null,null,null,null,null,null,null,3.0,4.0,null,null,null,12.0,null,null,null,null,null,null,12.0,null,null,null,null,null,null,null,6.0,null,null,null,null,null,null,9.0,null,6.0,null,null,null,null,3.0,null,null,null,null,null,null,6.0,null,9.0,null,8.0,null,null,6.0,null,null,null,null,12.0,null,null,null,12.0,null,5.0,2.0,6.0,null,null,2.0,null,null,12.0,6.0,null,null,null,null,null,null,null,null,null,null,null,null,2.0,null,null,null,null,null,null,4.0,null,null,12.0,10.0,null,null,null,null,null,null,9.0,null,5.0,10.0,null,12.0,3.0,4.0,null,null,null,null,null,null,null,null,null,null,null,null,8.0,null,null,4.0,null,null,null,2.0,2.0,null,null,null,null,null,null,null,null,null,3.0,null,null,null,null,null,null,null,null,null,null,null,null,null,2.0,null,8.0,null,null,null,null,null,null,null,4.0,null,12.0,3.0,6.0,null,null,null,null,null,null,null,null,4.0,null,null,null,null,4.0,null,null,null,6.0,12.0,null,null,null,null,null,null,20.0,null,null,null,null,null,null,null,null,null,null,9.0,null,null,null,null,null,null,4.0,null,null,null,null,null,null,null,null,null,null,null,null,4.0,4.0,10.0,6.0,4.0,null,null,null,11.0,null,null,null,2.0,null,null,null,null,null,6.0,3.0,null,null,null,12.0,null,null,2.0,4.0,null,null,null,3.0,2.0,null,null,null,null,null,null,null,6.0,null,8.0,null,null,null,null,3.0,null,6.0,null,null,3.0,null,null,null,2.0,null,null,null,null,null,null,6.0,null,null,null,null,null,6.0,null,null,null,null,null,null,null,null,null,null,null,9.0,null,1.0,6.0,6.0,null,2.0,null,null,null,null,null,8.0,null,null,9.0,5.0,null,null,null,null,null,null,null,null,6.0,21.0,null,null,null,null,10.0,null,null,3.0,null,8.0,null,null,null,null,null,null,null,null,null,null,null,9.0,null,null,null,null,null,null,4.0,null,9.0,3.0,2.0,null,4.0,null,null,4.0,null,3.0,null,null,null,null,null,null,4.0,null,6.0,null,null,null,null,null,null,null,null,null,12.0,null,3.0,null,null,null,null,null,null,null,null,3.0,null,null,null,6.0,null,null,3.0,null,2.0,null,null,2.0,null,8.0,4.0,null,null,null,null,2.0,12.0,null,2.0,null,null,null,null,null,null,3.0,null,null,null,null,null,null,null,6.0,null,null,null,null,null,4.0,null,2.0,8.0,1.0,null,3.0,null,null,null,null,null,null,null,null,null,null,null,null,null,6.0,6.0,null,null,null,6.0,null,null,null,null,null,null,6.0,null,null,2.0,null,4.0,3.0,null,null,null,null,null,1.0,null,null,null,null,null,null,null,null,null,null,null,null,null,null,8.0,null,null,null,null,null,3.0,null,null,2.0,4.0,null,null,null,null,4.0,null,null,null,null,null,null,12.0,null,null,null,9.0,null,6.0,4.0,null,4.0,null,null,4.0,null,null,null,null,3.0,4.0,null,null,null,null,null,null,8.0,null,null,null,null,null,null,null,null,null,null,null,3.0,4.0,null,null,8.0,3.0,3.0,null,null,null,null,8.0,null,null,4.0,null,6.0,null,null,null,null,null,null,null,null,null,10.0,2.0,null,6.0,null,null,null,null,null,null,null,null,null,null,null,null,null,null,null,null,6.0,6.0,null,null,null,null,null,null,null,null,6.0,2.0,null,null,6.0,null,null,null,null,null,null,null,null,null,16.0,null,null,null,null,null,3.0,null,null,null,null,2.0,null,null,null,4.0,null,null,null,null,null,6.0,null,null,null,null,null,null,null,null,12.0,4.0,null,null,null,null,null,null,null,null,2.0,null,null,null,null,6.0,null,3.0,null,null,null,12.0,null,null,null,null,null,3.0,null,null,null,null,null,6.0,null,4.0,null,null,8.0,9.0,null,3.0,4.0,8.0,null,null,null,3.0,null,3.0,null,null,null,6.0,null,null,null,8.0,null,null,null,null,null,6.0,6.0,3.0,6.0,null,null,4.0,null,4.0,null,6.0,null,null,null,null,null,null,null,null,5.0,null,null,3.0,null,3.0,null,2.0,null,null,null,null,6.0,6.0,16.0,null,null,null,null,null,null,null,6.0,null,null,null,null,null,null,null,null,null,8.0,4.0,null,null,null,null,null,4.0,2.0,null,null,null,null,null,null,null,null,null,null,4.0,null,null,null,null,null,null,null,null,null,null,null,null,null,null,null,null,null,null,6.0,null,2.0,null,null,null,null,6.0,null,6.0,null,6.0,null,null,null,3.0,3.0,8.0,3.0,null,12.0,null,null,null,null,null,null,4.0,3.0,null,null,null,null,null,null,null,null,null,null,null,null,3.0,null,null,null,null,null,null,null,null,null,null,null,null,null,null,null,null,null,null,4.0,null,null,null,null,null,null,null,null,null,2.0,null,null,6.0,null,null,8.0,null,null,null,null,4.0,null,null,null,null,null,null,null,null,null,null,null,null,null,null,4.0,null,null,null,null,12.0,null,6.0,null,null,null,null,null,null,null,11.0,null,null,4.0,9.0,null,3.0,null,null,null,null,null,null,null,null,null,null,null,null,3.0,null,null,null,null,8.0,null,null,null,null,null,null,12.0,null,null,null,null,null,2.0,null,null,null,6.0,8.0,null,null,null,null,null,null,9.0,null,6.0,2.0,null,null,3.0,null,null,2.0,8.0,null,null,null,null,2.0,8.0,null,2.0,null,null,3.0,null,null,null,null,null,null,3.0,null,null,null,null,null,null,null,4.0,null,null,4.0,null,null,null,null,null,8.0,null,null,null,null,null,null,6.0,null,9.0,null,null,null,null,null,null,null,null,null,null,null,3.0,null,null,null,null,3.0,null,null,null,4.0,6.0,null,null,null,null,4.0,null,null,null,2.0,2.0,null,null,null,null,null,null,9.0,4.0,null,null,null,3.0,null,null,null,6.0,4.0,null,null,3.0,null,null,9.0,null,null,null,null,null,3.0,null,null,null,null,null,2.0,null,6.0,null,4.0,4.0,4.0,null,null,null,9.0,null,null,null,9.0,null,null,null,null,null,null,null,null,null,null,null,null,4.0,null,null,null,null,null,3.0,null,null,4.0,4.0,null,6.0,null,null,3.0,null,null,null,null,2.0,null,null,null,null,null,6.0,null,null,null,3.0,null,9.0,null,3.0,null,null,null,null,4.0,null,null,null,null,6.0,null,3.0,3.0,null,null,null,null,13.0,null,null,null,null,18.0,null,null,null,null,3.0,4.0,9.0,4.0,6.0,null,6.0,null,null,null,null,null,null,null,null,4.0,6.0,5.0,4.0,null,10.0,null,6.0,null,8.0,null,null,null,2.0,null,null,null,null,null,null,null,null,3.0,null,null,3.0,8.0,null,6.0,4.0,4.0,null,null,3.0,null,null,null,null,2.0,null,null,null,2.0,6.0,null,null,null,null,4.0,null,null,null,null,null,null,null,null,null,null,3.0,null,2.0,null,null,null,null,null,null,null,null,10.0,null,null,null,null,null,null,null,8.0,null,null,1.0,null,null,null,null,2.0,6.0,null,null,null,14.0,null,null,null,null,null,null,3.0,null,4.0,null,6.0,null,null,null,null,null,null,null,null,null,null,3.0,null,3.0,null,null,2.0,3.0,null,null,null,null,null,null,6.0,9.0,10.0,null,null,null,null,null,null,null,null,null,null,null,null,null,null,null,null,null,null,null,9.0,null,null,null,6.0,null,null,null,null,null,4.0,null,null,null,null,null,null,4.0,null,null,null,9.0,null,8.0,null,null,null,null,8.0,6.0,null,null,null,null,null,null,null,null,null,null,6.0,6.0,null,10.0,null,null,12.0,null,null,null,1.0,null,9.0,2.0,null,null,null,null,6.0,null,2.0,12.0,null,null,null,1.0,null,null,null,3.0,null,null,null,null,null,2.0,null,12.0,6.0,null,null,null,9.0,null,null,null,5.0,null,null,null,null,null,null,null,null,null,null,2.0,null,null,4.0,null,null,null,4.0,null,2.0,null,null,4.0,null,null,null,null,6.0,null,4.0,null,8.0,null,null,null,2.0,null,null,null,null,null,null,null,null,null,null,6.0,null,null,null,8.0,null,4.0,null,null,null,4.0,null,6.0,2.0,null,8.0,3.0,null,null,null,6.0,8.0,2.0,null,null,null,3.0,3.0,null,8.0,null,null,null,null,null,null,null,null,null,null,2.0,null,null,null,null,null,null,null,null,null,9.0,null,3.0,null,null,null,6.0,15.0,6.0,null,null,1.0,null,1.0,null,null,null,6.0,null,4.0,null,6.0,null,null,null,null,null,null,null,null,null,8.0,3.0,null,null,null,null,null,null,6.0,null,null,null,8.0,null,null,null,4.0,10.0,null,null,null,null,null,null,null,9.0,5.0,9.0,6.0,null,null,null,null,null,null,null,8.0,null,null,3.0,null,6.0,null,null,null,null,null,null,null,null,null,null,null,null,null,null,null,9.0,null,null,null,null,3.0,null,null,null,null,null,null,null,6.0,4.0,null,null,null,null,null,3.0,null,null,null,null,null,null,null,4.0,null,null,null,null,null,null,null,6.0,null,null,null,null,null,null,2.0,null,4.0,null,null,null,null,null,null,null,null,null,null,null,null,12.0,null,null,null,null,null,null,null,null,null,null,null,3.0,null,1.0,6.0,6.0,null,null,null,null,3.0,null,7.0,null,null,null,null,null,null,null,null,null,null,null,6.0,null,null,null,null,null,null,null,null,null,null,6.0,5.0,null,null,null,2.0,null,null,2.0,null,null,9.0,null,null,null,null,null,null,null,null,3.0,null,null,null,null,null,3.0,12.0,2.0,4.0,null,null,null,2.0,null,null,null,null,null,null,null,null,2.0,null,null,null,null,null,null,null,4.0,null,null,null,null,null,4.0,null,null,null,5.0,null,null,null,null,null,null,null,null,4.0,null,null,null,4.0,null,null,null,null,null,null,4.0,null,null,null,2.0,null,null,6.0,6.0,6.0,1.0,2.0,null,null,null,6.0,null,8.0,null,null,null,null,null,4.0,null,4.0,6.0,null,null,null,null,null,6.0,null,null,null,2.0,null,null,null,null,20.0,null,2.0,null,3.0,null,null,null,null,null,null,null,null,null,null,null,null,null,null,null,4.0,null,9.0],\"xaxis\":\"x\",\"yaxis\":\"y\",\"type\":\"histogram\"}],                        {\"template\":{\"data\":{\"histogram2dcontour\":[{\"type\":\"histogram2dcontour\",\"colorbar\":{\"outlinewidth\":0,\"ticks\":\"\"},\"colorscale\":[[0.0,\"#0d0887\"],[0.1111111111111111,\"#46039f\"],[0.2222222222222222,\"#7201a8\"],[0.3333333333333333,\"#9c179e\"],[0.4444444444444444,\"#bd3786\"],[0.5555555555555556,\"#d8576b\"],[0.6666666666666666,\"#ed7953\"],[0.7777777777777778,\"#fb9f3a\"],[0.8888888888888888,\"#fdca26\"],[1.0,\"#f0f921\"]]}],\"choropleth\":[{\"type\":\"choropleth\",\"colorbar\":{\"outlinewidth\":0,\"ticks\":\"\"}}],\"histogram2d\":[{\"type\":\"histogram2d\",\"colorbar\":{\"outlinewidth\":0,\"ticks\":\"\"},\"colorscale\":[[0.0,\"#0d0887\"],[0.1111111111111111,\"#46039f\"],[0.2222222222222222,\"#7201a8\"],[0.3333333333333333,\"#9c179e\"],[0.4444444444444444,\"#bd3786\"],[0.5555555555555556,\"#d8576b\"],[0.6666666666666666,\"#ed7953\"],[0.7777777777777778,\"#fb9f3a\"],[0.8888888888888888,\"#fdca26\"],[1.0,\"#f0f921\"]]}],\"heatmap\":[{\"type\":\"heatmap\",\"colorbar\":{\"outlinewidth\":0,\"ticks\":\"\"},\"colorscale\":[[0.0,\"#0d0887\"],[0.1111111111111111,\"#46039f\"],[0.2222222222222222,\"#7201a8\"],[0.3333333333333333,\"#9c179e\"],[0.4444444444444444,\"#bd3786\"],[0.5555555555555556,\"#d8576b\"],[0.6666666666666666,\"#ed7953\"],[0.7777777777777778,\"#fb9f3a\"],[0.8888888888888888,\"#fdca26\"],[1.0,\"#f0f921\"]]}],\"heatmapgl\":[{\"type\":\"heatmapgl\",\"colorbar\":{\"outlinewidth\":0,\"ticks\":\"\"},\"colorscale\":[[0.0,\"#0d0887\"],[0.1111111111111111,\"#46039f\"],[0.2222222222222222,\"#7201a8\"],[0.3333333333333333,\"#9c179e\"],[0.4444444444444444,\"#bd3786\"],[0.5555555555555556,\"#d8576b\"],[0.6666666666666666,\"#ed7953\"],[0.7777777777777778,\"#fb9f3a\"],[0.8888888888888888,\"#fdca26\"],[1.0,\"#f0f921\"]]}],\"contourcarpet\":[{\"type\":\"contourcarpet\",\"colorbar\":{\"outlinewidth\":0,\"ticks\":\"\"}}],\"contour\":[{\"type\":\"contour\",\"colorbar\":{\"outlinewidth\":0,\"ticks\":\"\"},\"colorscale\":[[0.0,\"#0d0887\"],[0.1111111111111111,\"#46039f\"],[0.2222222222222222,\"#7201a8\"],[0.3333333333333333,\"#9c179e\"],[0.4444444444444444,\"#bd3786\"],[0.5555555555555556,\"#d8576b\"],[0.6666666666666666,\"#ed7953\"],[0.7777777777777778,\"#fb9f3a\"],[0.8888888888888888,\"#fdca26\"],[1.0,\"#f0f921\"]]}],\"surface\":[{\"type\":\"surface\",\"colorbar\":{\"outlinewidth\":0,\"ticks\":\"\"},\"colorscale\":[[0.0,\"#0d0887\"],[0.1111111111111111,\"#46039f\"],[0.2222222222222222,\"#7201a8\"],[0.3333333333333333,\"#9c179e\"],[0.4444444444444444,\"#bd3786\"],[0.5555555555555556,\"#d8576b\"],[0.6666666666666666,\"#ed7953\"],[0.7777777777777778,\"#fb9f3a\"],[0.8888888888888888,\"#fdca26\"],[1.0,\"#f0f921\"]]}],\"mesh3d\":[{\"type\":\"mesh3d\",\"colorbar\":{\"outlinewidth\":0,\"ticks\":\"\"}}],\"scatter\":[{\"fillpattern\":{\"fillmode\":\"overlay\",\"size\":10,\"solidity\":0.2},\"type\":\"scatter\"}],\"parcoords\":[{\"type\":\"parcoords\",\"line\":{\"colorbar\":{\"outlinewidth\":0,\"ticks\":\"\"}}}],\"scatterpolargl\":[{\"type\":\"scatterpolargl\",\"marker\":{\"colorbar\":{\"outlinewidth\":0,\"ticks\":\"\"}}}],\"bar\":[{\"error_x\":{\"color\":\"#2a3f5f\"},\"error_y\":{\"color\":\"#2a3f5f\"},\"marker\":{\"line\":{\"color\":\"#E5ECF6\",\"width\":0.5},\"pattern\":{\"fillmode\":\"overlay\",\"size\":10,\"solidity\":0.2}},\"type\":\"bar\"}],\"scattergeo\":[{\"type\":\"scattergeo\",\"marker\":{\"colorbar\":{\"outlinewidth\":0,\"ticks\":\"\"}}}],\"scatterpolar\":[{\"type\":\"scatterpolar\",\"marker\":{\"colorbar\":{\"outlinewidth\":0,\"ticks\":\"\"}}}],\"histogram\":[{\"marker\":{\"pattern\":{\"fillmode\":\"overlay\",\"size\":10,\"solidity\":0.2}},\"type\":\"histogram\"}],\"scattergl\":[{\"type\":\"scattergl\",\"marker\":{\"colorbar\":{\"outlinewidth\":0,\"ticks\":\"\"}}}],\"scatter3d\":[{\"type\":\"scatter3d\",\"line\":{\"colorbar\":{\"outlinewidth\":0,\"ticks\":\"\"}},\"marker\":{\"colorbar\":{\"outlinewidth\":0,\"ticks\":\"\"}}}],\"scattermapbox\":[{\"type\":\"scattermapbox\",\"marker\":{\"colorbar\":{\"outlinewidth\":0,\"ticks\":\"\"}}}],\"scatterternary\":[{\"type\":\"scatterternary\",\"marker\":{\"colorbar\":{\"outlinewidth\":0,\"ticks\":\"\"}}}],\"scattercarpet\":[{\"type\":\"scattercarpet\",\"marker\":{\"colorbar\":{\"outlinewidth\":0,\"ticks\":\"\"}}}],\"carpet\":[{\"aaxis\":{\"endlinecolor\":\"#2a3f5f\",\"gridcolor\":\"white\",\"linecolor\":\"white\",\"minorgridcolor\":\"white\",\"startlinecolor\":\"#2a3f5f\"},\"baxis\":{\"endlinecolor\":\"#2a3f5f\",\"gridcolor\":\"white\",\"linecolor\":\"white\",\"minorgridcolor\":\"white\",\"startlinecolor\":\"#2a3f5f\"},\"type\":\"carpet\"}],\"table\":[{\"cells\":{\"fill\":{\"color\":\"#EBF0F8\"},\"line\":{\"color\":\"white\"}},\"header\":{\"fill\":{\"color\":\"#C8D4E3\"},\"line\":{\"color\":\"white\"}},\"type\":\"table\"}],\"barpolar\":[{\"marker\":{\"line\":{\"color\":\"#E5ECF6\",\"width\":0.5},\"pattern\":{\"fillmode\":\"overlay\",\"size\":10,\"solidity\":0.2}},\"type\":\"barpolar\"}],\"pie\":[{\"automargin\":true,\"type\":\"pie\"}]},\"layout\":{\"autotypenumbers\":\"strict\",\"colorway\":[\"#636efa\",\"#EF553B\",\"#00cc96\",\"#ab63fa\",\"#FFA15A\",\"#19d3f3\",\"#FF6692\",\"#B6E880\",\"#FF97FF\",\"#FECB52\"],\"font\":{\"color\":\"#2a3f5f\"},\"hovermode\":\"closest\",\"hoverlabel\":{\"align\":\"left\"},\"paper_bgcolor\":\"white\",\"plot_bgcolor\":\"#E5ECF6\",\"polar\":{\"bgcolor\":\"#E5ECF6\",\"angularaxis\":{\"gridcolor\":\"white\",\"linecolor\":\"white\",\"ticks\":\"\"},\"radialaxis\":{\"gridcolor\":\"white\",\"linecolor\":\"white\",\"ticks\":\"\"}},\"ternary\":{\"bgcolor\":\"#E5ECF6\",\"aaxis\":{\"gridcolor\":\"white\",\"linecolor\":\"white\",\"ticks\":\"\"},\"baxis\":{\"gridcolor\":\"white\",\"linecolor\":\"white\",\"ticks\":\"\"},\"caxis\":{\"gridcolor\":\"white\",\"linecolor\":\"white\",\"ticks\":\"\"}},\"coloraxis\":{\"colorbar\":{\"outlinewidth\":0,\"ticks\":\"\"}},\"colorscale\":{\"sequential\":[[0.0,\"#0d0887\"],[0.1111111111111111,\"#46039f\"],[0.2222222222222222,\"#7201a8\"],[0.3333333333333333,\"#9c179e\"],[0.4444444444444444,\"#bd3786\"],[0.5555555555555556,\"#d8576b\"],[0.6666666666666666,\"#ed7953\"],[0.7777777777777778,\"#fb9f3a\"],[0.8888888888888888,\"#fdca26\"],[1.0,\"#f0f921\"]],\"sequentialminus\":[[0.0,\"#0d0887\"],[0.1111111111111111,\"#46039f\"],[0.2222222222222222,\"#7201a8\"],[0.3333333333333333,\"#9c179e\"],[0.4444444444444444,\"#bd3786\"],[0.5555555555555556,\"#d8576b\"],[0.6666666666666666,\"#ed7953\"],[0.7777777777777778,\"#fb9f3a\"],[0.8888888888888888,\"#fdca26\"],[1.0,\"#f0f921\"]],\"diverging\":[[0,\"#8e0152\"],[0.1,\"#c51b7d\"],[0.2,\"#de77ae\"],[0.3,\"#f1b6da\"],[0.4,\"#fde0ef\"],[0.5,\"#f7f7f7\"],[0.6,\"#e6f5d0\"],[0.7,\"#b8e186\"],[0.8,\"#7fbc41\"],[0.9,\"#4d9221\"],[1,\"#276419\"]]},\"xaxis\":{\"gridcolor\":\"white\",\"linecolor\":\"white\",\"ticks\":\"\",\"title\":{\"standoff\":15},\"zerolinecolor\":\"white\",\"automargin\":true,\"zerolinewidth\":2},\"yaxis\":{\"gridcolor\":\"white\",\"linecolor\":\"white\",\"ticks\":\"\",\"title\":{\"standoff\":15},\"zerolinecolor\":\"white\",\"automargin\":true,\"zerolinewidth\":2},\"scene\":{\"xaxis\":{\"backgroundcolor\":\"#E5ECF6\",\"gridcolor\":\"white\",\"linecolor\":\"white\",\"showbackground\":true,\"ticks\":\"\",\"zerolinecolor\":\"white\",\"gridwidth\":2},\"yaxis\":{\"backgroundcolor\":\"#E5ECF6\",\"gridcolor\":\"white\",\"linecolor\":\"white\",\"showbackground\":true,\"ticks\":\"\",\"zerolinecolor\":\"white\",\"gridwidth\":2},\"zaxis\":{\"backgroundcolor\":\"#E5ECF6\",\"gridcolor\":\"white\",\"linecolor\":\"white\",\"showbackground\":true,\"ticks\":\"\",\"zerolinecolor\":\"white\",\"gridwidth\":2}},\"shapedefaults\":{\"line\":{\"color\":\"#2a3f5f\"}},\"annotationdefaults\":{\"arrowcolor\":\"#2a3f5f\",\"arrowhead\":0,\"arrowwidth\":1},\"geo\":{\"bgcolor\":\"white\",\"landcolor\":\"#E5ECF6\",\"subunitcolor\":\"white\",\"showland\":true,\"showlakes\":true,\"lakecolor\":\"white\"},\"title\":{\"x\":0.05},\"mapbox\":{\"style\":\"light\"}}},\"xaxis\":{\"anchor\":\"y\",\"domain\":[0.0,1.0],\"title\":{\"text\":\"\\u041a\\u043e\\u043b\\u0438\\u0447\\u0435\\u0442\\u0432\\u043e \\u0434\\u0435\\u0439\\u0441\\u0442\\u0432\\u0438\\u0439\"}},\"yaxis\":{\"anchor\":\"x\",\"domain\":[0.0,1.0],\"title\":{\"text\":\"\\u0427\\u0430\\u0441\\u0442\\u043e\\u0442\\u0430\"}},\"legend\":{\"title\":{\"text\":\"\\u0413\\u0440\\u0443\\u043f\\u043f\\u0430\"},\"tracegroupgap\":0},\"margin\":{\"t\":60},\"barmode\":\"overlay\",\"title\":{\"text\":\"\\u0420\\u0430\\u0441\\u043f\\u0440\\u0435\\u0434\\u0435\\u043b\\u0435\\u043d\\u0438\\u0435 \\u043a\\u043e\\u043b\\u0438\\u0447\\u0435\\u0441\\u0442\\u0432\\u0430 \\u0434\\u0435\\u0439\\u0441\\u0442\\u0432\\u0438\\u0439 \\u043f\\u043e\\u043b\\u044c\\u0437\\u043e\\u0432\\u0430\\u0442\\u0435\\u043b\\u0435\\u0439 \\u043f\\u043e \\u0447\\u0430\\u0441\\u0442\\u043e\\u0442\\u0435\"}},                        {\"responsive\": true}                    ).then(function(){\n",
       "                            \n",
       "var gd = document.getElementById('294928af-0941-412e-9a6a-7e6f330cad5d');\n",
       "var x = new MutationObserver(function (mutations, observer) {{\n",
       "        var display = window.getComputedStyle(gd).display;\n",
       "        if (!display || display === 'none') {{\n",
       "            console.log([gd, 'removed!']);\n",
       "            Plotly.purge(gd);\n",
       "            observer.disconnect();\n",
       "        }}\n",
       "}});\n",
       "\n",
       "// Listen for the removal of the full notebook cells\n",
       "var notebookContainer = gd.closest('#notebook-container');\n",
       "if (notebookContainer) {{\n",
       "    x.observe(notebookContainer, {childList: true});\n",
       "}}\n",
       "\n",
       "// Listen for the clearing of the current output cell\n",
       "var outputEl = gd.closest('.output');\n",
       "if (outputEl) {{\n",
       "    x.observe(outputEl, {childList: true});\n",
       "}}\n",
       "\n",
       "                        })                };                });            </script>        </div>"
      ]
     },
     "metadata": {},
     "output_type": "display_data"
    }
   ],
   "source": [
    "# Сгруппируем пользователей по количеству совершенных действий с разбивкой на группы теста\n",
    "counts_events_per_user = final_ab_participants.pivot_table(index='user_id', columns='group', values='event_name',\\\n",
    "                                                           aggfunc=['count'])\\\n",
    "                                              .droplevel(level=0, axis=1)\n",
    "\n",
    "# Построим диаграмму распределения количества событий для обеих групп\n",
    "fig = px.histogram(counts_events_per_user, color='group', barmode='overlay')\n",
    "\n",
    "fig.update_layout(title='Распределение количества действий пользователей по частоте',\n",
    "                  xaxis_title='Количетво действий',\n",
    "                  yaxis_title='Частота',\n",
    "                  legend_title_text='Группа'\n",
    "                 )\n",
    "\n",
    "fig.show()"
   ]
  },
  {
   "cell_type": "markdown",
   "id": "263dcd42",
   "metadata": {},
   "source": [
    "Не смотря на малое количество значений прослеживается нормальное распределение количества событий, имеющее схожий вид для обеих групп теста."
   ]
  },
  {
   "cell_type": "markdown",
   "id": "b1e428fb",
   "metadata": {},
   "source": [
    "Сравним среднее количество событий, совершаемых пользователями, в разных группах теста."
   ]
  },
  {
   "cell_type": "code",
   "execution_count": 128,
   "id": "3b8e7dcb",
   "metadata": {
    "scrolled": false
   },
   "outputs": [
    {
     "name": "stdout",
     "output_type": "stream",
     "text": [
      "Среднее количество событий, совершаемых пользователями группы \"А\": 7.0\n",
      "Среднее количество событий, совершаемых пользователями группы \"В\": 5.5\n"
     ]
    }
   ],
   "source": [
    "print('Среднее количество событий, совершаемых пользователями группы \"А\":', round(counts_events_per_user['A'].mean(), 1))\n",
    "print('Среднее количество событий, совершаемых пользователями группы \"В\":', round(counts_events_per_user['B'].mean(), 1))"
   ]
  },
  {
   "cell_type": "markdown",
   "id": "ea06e23b",
   "metadata": {},
   "source": [
    "Пользователи группы \"А\" совершают, в среднем, на 1,5 дейтвия больше покупателей группы \"В\"."
   ]
  },
  {
   "cell_type": "markdown",
   "id": "11a5b47a",
   "metadata": {},
   "source": [
    "### Распределение событий по дням"
   ]
  },
  {
   "cell_type": "markdown",
   "id": "2f64c27b",
   "metadata": {},
   "source": [
    "С целью анализа распределения количества событий по дням создадим отдельный столбец, содержащий только дату события."
   ]
  },
  {
   "cell_type": "code",
   "execution_count": 129,
   "id": "2eb3c2ee",
   "metadata": {
    "scrolled": false
   },
   "outputs": [
    {
     "data": {
      "text/html": [
       "<div>\n",
       "<style scoped>\n",
       "    .dataframe tbody tr th:only-of-type {\n",
       "        vertical-align: middle;\n",
       "    }\n",
       "\n",
       "    .dataframe tbody tr th {\n",
       "        vertical-align: top;\n",
       "    }\n",
       "\n",
       "    .dataframe thead th {\n",
       "        text-align: right;\n",
       "    }\n",
       "</style>\n",
       "<table border=\"1\" class=\"dataframe\">\n",
       "  <thead>\n",
       "    <tr style=\"text-align: right;\">\n",
       "      <th></th>\n",
       "      <th>user_id</th>\n",
       "      <th>group</th>\n",
       "      <th>ab_test</th>\n",
       "      <th>registration_date</th>\n",
       "      <th>region</th>\n",
       "      <th>registration_device</th>\n",
       "      <th>event_date</th>\n",
       "      <th>event_name</th>\n",
       "      <th>details</th>\n",
       "      <th>event_date_ymd</th>\n",
       "    </tr>\n",
       "  </thead>\n",
       "  <tbody>\n",
       "    <tr>\n",
       "      <th>8</th>\n",
       "      <td>A7A3664BD6242119</td>\n",
       "      <td>A</td>\n",
       "      <td>recommender_system_test</td>\n",
       "      <td>2020-12-20</td>\n",
       "      <td>EU</td>\n",
       "      <td>iPhone</td>\n",
       "      <td>2020-12-20 15:46:06</td>\n",
       "      <td>product_page</td>\n",
       "      <td>NaN</td>\n",
       "      <td>2020-12-20</td>\n",
       "    </tr>\n",
       "    <tr>\n",
       "      <th>9</th>\n",
       "      <td>A7A3664BD6242119</td>\n",
       "      <td>A</td>\n",
       "      <td>recommender_system_test</td>\n",
       "      <td>2020-12-20</td>\n",
       "      <td>EU</td>\n",
       "      <td>iPhone</td>\n",
       "      <td>2020-12-21 00:40:59</td>\n",
       "      <td>product_page</td>\n",
       "      <td>NaN</td>\n",
       "      <td>2020-12-21</td>\n",
       "    </tr>\n",
       "    <tr>\n",
       "      <th>10</th>\n",
       "      <td>A7A3664BD6242119</td>\n",
       "      <td>A</td>\n",
       "      <td>recommender_system_test</td>\n",
       "      <td>2020-12-20</td>\n",
       "      <td>EU</td>\n",
       "      <td>iPhone</td>\n",
       "      <td>2020-12-25 05:19:45</td>\n",
       "      <td>product_page</td>\n",
       "      <td>NaN</td>\n",
       "      <td>2020-12-25</td>\n",
       "    </tr>\n",
       "  </tbody>\n",
       "</table>\n",
       "</div>"
      ],
      "text/plain": [
       "             user_id group                  ab_test registration_date region  \\\n",
       "8   A7A3664BD6242119     A  recommender_system_test        2020-12-20     EU   \n",
       "9   A7A3664BD6242119     A  recommender_system_test        2020-12-20     EU   \n",
       "10  A7A3664BD6242119     A  recommender_system_test        2020-12-20     EU   \n",
       "\n",
       "   registration_device          event_date    event_name  details  \\\n",
       "8               iPhone 2020-12-20 15:46:06  product_page      NaN   \n",
       "9               iPhone 2020-12-21 00:40:59  product_page      NaN   \n",
       "10              iPhone 2020-12-25 05:19:45  product_page      NaN   \n",
       "\n",
       "   event_date_ymd  \n",
       "8      2020-12-20  \n",
       "9      2020-12-21  \n",
       "10     2020-12-25  "
      ]
     },
     "execution_count": 129,
     "metadata": {},
     "output_type": "execute_result"
    }
   ],
   "source": [
    "final_ab_participants['event_date_ymd'] = pd.to_datetime(final_ab_participants['event_date']).dt.strftime('%Y-%m-%d')\n",
    "final_ab_participants['event_date_ymd'] = pd.to_datetime(final_ab_participants['event_date_ymd'])\n",
    "\n",
    "final_ab_participants.head(3)"
   ]
  },
  {
   "cell_type": "markdown",
   "id": "e45f4992",
   "metadata": {},
   "source": [
    "Сгруппируем датасет по количеству совершенных действий, приходящихся на каждый день исследования, и оценим распределение."
   ]
  },
  {
   "cell_type": "code",
   "execution_count": 130,
   "id": "5a6526b9",
   "metadata": {
    "scrolled": false
   },
   "outputs": [
    {
     "data": {
      "application/vnd.plotly.v1+json": {
       "config": {
        "plotlyServerURL": "https://plot.ly"
       },
       "data": [
        {
         "alignmentgroup": "True",
         "hovertemplate": "group=A<br>event_date_ymd=%{x}<br>value=%{y}<extra></extra>",
         "legendgroup": "A",
         "marker": {
          "color": "#636efa",
          "opacity": 0.5,
          "pattern": {
           "shape": ""
          }
         },
         "name": "A",
         "offsetgroup": "A",
         "orientation": "v",
         "showlegend": true,
         "textposition": "auto",
         "type": "bar",
         "x": [
          "2020-12-07T00:00:00",
          "2020-12-08T00:00:00",
          "2020-12-09T00:00:00",
          "2020-12-10T00:00:00",
          "2020-12-11T00:00:00",
          "2020-12-12T00:00:00",
          "2020-12-13T00:00:00",
          "2020-12-14T00:00:00",
          "2020-12-15T00:00:00",
          "2020-12-16T00:00:00",
          "2020-12-17T00:00:00",
          "2020-12-18T00:00:00",
          "2020-12-19T00:00:00",
          "2020-12-20T00:00:00",
          "2020-12-21T00:00:00",
          "2020-12-22T00:00:00",
          "2020-12-23T00:00:00",
          "2020-12-24T00:00:00",
          "2020-12-25T00:00:00",
          "2020-12-26T00:00:00",
          "2020-12-27T00:00:00",
          "2020-12-28T00:00:00",
          "2020-12-29T00:00:00"
         ],
         "xaxis": "x",
         "y": [
          232,
          239,
          292,
          295,
          270,
          298,
          253,
          953,
          991,
          978,
          1167,
          1220,
          1412,
          1426,
          1885,
          1218,
          947,
          802,
          600,
          545,
          509,
          448,
          324
         ],
         "yaxis": "y"
        },
        {
         "alignmentgroup": "True",
         "hovertemplate": "group=B<br>event_date_ymd=%{x}<br>value=%{y}<extra></extra>",
         "legendgroup": "B",
         "marker": {
          "color": "#EF553B",
          "opacity": 0.5,
          "pattern": {
           "shape": ""
          }
         },
         "name": "B",
         "offsetgroup": "B",
         "orientation": "v",
         "showlegend": true,
         "textposition": "auto",
         "type": "bar",
         "x": [
          "2020-12-07T00:00:00",
          "2020-12-08T00:00:00",
          "2020-12-09T00:00:00",
          "2020-12-10T00:00:00",
          "2020-12-11T00:00:00",
          "2020-12-12T00:00:00",
          "2020-12-13T00:00:00",
          "2020-12-14T00:00:00",
          "2020-12-15T00:00:00",
          "2020-12-16T00:00:00",
          "2020-12-17T00:00:00",
          "2020-12-18T00:00:00",
          "2020-12-19T00:00:00",
          "2020-12-20T00:00:00",
          "2020-12-21T00:00:00",
          "2020-12-22T00:00:00",
          "2020-12-23T00:00:00",
          "2020-12-24T00:00:00",
          "2020-12-25T00:00:00",
          "2020-12-26T00:00:00",
          "2020-12-27T00:00:00",
          "2020-12-28T00:00:00",
          "2020-12-29T00:00:00"
         ],
         "xaxis": "x",
         "y": [
          234,
          176,
          260,
          184,
          113,
          163,
          133,
          222,
          195,
          356,
          270,
          243,
          272,
          298,
          387,
          169,
          166,
          121,
          75,
          64,
          75,
          70,
          41
         ],
         "yaxis": "y"
        }
       ],
       "layout": {
        "barmode": "overlay",
        "legend": {
         "title": {
          "text": "Группа"
         },
         "tracegroupgap": 0
        },
        "margin": {
         "t": 60
        },
        "template": {
         "data": {
          "bar": [
           {
            "error_x": {
             "color": "#2a3f5f"
            },
            "error_y": {
             "color": "#2a3f5f"
            },
            "marker": {
             "line": {
              "color": "#E5ECF6",
              "width": 0.5
             },
             "pattern": {
              "fillmode": "overlay",
              "size": 10,
              "solidity": 0.2
             }
            },
            "type": "bar"
           }
          ],
          "barpolar": [
           {
            "marker": {
             "line": {
              "color": "#E5ECF6",
              "width": 0.5
             },
             "pattern": {
              "fillmode": "overlay",
              "size": 10,
              "solidity": 0.2
             }
            },
            "type": "barpolar"
           }
          ],
          "carpet": [
           {
            "aaxis": {
             "endlinecolor": "#2a3f5f",
             "gridcolor": "white",
             "linecolor": "white",
             "minorgridcolor": "white",
             "startlinecolor": "#2a3f5f"
            },
            "baxis": {
             "endlinecolor": "#2a3f5f",
             "gridcolor": "white",
             "linecolor": "white",
             "minorgridcolor": "white",
             "startlinecolor": "#2a3f5f"
            },
            "type": "carpet"
           }
          ],
          "choropleth": [
           {
            "colorbar": {
             "outlinewidth": 0,
             "ticks": ""
            },
            "type": "choropleth"
           }
          ],
          "contour": [
           {
            "colorbar": {
             "outlinewidth": 0,
             "ticks": ""
            },
            "colorscale": [
             [
              0,
              "#0d0887"
             ],
             [
              0.1111111111111111,
              "#46039f"
             ],
             [
              0.2222222222222222,
              "#7201a8"
             ],
             [
              0.3333333333333333,
              "#9c179e"
             ],
             [
              0.4444444444444444,
              "#bd3786"
             ],
             [
              0.5555555555555556,
              "#d8576b"
             ],
             [
              0.6666666666666666,
              "#ed7953"
             ],
             [
              0.7777777777777778,
              "#fb9f3a"
             ],
             [
              0.8888888888888888,
              "#fdca26"
             ],
             [
              1,
              "#f0f921"
             ]
            ],
            "type": "contour"
           }
          ],
          "contourcarpet": [
           {
            "colorbar": {
             "outlinewidth": 0,
             "ticks": ""
            },
            "type": "contourcarpet"
           }
          ],
          "heatmap": [
           {
            "colorbar": {
             "outlinewidth": 0,
             "ticks": ""
            },
            "colorscale": [
             [
              0,
              "#0d0887"
             ],
             [
              0.1111111111111111,
              "#46039f"
             ],
             [
              0.2222222222222222,
              "#7201a8"
             ],
             [
              0.3333333333333333,
              "#9c179e"
             ],
             [
              0.4444444444444444,
              "#bd3786"
             ],
             [
              0.5555555555555556,
              "#d8576b"
             ],
             [
              0.6666666666666666,
              "#ed7953"
             ],
             [
              0.7777777777777778,
              "#fb9f3a"
             ],
             [
              0.8888888888888888,
              "#fdca26"
             ],
             [
              1,
              "#f0f921"
             ]
            ],
            "type": "heatmap"
           }
          ],
          "heatmapgl": [
           {
            "colorbar": {
             "outlinewidth": 0,
             "ticks": ""
            },
            "colorscale": [
             [
              0,
              "#0d0887"
             ],
             [
              0.1111111111111111,
              "#46039f"
             ],
             [
              0.2222222222222222,
              "#7201a8"
             ],
             [
              0.3333333333333333,
              "#9c179e"
             ],
             [
              0.4444444444444444,
              "#bd3786"
             ],
             [
              0.5555555555555556,
              "#d8576b"
             ],
             [
              0.6666666666666666,
              "#ed7953"
             ],
             [
              0.7777777777777778,
              "#fb9f3a"
             ],
             [
              0.8888888888888888,
              "#fdca26"
             ],
             [
              1,
              "#f0f921"
             ]
            ],
            "type": "heatmapgl"
           }
          ],
          "histogram": [
           {
            "marker": {
             "pattern": {
              "fillmode": "overlay",
              "size": 10,
              "solidity": 0.2
             }
            },
            "type": "histogram"
           }
          ],
          "histogram2d": [
           {
            "colorbar": {
             "outlinewidth": 0,
             "ticks": ""
            },
            "colorscale": [
             [
              0,
              "#0d0887"
             ],
             [
              0.1111111111111111,
              "#46039f"
             ],
             [
              0.2222222222222222,
              "#7201a8"
             ],
             [
              0.3333333333333333,
              "#9c179e"
             ],
             [
              0.4444444444444444,
              "#bd3786"
             ],
             [
              0.5555555555555556,
              "#d8576b"
             ],
             [
              0.6666666666666666,
              "#ed7953"
             ],
             [
              0.7777777777777778,
              "#fb9f3a"
             ],
             [
              0.8888888888888888,
              "#fdca26"
             ],
             [
              1,
              "#f0f921"
             ]
            ],
            "type": "histogram2d"
           }
          ],
          "histogram2dcontour": [
           {
            "colorbar": {
             "outlinewidth": 0,
             "ticks": ""
            },
            "colorscale": [
             [
              0,
              "#0d0887"
             ],
             [
              0.1111111111111111,
              "#46039f"
             ],
             [
              0.2222222222222222,
              "#7201a8"
             ],
             [
              0.3333333333333333,
              "#9c179e"
             ],
             [
              0.4444444444444444,
              "#bd3786"
             ],
             [
              0.5555555555555556,
              "#d8576b"
             ],
             [
              0.6666666666666666,
              "#ed7953"
             ],
             [
              0.7777777777777778,
              "#fb9f3a"
             ],
             [
              0.8888888888888888,
              "#fdca26"
             ],
             [
              1,
              "#f0f921"
             ]
            ],
            "type": "histogram2dcontour"
           }
          ],
          "mesh3d": [
           {
            "colorbar": {
             "outlinewidth": 0,
             "ticks": ""
            },
            "type": "mesh3d"
           }
          ],
          "parcoords": [
           {
            "line": {
             "colorbar": {
              "outlinewidth": 0,
              "ticks": ""
             }
            },
            "type": "parcoords"
           }
          ],
          "pie": [
           {
            "automargin": true,
            "type": "pie"
           }
          ],
          "scatter": [
           {
            "fillpattern": {
             "fillmode": "overlay",
             "size": 10,
             "solidity": 0.2
            },
            "type": "scatter"
           }
          ],
          "scatter3d": [
           {
            "line": {
             "colorbar": {
              "outlinewidth": 0,
              "ticks": ""
             }
            },
            "marker": {
             "colorbar": {
              "outlinewidth": 0,
              "ticks": ""
             }
            },
            "type": "scatter3d"
           }
          ],
          "scattercarpet": [
           {
            "marker": {
             "colorbar": {
              "outlinewidth": 0,
              "ticks": ""
             }
            },
            "type": "scattercarpet"
           }
          ],
          "scattergeo": [
           {
            "marker": {
             "colorbar": {
              "outlinewidth": 0,
              "ticks": ""
             }
            },
            "type": "scattergeo"
           }
          ],
          "scattergl": [
           {
            "marker": {
             "colorbar": {
              "outlinewidth": 0,
              "ticks": ""
             }
            },
            "type": "scattergl"
           }
          ],
          "scattermapbox": [
           {
            "marker": {
             "colorbar": {
              "outlinewidth": 0,
              "ticks": ""
             }
            },
            "type": "scattermapbox"
           }
          ],
          "scatterpolar": [
           {
            "marker": {
             "colorbar": {
              "outlinewidth": 0,
              "ticks": ""
             }
            },
            "type": "scatterpolar"
           }
          ],
          "scatterpolargl": [
           {
            "marker": {
             "colorbar": {
              "outlinewidth": 0,
              "ticks": ""
             }
            },
            "type": "scatterpolargl"
           }
          ],
          "scatterternary": [
           {
            "marker": {
             "colorbar": {
              "outlinewidth": 0,
              "ticks": ""
             }
            },
            "type": "scatterternary"
           }
          ],
          "surface": [
           {
            "colorbar": {
             "outlinewidth": 0,
             "ticks": ""
            },
            "colorscale": [
             [
              0,
              "#0d0887"
             ],
             [
              0.1111111111111111,
              "#46039f"
             ],
             [
              0.2222222222222222,
              "#7201a8"
             ],
             [
              0.3333333333333333,
              "#9c179e"
             ],
             [
              0.4444444444444444,
              "#bd3786"
             ],
             [
              0.5555555555555556,
              "#d8576b"
             ],
             [
              0.6666666666666666,
              "#ed7953"
             ],
             [
              0.7777777777777778,
              "#fb9f3a"
             ],
             [
              0.8888888888888888,
              "#fdca26"
             ],
             [
              1,
              "#f0f921"
             ]
            ],
            "type": "surface"
           }
          ],
          "table": [
           {
            "cells": {
             "fill": {
              "color": "#EBF0F8"
             },
             "line": {
              "color": "white"
             }
            },
            "header": {
             "fill": {
              "color": "#C8D4E3"
             },
             "line": {
              "color": "white"
             }
            },
            "type": "table"
           }
          ]
         },
         "layout": {
          "annotationdefaults": {
           "arrowcolor": "#2a3f5f",
           "arrowhead": 0,
           "arrowwidth": 1
          },
          "autotypenumbers": "strict",
          "coloraxis": {
           "colorbar": {
            "outlinewidth": 0,
            "ticks": ""
           }
          },
          "colorscale": {
           "diverging": [
            [
             0,
             "#8e0152"
            ],
            [
             0.1,
             "#c51b7d"
            ],
            [
             0.2,
             "#de77ae"
            ],
            [
             0.3,
             "#f1b6da"
            ],
            [
             0.4,
             "#fde0ef"
            ],
            [
             0.5,
             "#f7f7f7"
            ],
            [
             0.6,
             "#e6f5d0"
            ],
            [
             0.7,
             "#b8e186"
            ],
            [
             0.8,
             "#7fbc41"
            ],
            [
             0.9,
             "#4d9221"
            ],
            [
             1,
             "#276419"
            ]
           ],
           "sequential": [
            [
             0,
             "#0d0887"
            ],
            [
             0.1111111111111111,
             "#46039f"
            ],
            [
             0.2222222222222222,
             "#7201a8"
            ],
            [
             0.3333333333333333,
             "#9c179e"
            ],
            [
             0.4444444444444444,
             "#bd3786"
            ],
            [
             0.5555555555555556,
             "#d8576b"
            ],
            [
             0.6666666666666666,
             "#ed7953"
            ],
            [
             0.7777777777777778,
             "#fb9f3a"
            ],
            [
             0.8888888888888888,
             "#fdca26"
            ],
            [
             1,
             "#f0f921"
            ]
           ],
           "sequentialminus": [
            [
             0,
             "#0d0887"
            ],
            [
             0.1111111111111111,
             "#46039f"
            ],
            [
             0.2222222222222222,
             "#7201a8"
            ],
            [
             0.3333333333333333,
             "#9c179e"
            ],
            [
             0.4444444444444444,
             "#bd3786"
            ],
            [
             0.5555555555555556,
             "#d8576b"
            ],
            [
             0.6666666666666666,
             "#ed7953"
            ],
            [
             0.7777777777777778,
             "#fb9f3a"
            ],
            [
             0.8888888888888888,
             "#fdca26"
            ],
            [
             1,
             "#f0f921"
            ]
           ]
          },
          "colorway": [
           "#636efa",
           "#EF553B",
           "#00cc96",
           "#ab63fa",
           "#FFA15A",
           "#19d3f3",
           "#FF6692",
           "#B6E880",
           "#FF97FF",
           "#FECB52"
          ],
          "font": {
           "color": "#2a3f5f"
          },
          "geo": {
           "bgcolor": "white",
           "lakecolor": "white",
           "landcolor": "#E5ECF6",
           "showlakes": true,
           "showland": true,
           "subunitcolor": "white"
          },
          "hoverlabel": {
           "align": "left"
          },
          "hovermode": "closest",
          "mapbox": {
           "style": "light"
          },
          "paper_bgcolor": "white",
          "plot_bgcolor": "#E5ECF6",
          "polar": {
           "angularaxis": {
            "gridcolor": "white",
            "linecolor": "white",
            "ticks": ""
           },
           "bgcolor": "#E5ECF6",
           "radialaxis": {
            "gridcolor": "white",
            "linecolor": "white",
            "ticks": ""
           }
          },
          "scene": {
           "xaxis": {
            "backgroundcolor": "#E5ECF6",
            "gridcolor": "white",
            "gridwidth": 2,
            "linecolor": "white",
            "showbackground": true,
            "ticks": "",
            "zerolinecolor": "white"
           },
           "yaxis": {
            "backgroundcolor": "#E5ECF6",
            "gridcolor": "white",
            "gridwidth": 2,
            "linecolor": "white",
            "showbackground": true,
            "ticks": "",
            "zerolinecolor": "white"
           },
           "zaxis": {
            "backgroundcolor": "#E5ECF6",
            "gridcolor": "white",
            "gridwidth": 2,
            "linecolor": "white",
            "showbackground": true,
            "ticks": "",
            "zerolinecolor": "white"
           }
          },
          "shapedefaults": {
           "line": {
            "color": "#2a3f5f"
           }
          },
          "ternary": {
           "aaxis": {
            "gridcolor": "white",
            "linecolor": "white",
            "ticks": ""
           },
           "baxis": {
            "gridcolor": "white",
            "linecolor": "white",
            "ticks": ""
           },
           "bgcolor": "#E5ECF6",
           "caxis": {
            "gridcolor": "white",
            "linecolor": "white",
            "ticks": ""
           }
          },
          "title": {
           "x": 0.05
          },
          "xaxis": {
           "automargin": true,
           "gridcolor": "white",
           "linecolor": "white",
           "ticks": "",
           "title": {
            "standoff": 15
           },
           "zerolinecolor": "white",
           "zerolinewidth": 2
          },
          "yaxis": {
           "automargin": true,
           "gridcolor": "white",
           "linecolor": "white",
           "ticks": "",
           "title": {
            "standoff": 15
           },
           "zerolinecolor": "white",
           "zerolinewidth": 2
          }
         }
        },
        "title": {
         "text": "Распределение количества действий пользователей по дням"
        },
        "xaxis": {
         "anchor": "y",
         "domain": [
          0,
          1
         ],
         "title": {
          "text": "Дата"
         }
        },
        "yaxis": {
         "anchor": "x",
         "domain": [
          0,
          1
         ],
         "title": {
          "text": "Количетво действий"
         }
        }
       }
      },
      "text/html": [
       "<div>                            <div id=\"9ddc668f-f3b9-49b5-8422-cd32875f2333\" class=\"plotly-graph-div\" style=\"height:525px; width:100%;\"></div>            <script type=\"text/javascript\">                require([\"plotly\"], function(Plotly) {                    window.PLOTLYENV=window.PLOTLYENV || {};                                    if (document.getElementById(\"9ddc668f-f3b9-49b5-8422-cd32875f2333\")) {                    Plotly.newPlot(                        \"9ddc668f-f3b9-49b5-8422-cd32875f2333\",                        [{\"alignmentgroup\":\"True\",\"hovertemplate\":\"group=A<br>event_date_ymd=%{x}<br>value=%{y}<extra></extra>\",\"legendgroup\":\"A\",\"marker\":{\"color\":\"#636efa\",\"opacity\":0.5,\"pattern\":{\"shape\":\"\"}},\"name\":\"A\",\"offsetgroup\":\"A\",\"orientation\":\"v\",\"showlegend\":true,\"textposition\":\"auto\",\"x\":[\"2020-12-07T00:00:00\",\"2020-12-08T00:00:00\",\"2020-12-09T00:00:00\",\"2020-12-10T00:00:00\",\"2020-12-11T00:00:00\",\"2020-12-12T00:00:00\",\"2020-12-13T00:00:00\",\"2020-12-14T00:00:00\",\"2020-12-15T00:00:00\",\"2020-12-16T00:00:00\",\"2020-12-17T00:00:00\",\"2020-12-18T00:00:00\",\"2020-12-19T00:00:00\",\"2020-12-20T00:00:00\",\"2020-12-21T00:00:00\",\"2020-12-22T00:00:00\",\"2020-12-23T00:00:00\",\"2020-12-24T00:00:00\",\"2020-12-25T00:00:00\",\"2020-12-26T00:00:00\",\"2020-12-27T00:00:00\",\"2020-12-28T00:00:00\",\"2020-12-29T00:00:00\"],\"xaxis\":\"x\",\"y\":[232,239,292,295,270,298,253,953,991,978,1167,1220,1412,1426,1885,1218,947,802,600,545,509,448,324],\"yaxis\":\"y\",\"type\":\"bar\"},{\"alignmentgroup\":\"True\",\"hovertemplate\":\"group=B<br>event_date_ymd=%{x}<br>value=%{y}<extra></extra>\",\"legendgroup\":\"B\",\"marker\":{\"color\":\"#EF553B\",\"opacity\":0.5,\"pattern\":{\"shape\":\"\"}},\"name\":\"B\",\"offsetgroup\":\"B\",\"orientation\":\"v\",\"showlegend\":true,\"textposition\":\"auto\",\"x\":[\"2020-12-07T00:00:00\",\"2020-12-08T00:00:00\",\"2020-12-09T00:00:00\",\"2020-12-10T00:00:00\",\"2020-12-11T00:00:00\",\"2020-12-12T00:00:00\",\"2020-12-13T00:00:00\",\"2020-12-14T00:00:00\",\"2020-12-15T00:00:00\",\"2020-12-16T00:00:00\",\"2020-12-17T00:00:00\",\"2020-12-18T00:00:00\",\"2020-12-19T00:00:00\",\"2020-12-20T00:00:00\",\"2020-12-21T00:00:00\",\"2020-12-22T00:00:00\",\"2020-12-23T00:00:00\",\"2020-12-24T00:00:00\",\"2020-12-25T00:00:00\",\"2020-12-26T00:00:00\",\"2020-12-27T00:00:00\",\"2020-12-28T00:00:00\",\"2020-12-29T00:00:00\"],\"xaxis\":\"x\",\"y\":[234,176,260,184,113,163,133,222,195,356,270,243,272,298,387,169,166,121,75,64,75,70,41],\"yaxis\":\"y\",\"type\":\"bar\"}],                        {\"template\":{\"data\":{\"histogram2dcontour\":[{\"type\":\"histogram2dcontour\",\"colorbar\":{\"outlinewidth\":0,\"ticks\":\"\"},\"colorscale\":[[0.0,\"#0d0887\"],[0.1111111111111111,\"#46039f\"],[0.2222222222222222,\"#7201a8\"],[0.3333333333333333,\"#9c179e\"],[0.4444444444444444,\"#bd3786\"],[0.5555555555555556,\"#d8576b\"],[0.6666666666666666,\"#ed7953\"],[0.7777777777777778,\"#fb9f3a\"],[0.8888888888888888,\"#fdca26\"],[1.0,\"#f0f921\"]]}],\"choropleth\":[{\"type\":\"choropleth\",\"colorbar\":{\"outlinewidth\":0,\"ticks\":\"\"}}],\"histogram2d\":[{\"type\":\"histogram2d\",\"colorbar\":{\"outlinewidth\":0,\"ticks\":\"\"},\"colorscale\":[[0.0,\"#0d0887\"],[0.1111111111111111,\"#46039f\"],[0.2222222222222222,\"#7201a8\"],[0.3333333333333333,\"#9c179e\"],[0.4444444444444444,\"#bd3786\"],[0.5555555555555556,\"#d8576b\"],[0.6666666666666666,\"#ed7953\"],[0.7777777777777778,\"#fb9f3a\"],[0.8888888888888888,\"#fdca26\"],[1.0,\"#f0f921\"]]}],\"heatmap\":[{\"type\":\"heatmap\",\"colorbar\":{\"outlinewidth\":0,\"ticks\":\"\"},\"colorscale\":[[0.0,\"#0d0887\"],[0.1111111111111111,\"#46039f\"],[0.2222222222222222,\"#7201a8\"],[0.3333333333333333,\"#9c179e\"],[0.4444444444444444,\"#bd3786\"],[0.5555555555555556,\"#d8576b\"],[0.6666666666666666,\"#ed7953\"],[0.7777777777777778,\"#fb9f3a\"],[0.8888888888888888,\"#fdca26\"],[1.0,\"#f0f921\"]]}],\"heatmapgl\":[{\"type\":\"heatmapgl\",\"colorbar\":{\"outlinewidth\":0,\"ticks\":\"\"},\"colorscale\":[[0.0,\"#0d0887\"],[0.1111111111111111,\"#46039f\"],[0.2222222222222222,\"#7201a8\"],[0.3333333333333333,\"#9c179e\"],[0.4444444444444444,\"#bd3786\"],[0.5555555555555556,\"#d8576b\"],[0.6666666666666666,\"#ed7953\"],[0.7777777777777778,\"#fb9f3a\"],[0.8888888888888888,\"#fdca26\"],[1.0,\"#f0f921\"]]}],\"contourcarpet\":[{\"type\":\"contourcarpet\",\"colorbar\":{\"outlinewidth\":0,\"ticks\":\"\"}}],\"contour\":[{\"type\":\"contour\",\"colorbar\":{\"outlinewidth\":0,\"ticks\":\"\"},\"colorscale\":[[0.0,\"#0d0887\"],[0.1111111111111111,\"#46039f\"],[0.2222222222222222,\"#7201a8\"],[0.3333333333333333,\"#9c179e\"],[0.4444444444444444,\"#bd3786\"],[0.5555555555555556,\"#d8576b\"],[0.6666666666666666,\"#ed7953\"],[0.7777777777777778,\"#fb9f3a\"],[0.8888888888888888,\"#fdca26\"],[1.0,\"#f0f921\"]]}],\"surface\":[{\"type\":\"surface\",\"colorbar\":{\"outlinewidth\":0,\"ticks\":\"\"},\"colorscale\":[[0.0,\"#0d0887\"],[0.1111111111111111,\"#46039f\"],[0.2222222222222222,\"#7201a8\"],[0.3333333333333333,\"#9c179e\"],[0.4444444444444444,\"#bd3786\"],[0.5555555555555556,\"#d8576b\"],[0.6666666666666666,\"#ed7953\"],[0.7777777777777778,\"#fb9f3a\"],[0.8888888888888888,\"#fdca26\"],[1.0,\"#f0f921\"]]}],\"mesh3d\":[{\"type\":\"mesh3d\",\"colorbar\":{\"outlinewidth\":0,\"ticks\":\"\"}}],\"scatter\":[{\"fillpattern\":{\"fillmode\":\"overlay\",\"size\":10,\"solidity\":0.2},\"type\":\"scatter\"}],\"parcoords\":[{\"type\":\"parcoords\",\"line\":{\"colorbar\":{\"outlinewidth\":0,\"ticks\":\"\"}}}],\"scatterpolargl\":[{\"type\":\"scatterpolargl\",\"marker\":{\"colorbar\":{\"outlinewidth\":0,\"ticks\":\"\"}}}],\"bar\":[{\"error_x\":{\"color\":\"#2a3f5f\"},\"error_y\":{\"color\":\"#2a3f5f\"},\"marker\":{\"line\":{\"color\":\"#E5ECF6\",\"width\":0.5},\"pattern\":{\"fillmode\":\"overlay\",\"size\":10,\"solidity\":0.2}},\"type\":\"bar\"}],\"scattergeo\":[{\"type\":\"scattergeo\",\"marker\":{\"colorbar\":{\"outlinewidth\":0,\"ticks\":\"\"}}}],\"scatterpolar\":[{\"type\":\"scatterpolar\",\"marker\":{\"colorbar\":{\"outlinewidth\":0,\"ticks\":\"\"}}}],\"histogram\":[{\"marker\":{\"pattern\":{\"fillmode\":\"overlay\",\"size\":10,\"solidity\":0.2}},\"type\":\"histogram\"}],\"scattergl\":[{\"type\":\"scattergl\",\"marker\":{\"colorbar\":{\"outlinewidth\":0,\"ticks\":\"\"}}}],\"scatter3d\":[{\"type\":\"scatter3d\",\"line\":{\"colorbar\":{\"outlinewidth\":0,\"ticks\":\"\"}},\"marker\":{\"colorbar\":{\"outlinewidth\":0,\"ticks\":\"\"}}}],\"scattermapbox\":[{\"type\":\"scattermapbox\",\"marker\":{\"colorbar\":{\"outlinewidth\":0,\"ticks\":\"\"}}}],\"scatterternary\":[{\"type\":\"scatterternary\",\"marker\":{\"colorbar\":{\"outlinewidth\":0,\"ticks\":\"\"}}}],\"scattercarpet\":[{\"type\":\"scattercarpet\",\"marker\":{\"colorbar\":{\"outlinewidth\":0,\"ticks\":\"\"}}}],\"carpet\":[{\"aaxis\":{\"endlinecolor\":\"#2a3f5f\",\"gridcolor\":\"white\",\"linecolor\":\"white\",\"minorgridcolor\":\"white\",\"startlinecolor\":\"#2a3f5f\"},\"baxis\":{\"endlinecolor\":\"#2a3f5f\",\"gridcolor\":\"white\",\"linecolor\":\"white\",\"minorgridcolor\":\"white\",\"startlinecolor\":\"#2a3f5f\"},\"type\":\"carpet\"}],\"table\":[{\"cells\":{\"fill\":{\"color\":\"#EBF0F8\"},\"line\":{\"color\":\"white\"}},\"header\":{\"fill\":{\"color\":\"#C8D4E3\"},\"line\":{\"color\":\"white\"}},\"type\":\"table\"}],\"barpolar\":[{\"marker\":{\"line\":{\"color\":\"#E5ECF6\",\"width\":0.5},\"pattern\":{\"fillmode\":\"overlay\",\"size\":10,\"solidity\":0.2}},\"type\":\"barpolar\"}],\"pie\":[{\"automargin\":true,\"type\":\"pie\"}]},\"layout\":{\"autotypenumbers\":\"strict\",\"colorway\":[\"#636efa\",\"#EF553B\",\"#00cc96\",\"#ab63fa\",\"#FFA15A\",\"#19d3f3\",\"#FF6692\",\"#B6E880\",\"#FF97FF\",\"#FECB52\"],\"font\":{\"color\":\"#2a3f5f\"},\"hovermode\":\"closest\",\"hoverlabel\":{\"align\":\"left\"},\"paper_bgcolor\":\"white\",\"plot_bgcolor\":\"#E5ECF6\",\"polar\":{\"bgcolor\":\"#E5ECF6\",\"angularaxis\":{\"gridcolor\":\"white\",\"linecolor\":\"white\",\"ticks\":\"\"},\"radialaxis\":{\"gridcolor\":\"white\",\"linecolor\":\"white\",\"ticks\":\"\"}},\"ternary\":{\"bgcolor\":\"#E5ECF6\",\"aaxis\":{\"gridcolor\":\"white\",\"linecolor\":\"white\",\"ticks\":\"\"},\"baxis\":{\"gridcolor\":\"white\",\"linecolor\":\"white\",\"ticks\":\"\"},\"caxis\":{\"gridcolor\":\"white\",\"linecolor\":\"white\",\"ticks\":\"\"}},\"coloraxis\":{\"colorbar\":{\"outlinewidth\":0,\"ticks\":\"\"}},\"colorscale\":{\"sequential\":[[0.0,\"#0d0887\"],[0.1111111111111111,\"#46039f\"],[0.2222222222222222,\"#7201a8\"],[0.3333333333333333,\"#9c179e\"],[0.4444444444444444,\"#bd3786\"],[0.5555555555555556,\"#d8576b\"],[0.6666666666666666,\"#ed7953\"],[0.7777777777777778,\"#fb9f3a\"],[0.8888888888888888,\"#fdca26\"],[1.0,\"#f0f921\"]],\"sequentialminus\":[[0.0,\"#0d0887\"],[0.1111111111111111,\"#46039f\"],[0.2222222222222222,\"#7201a8\"],[0.3333333333333333,\"#9c179e\"],[0.4444444444444444,\"#bd3786\"],[0.5555555555555556,\"#d8576b\"],[0.6666666666666666,\"#ed7953\"],[0.7777777777777778,\"#fb9f3a\"],[0.8888888888888888,\"#fdca26\"],[1.0,\"#f0f921\"]],\"diverging\":[[0,\"#8e0152\"],[0.1,\"#c51b7d\"],[0.2,\"#de77ae\"],[0.3,\"#f1b6da\"],[0.4,\"#fde0ef\"],[0.5,\"#f7f7f7\"],[0.6,\"#e6f5d0\"],[0.7,\"#b8e186\"],[0.8,\"#7fbc41\"],[0.9,\"#4d9221\"],[1,\"#276419\"]]},\"xaxis\":{\"gridcolor\":\"white\",\"linecolor\":\"white\",\"ticks\":\"\",\"title\":{\"standoff\":15},\"zerolinecolor\":\"white\",\"automargin\":true,\"zerolinewidth\":2},\"yaxis\":{\"gridcolor\":\"white\",\"linecolor\":\"white\",\"ticks\":\"\",\"title\":{\"standoff\":15},\"zerolinecolor\":\"white\",\"automargin\":true,\"zerolinewidth\":2},\"scene\":{\"xaxis\":{\"backgroundcolor\":\"#E5ECF6\",\"gridcolor\":\"white\",\"linecolor\":\"white\",\"showbackground\":true,\"ticks\":\"\",\"zerolinecolor\":\"white\",\"gridwidth\":2},\"yaxis\":{\"backgroundcolor\":\"#E5ECF6\",\"gridcolor\":\"white\",\"linecolor\":\"white\",\"showbackground\":true,\"ticks\":\"\",\"zerolinecolor\":\"white\",\"gridwidth\":2},\"zaxis\":{\"backgroundcolor\":\"#E5ECF6\",\"gridcolor\":\"white\",\"linecolor\":\"white\",\"showbackground\":true,\"ticks\":\"\",\"zerolinecolor\":\"white\",\"gridwidth\":2}},\"shapedefaults\":{\"line\":{\"color\":\"#2a3f5f\"}},\"annotationdefaults\":{\"arrowcolor\":\"#2a3f5f\",\"arrowhead\":0,\"arrowwidth\":1},\"geo\":{\"bgcolor\":\"white\",\"landcolor\":\"#E5ECF6\",\"subunitcolor\":\"white\",\"showland\":true,\"showlakes\":true,\"lakecolor\":\"white\"},\"title\":{\"x\":0.05},\"mapbox\":{\"style\":\"light\"}}},\"xaxis\":{\"anchor\":\"y\",\"domain\":[0.0,1.0],\"title\":{\"text\":\"\\u0414\\u0430\\u0442\\u0430\"}},\"yaxis\":{\"anchor\":\"x\",\"domain\":[0.0,1.0],\"title\":{\"text\":\"\\u041a\\u043e\\u043b\\u0438\\u0447\\u0435\\u0442\\u0432\\u043e \\u0434\\u0435\\u0439\\u0441\\u0442\\u0432\\u0438\\u0439\"}},\"legend\":{\"title\":{\"text\":\"\\u0413\\u0440\\u0443\\u043f\\u043f\\u0430\"},\"tracegroupgap\":0},\"margin\":{\"t\":60},\"barmode\":\"overlay\",\"title\":{\"text\":\"\\u0420\\u0430\\u0441\\u043f\\u0440\\u0435\\u0434\\u0435\\u043b\\u0435\\u043d\\u0438\\u0435 \\u043a\\u043e\\u043b\\u0438\\u0447\\u0435\\u0441\\u0442\\u0432\\u0430 \\u0434\\u0435\\u0439\\u0441\\u0442\\u0432\\u0438\\u0439 \\u043f\\u043e\\u043b\\u044c\\u0437\\u043e\\u0432\\u0430\\u0442\\u0435\\u043b\\u0435\\u0439 \\u043f\\u043e \\u0434\\u043d\\u044f\\u043c\"}},                        {\"responsive\": true}                    ).then(function(){\n",
       "                            \n",
       "var gd = document.getElementById('9ddc668f-f3b9-49b5-8422-cd32875f2333');\n",
       "var x = new MutationObserver(function (mutations, observer) {{\n",
       "        var display = window.getComputedStyle(gd).display;\n",
       "        if (!display || display === 'none') {{\n",
       "            console.log([gd, 'removed!']);\n",
       "            Plotly.purge(gd);\n",
       "            observer.disconnect();\n",
       "        }}\n",
       "}});\n",
       "\n",
       "// Listen for the removal of the full notebook cells\n",
       "var notebookContainer = gd.closest('#notebook-container');\n",
       "if (notebookContainer) {{\n",
       "    x.observe(notebookContainer, {childList: true});\n",
       "}}\n",
       "\n",
       "// Listen for the clearing of the current output cell\n",
       "var outputEl = gd.closest('.output');\n",
       "if (outputEl) {{\n",
       "    x.observe(outputEl, {childList: true});\n",
       "}}\n",
       "\n",
       "                        })                };                });            </script>        </div>"
      ]
     },
     "metadata": {},
     "output_type": "display_data"
    }
   ],
   "source": [
    "# Сгруппируем даты по количеству совершенных действий с разбивкой на группы теста\n",
    "counts_events_per_days = final_ab_participants.pivot_table(index='event_date_ymd', columns='group', values='event_name',\\\n",
    "                                                           aggfunc=['count'])\\\n",
    "                                              .droplevel(level=0, axis=1)\n",
    "\n",
    "# Построим диаграмму распределения количества действий пользователей по датам\n",
    "fig = px.bar(counts_events_per_days, color='group', barmode='overlay')\n",
    "\n",
    "fig.update_layout(title='Распределение количества действий пользователей по дням',\n",
    "                  xaxis_title='Дата',\n",
    "                  yaxis_title='Количетво действий',\n",
    "                  legend_title_text='Группа'\n",
    "                 )\n",
    "\n",
    "fig.show()"
   ]
  },
  {
   "cell_type": "markdown",
   "id": "f3cc4a2b",
   "metadata": {},
   "source": [
    "Пик активности пользователей в обеих группах приходится на 15-й день – 21 декабря 2020 года, что совпадает с датой прекращения регистрации новых пользователей на платформе. По 29 декабря пользовательская активность планомерно снижается в обеих группах.\n",
    "\n",
    "Скорее всего маркетинговое мероприятие, пересекающееся с активностью пользователей с 25 декабря, в меньшей степени повлияет на результаты теста, так как попадет на снижающийся тренд пользовательской активности в этот период."
   ]
  },
  {
   "cell_type": "markdown",
   "id": "76556ce4",
   "metadata": {},
   "source": [
    "### Воронка событий"
   ]
  },
  {
   "cell_type": "markdown",
   "id": "46dae48e",
   "metadata": {},
   "source": [
    "Сформируем и визуализируем воронку событий по количеству уникальных пользователей на каждое событие."
   ]
  },
  {
   "cell_type": "code",
   "execution_count": 131,
   "id": "303c4ddb",
   "metadata": {
    "scrolled": false
   },
   "outputs": [
    {
     "data": {
      "application/vnd.plotly.v1+json": {
       "config": {
        "plotlyServerURL": "https://plot.ly"
       },
       "data": [
        {
         "name": "A",
         "textinfo": "value+percent initial",
         "type": "funnel",
         "x": [
          2480,
          1606,
          753,
          801
         ],
         "y": [
          "login",
          "product_page",
          "product_cart",
          "purchase"
         ]
        },
        {
         "name": "B",
         "textinfo": "value+percent initial",
         "textposition": "inside",
         "type": "funnel",
         "x": [
          779,
          437,
          221,
          222
         ],
         "y": [
          "login",
          "product_page",
          "product_cart",
          "purchase"
         ]
        }
       ],
       "layout": {
        "legend": {
         "title": {
          "text": "Группа"
         }
        },
        "template": {
         "data": {
          "bar": [
           {
            "error_x": {
             "color": "#2a3f5f"
            },
            "error_y": {
             "color": "#2a3f5f"
            },
            "marker": {
             "line": {
              "color": "#E5ECF6",
              "width": 0.5
             },
             "pattern": {
              "fillmode": "overlay",
              "size": 10,
              "solidity": 0.2
             }
            },
            "type": "bar"
           }
          ],
          "barpolar": [
           {
            "marker": {
             "line": {
              "color": "#E5ECF6",
              "width": 0.5
             },
             "pattern": {
              "fillmode": "overlay",
              "size": 10,
              "solidity": 0.2
             }
            },
            "type": "barpolar"
           }
          ],
          "carpet": [
           {
            "aaxis": {
             "endlinecolor": "#2a3f5f",
             "gridcolor": "white",
             "linecolor": "white",
             "minorgridcolor": "white",
             "startlinecolor": "#2a3f5f"
            },
            "baxis": {
             "endlinecolor": "#2a3f5f",
             "gridcolor": "white",
             "linecolor": "white",
             "minorgridcolor": "white",
             "startlinecolor": "#2a3f5f"
            },
            "type": "carpet"
           }
          ],
          "choropleth": [
           {
            "colorbar": {
             "outlinewidth": 0,
             "ticks": ""
            },
            "type": "choropleth"
           }
          ],
          "contour": [
           {
            "colorbar": {
             "outlinewidth": 0,
             "ticks": ""
            },
            "colorscale": [
             [
              0,
              "#0d0887"
             ],
             [
              0.1111111111111111,
              "#46039f"
             ],
             [
              0.2222222222222222,
              "#7201a8"
             ],
             [
              0.3333333333333333,
              "#9c179e"
             ],
             [
              0.4444444444444444,
              "#bd3786"
             ],
             [
              0.5555555555555556,
              "#d8576b"
             ],
             [
              0.6666666666666666,
              "#ed7953"
             ],
             [
              0.7777777777777778,
              "#fb9f3a"
             ],
             [
              0.8888888888888888,
              "#fdca26"
             ],
             [
              1,
              "#f0f921"
             ]
            ],
            "type": "contour"
           }
          ],
          "contourcarpet": [
           {
            "colorbar": {
             "outlinewidth": 0,
             "ticks": ""
            },
            "type": "contourcarpet"
           }
          ],
          "heatmap": [
           {
            "colorbar": {
             "outlinewidth": 0,
             "ticks": ""
            },
            "colorscale": [
             [
              0,
              "#0d0887"
             ],
             [
              0.1111111111111111,
              "#46039f"
             ],
             [
              0.2222222222222222,
              "#7201a8"
             ],
             [
              0.3333333333333333,
              "#9c179e"
             ],
             [
              0.4444444444444444,
              "#bd3786"
             ],
             [
              0.5555555555555556,
              "#d8576b"
             ],
             [
              0.6666666666666666,
              "#ed7953"
             ],
             [
              0.7777777777777778,
              "#fb9f3a"
             ],
             [
              0.8888888888888888,
              "#fdca26"
             ],
             [
              1,
              "#f0f921"
             ]
            ],
            "type": "heatmap"
           }
          ],
          "heatmapgl": [
           {
            "colorbar": {
             "outlinewidth": 0,
             "ticks": ""
            },
            "colorscale": [
             [
              0,
              "#0d0887"
             ],
             [
              0.1111111111111111,
              "#46039f"
             ],
             [
              0.2222222222222222,
              "#7201a8"
             ],
             [
              0.3333333333333333,
              "#9c179e"
             ],
             [
              0.4444444444444444,
              "#bd3786"
             ],
             [
              0.5555555555555556,
              "#d8576b"
             ],
             [
              0.6666666666666666,
              "#ed7953"
             ],
             [
              0.7777777777777778,
              "#fb9f3a"
             ],
             [
              0.8888888888888888,
              "#fdca26"
             ],
             [
              1,
              "#f0f921"
             ]
            ],
            "type": "heatmapgl"
           }
          ],
          "histogram": [
           {
            "marker": {
             "pattern": {
              "fillmode": "overlay",
              "size": 10,
              "solidity": 0.2
             }
            },
            "type": "histogram"
           }
          ],
          "histogram2d": [
           {
            "colorbar": {
             "outlinewidth": 0,
             "ticks": ""
            },
            "colorscale": [
             [
              0,
              "#0d0887"
             ],
             [
              0.1111111111111111,
              "#46039f"
             ],
             [
              0.2222222222222222,
              "#7201a8"
             ],
             [
              0.3333333333333333,
              "#9c179e"
             ],
             [
              0.4444444444444444,
              "#bd3786"
             ],
             [
              0.5555555555555556,
              "#d8576b"
             ],
             [
              0.6666666666666666,
              "#ed7953"
             ],
             [
              0.7777777777777778,
              "#fb9f3a"
             ],
             [
              0.8888888888888888,
              "#fdca26"
             ],
             [
              1,
              "#f0f921"
             ]
            ],
            "type": "histogram2d"
           }
          ],
          "histogram2dcontour": [
           {
            "colorbar": {
             "outlinewidth": 0,
             "ticks": ""
            },
            "colorscale": [
             [
              0,
              "#0d0887"
             ],
             [
              0.1111111111111111,
              "#46039f"
             ],
             [
              0.2222222222222222,
              "#7201a8"
             ],
             [
              0.3333333333333333,
              "#9c179e"
             ],
             [
              0.4444444444444444,
              "#bd3786"
             ],
             [
              0.5555555555555556,
              "#d8576b"
             ],
             [
              0.6666666666666666,
              "#ed7953"
             ],
             [
              0.7777777777777778,
              "#fb9f3a"
             ],
             [
              0.8888888888888888,
              "#fdca26"
             ],
             [
              1,
              "#f0f921"
             ]
            ],
            "type": "histogram2dcontour"
           }
          ],
          "mesh3d": [
           {
            "colorbar": {
             "outlinewidth": 0,
             "ticks": ""
            },
            "type": "mesh3d"
           }
          ],
          "parcoords": [
           {
            "line": {
             "colorbar": {
              "outlinewidth": 0,
              "ticks": ""
             }
            },
            "type": "parcoords"
           }
          ],
          "pie": [
           {
            "automargin": true,
            "type": "pie"
           }
          ],
          "scatter": [
           {
            "fillpattern": {
             "fillmode": "overlay",
             "size": 10,
             "solidity": 0.2
            },
            "type": "scatter"
           }
          ],
          "scatter3d": [
           {
            "line": {
             "colorbar": {
              "outlinewidth": 0,
              "ticks": ""
             }
            },
            "marker": {
             "colorbar": {
              "outlinewidth": 0,
              "ticks": ""
             }
            },
            "type": "scatter3d"
           }
          ],
          "scattercarpet": [
           {
            "marker": {
             "colorbar": {
              "outlinewidth": 0,
              "ticks": ""
             }
            },
            "type": "scattercarpet"
           }
          ],
          "scattergeo": [
           {
            "marker": {
             "colorbar": {
              "outlinewidth": 0,
              "ticks": ""
             }
            },
            "type": "scattergeo"
           }
          ],
          "scattergl": [
           {
            "marker": {
             "colorbar": {
              "outlinewidth": 0,
              "ticks": ""
             }
            },
            "type": "scattergl"
           }
          ],
          "scattermapbox": [
           {
            "marker": {
             "colorbar": {
              "outlinewidth": 0,
              "ticks": ""
             }
            },
            "type": "scattermapbox"
           }
          ],
          "scatterpolar": [
           {
            "marker": {
             "colorbar": {
              "outlinewidth": 0,
              "ticks": ""
             }
            },
            "type": "scatterpolar"
           }
          ],
          "scatterpolargl": [
           {
            "marker": {
             "colorbar": {
              "outlinewidth": 0,
              "ticks": ""
             }
            },
            "type": "scatterpolargl"
           }
          ],
          "scatterternary": [
           {
            "marker": {
             "colorbar": {
              "outlinewidth": 0,
              "ticks": ""
             }
            },
            "type": "scatterternary"
           }
          ],
          "surface": [
           {
            "colorbar": {
             "outlinewidth": 0,
             "ticks": ""
            },
            "colorscale": [
             [
              0,
              "#0d0887"
             ],
             [
              0.1111111111111111,
              "#46039f"
             ],
             [
              0.2222222222222222,
              "#7201a8"
             ],
             [
              0.3333333333333333,
              "#9c179e"
             ],
             [
              0.4444444444444444,
              "#bd3786"
             ],
             [
              0.5555555555555556,
              "#d8576b"
             ],
             [
              0.6666666666666666,
              "#ed7953"
             ],
             [
              0.7777777777777778,
              "#fb9f3a"
             ],
             [
              0.8888888888888888,
              "#fdca26"
             ],
             [
              1,
              "#f0f921"
             ]
            ],
            "type": "surface"
           }
          ],
          "table": [
           {
            "cells": {
             "fill": {
              "color": "#EBF0F8"
             },
             "line": {
              "color": "white"
             }
            },
            "header": {
             "fill": {
              "color": "#C8D4E3"
             },
             "line": {
              "color": "white"
             }
            },
            "type": "table"
           }
          ]
         },
         "layout": {
          "annotationdefaults": {
           "arrowcolor": "#2a3f5f",
           "arrowhead": 0,
           "arrowwidth": 1
          },
          "autotypenumbers": "strict",
          "coloraxis": {
           "colorbar": {
            "outlinewidth": 0,
            "ticks": ""
           }
          },
          "colorscale": {
           "diverging": [
            [
             0,
             "#8e0152"
            ],
            [
             0.1,
             "#c51b7d"
            ],
            [
             0.2,
             "#de77ae"
            ],
            [
             0.3,
             "#f1b6da"
            ],
            [
             0.4,
             "#fde0ef"
            ],
            [
             0.5,
             "#f7f7f7"
            ],
            [
             0.6,
             "#e6f5d0"
            ],
            [
             0.7,
             "#b8e186"
            ],
            [
             0.8,
             "#7fbc41"
            ],
            [
             0.9,
             "#4d9221"
            ],
            [
             1,
             "#276419"
            ]
           ],
           "sequential": [
            [
             0,
             "#0d0887"
            ],
            [
             0.1111111111111111,
             "#46039f"
            ],
            [
             0.2222222222222222,
             "#7201a8"
            ],
            [
             0.3333333333333333,
             "#9c179e"
            ],
            [
             0.4444444444444444,
             "#bd3786"
            ],
            [
             0.5555555555555556,
             "#d8576b"
            ],
            [
             0.6666666666666666,
             "#ed7953"
            ],
            [
             0.7777777777777778,
             "#fb9f3a"
            ],
            [
             0.8888888888888888,
             "#fdca26"
            ],
            [
             1,
             "#f0f921"
            ]
           ],
           "sequentialminus": [
            [
             0,
             "#0d0887"
            ],
            [
             0.1111111111111111,
             "#46039f"
            ],
            [
             0.2222222222222222,
             "#7201a8"
            ],
            [
             0.3333333333333333,
             "#9c179e"
            ],
            [
             0.4444444444444444,
             "#bd3786"
            ],
            [
             0.5555555555555556,
             "#d8576b"
            ],
            [
             0.6666666666666666,
             "#ed7953"
            ],
            [
             0.7777777777777778,
             "#fb9f3a"
            ],
            [
             0.8888888888888888,
             "#fdca26"
            ],
            [
             1,
             "#f0f921"
            ]
           ]
          },
          "colorway": [
           "#636efa",
           "#EF553B",
           "#00cc96",
           "#ab63fa",
           "#FFA15A",
           "#19d3f3",
           "#FF6692",
           "#B6E880",
           "#FF97FF",
           "#FECB52"
          ],
          "font": {
           "color": "#2a3f5f"
          },
          "geo": {
           "bgcolor": "white",
           "lakecolor": "white",
           "landcolor": "#E5ECF6",
           "showlakes": true,
           "showland": true,
           "subunitcolor": "white"
          },
          "hoverlabel": {
           "align": "left"
          },
          "hovermode": "closest",
          "mapbox": {
           "style": "light"
          },
          "paper_bgcolor": "white",
          "plot_bgcolor": "#E5ECF6",
          "polar": {
           "angularaxis": {
            "gridcolor": "white",
            "linecolor": "white",
            "ticks": ""
           },
           "bgcolor": "#E5ECF6",
           "radialaxis": {
            "gridcolor": "white",
            "linecolor": "white",
            "ticks": ""
           }
          },
          "scene": {
           "xaxis": {
            "backgroundcolor": "#E5ECF6",
            "gridcolor": "white",
            "gridwidth": 2,
            "linecolor": "white",
            "showbackground": true,
            "ticks": "",
            "zerolinecolor": "white"
           },
           "yaxis": {
            "backgroundcolor": "#E5ECF6",
            "gridcolor": "white",
            "gridwidth": 2,
            "linecolor": "white",
            "showbackground": true,
            "ticks": "",
            "zerolinecolor": "white"
           },
           "zaxis": {
            "backgroundcolor": "#E5ECF6",
            "gridcolor": "white",
            "gridwidth": 2,
            "linecolor": "white",
            "showbackground": true,
            "ticks": "",
            "zerolinecolor": "white"
           }
          },
          "shapedefaults": {
           "line": {
            "color": "#2a3f5f"
           }
          },
          "ternary": {
           "aaxis": {
            "gridcolor": "white",
            "linecolor": "white",
            "ticks": ""
           },
           "baxis": {
            "gridcolor": "white",
            "linecolor": "white",
            "ticks": ""
           },
           "bgcolor": "#E5ECF6",
           "caxis": {
            "gridcolor": "white",
            "linecolor": "white",
            "ticks": ""
           }
          },
          "title": {
           "x": 0.05
          },
          "xaxis": {
           "automargin": true,
           "gridcolor": "white",
           "linecolor": "white",
           "ticks": "",
           "title": {
            "standoff": 15
           },
           "zerolinecolor": "white",
           "zerolinewidth": 2
          },
          "yaxis": {
           "automargin": true,
           "gridcolor": "white",
           "linecolor": "white",
           "ticks": "",
           "title": {
            "standoff": 15
           },
           "zerolinecolor": "white",
           "zerolinewidth": 2
          }
         }
        },
        "title": {
         "text": "Воронка событий"
        },
        "yaxis": {
         "title": {
          "text": "Название события"
         }
        }
       }
      },
      "text/html": [
       "<div>                            <div id=\"5b391523-e8bd-4c6b-8481-ed225d5639e9\" class=\"plotly-graph-div\" style=\"height:525px; width:100%;\"></div>            <script type=\"text/javascript\">                require([\"plotly\"], function(Plotly) {                    window.PLOTLYENV=window.PLOTLYENV || {};                                    if (document.getElementById(\"5b391523-e8bd-4c6b-8481-ed225d5639e9\")) {                    Plotly.newPlot(                        \"5b391523-e8bd-4c6b-8481-ed225d5639e9\",                        [{\"name\":\"A\",\"textinfo\":\"value+percent initial\",\"x\":[2480,1606,753,801],\"y\":[\"login\",\"product_page\",\"product_cart\",\"purchase\"],\"type\":\"funnel\"},{\"name\":\"B\",\"textinfo\":\"value+percent initial\",\"textposition\":\"inside\",\"x\":[779,437,221,222],\"y\":[\"login\",\"product_page\",\"product_cart\",\"purchase\"],\"type\":\"funnel\"}],                        {\"template\":{\"data\":{\"histogram2dcontour\":[{\"type\":\"histogram2dcontour\",\"colorbar\":{\"outlinewidth\":0,\"ticks\":\"\"},\"colorscale\":[[0.0,\"#0d0887\"],[0.1111111111111111,\"#46039f\"],[0.2222222222222222,\"#7201a8\"],[0.3333333333333333,\"#9c179e\"],[0.4444444444444444,\"#bd3786\"],[0.5555555555555556,\"#d8576b\"],[0.6666666666666666,\"#ed7953\"],[0.7777777777777778,\"#fb9f3a\"],[0.8888888888888888,\"#fdca26\"],[1.0,\"#f0f921\"]]}],\"choropleth\":[{\"type\":\"choropleth\",\"colorbar\":{\"outlinewidth\":0,\"ticks\":\"\"}}],\"histogram2d\":[{\"type\":\"histogram2d\",\"colorbar\":{\"outlinewidth\":0,\"ticks\":\"\"},\"colorscale\":[[0.0,\"#0d0887\"],[0.1111111111111111,\"#46039f\"],[0.2222222222222222,\"#7201a8\"],[0.3333333333333333,\"#9c179e\"],[0.4444444444444444,\"#bd3786\"],[0.5555555555555556,\"#d8576b\"],[0.6666666666666666,\"#ed7953\"],[0.7777777777777778,\"#fb9f3a\"],[0.8888888888888888,\"#fdca26\"],[1.0,\"#f0f921\"]]}],\"heatmap\":[{\"type\":\"heatmap\",\"colorbar\":{\"outlinewidth\":0,\"ticks\":\"\"},\"colorscale\":[[0.0,\"#0d0887\"],[0.1111111111111111,\"#46039f\"],[0.2222222222222222,\"#7201a8\"],[0.3333333333333333,\"#9c179e\"],[0.4444444444444444,\"#bd3786\"],[0.5555555555555556,\"#d8576b\"],[0.6666666666666666,\"#ed7953\"],[0.7777777777777778,\"#fb9f3a\"],[0.8888888888888888,\"#fdca26\"],[1.0,\"#f0f921\"]]}],\"heatmapgl\":[{\"type\":\"heatmapgl\",\"colorbar\":{\"outlinewidth\":0,\"ticks\":\"\"},\"colorscale\":[[0.0,\"#0d0887\"],[0.1111111111111111,\"#46039f\"],[0.2222222222222222,\"#7201a8\"],[0.3333333333333333,\"#9c179e\"],[0.4444444444444444,\"#bd3786\"],[0.5555555555555556,\"#d8576b\"],[0.6666666666666666,\"#ed7953\"],[0.7777777777777778,\"#fb9f3a\"],[0.8888888888888888,\"#fdca26\"],[1.0,\"#f0f921\"]]}],\"contourcarpet\":[{\"type\":\"contourcarpet\",\"colorbar\":{\"outlinewidth\":0,\"ticks\":\"\"}}],\"contour\":[{\"type\":\"contour\",\"colorbar\":{\"outlinewidth\":0,\"ticks\":\"\"},\"colorscale\":[[0.0,\"#0d0887\"],[0.1111111111111111,\"#46039f\"],[0.2222222222222222,\"#7201a8\"],[0.3333333333333333,\"#9c179e\"],[0.4444444444444444,\"#bd3786\"],[0.5555555555555556,\"#d8576b\"],[0.6666666666666666,\"#ed7953\"],[0.7777777777777778,\"#fb9f3a\"],[0.8888888888888888,\"#fdca26\"],[1.0,\"#f0f921\"]]}],\"surface\":[{\"type\":\"surface\",\"colorbar\":{\"outlinewidth\":0,\"ticks\":\"\"},\"colorscale\":[[0.0,\"#0d0887\"],[0.1111111111111111,\"#46039f\"],[0.2222222222222222,\"#7201a8\"],[0.3333333333333333,\"#9c179e\"],[0.4444444444444444,\"#bd3786\"],[0.5555555555555556,\"#d8576b\"],[0.6666666666666666,\"#ed7953\"],[0.7777777777777778,\"#fb9f3a\"],[0.8888888888888888,\"#fdca26\"],[1.0,\"#f0f921\"]]}],\"mesh3d\":[{\"type\":\"mesh3d\",\"colorbar\":{\"outlinewidth\":0,\"ticks\":\"\"}}],\"scatter\":[{\"fillpattern\":{\"fillmode\":\"overlay\",\"size\":10,\"solidity\":0.2},\"type\":\"scatter\"}],\"parcoords\":[{\"type\":\"parcoords\",\"line\":{\"colorbar\":{\"outlinewidth\":0,\"ticks\":\"\"}}}],\"scatterpolargl\":[{\"type\":\"scatterpolargl\",\"marker\":{\"colorbar\":{\"outlinewidth\":0,\"ticks\":\"\"}}}],\"bar\":[{\"error_x\":{\"color\":\"#2a3f5f\"},\"error_y\":{\"color\":\"#2a3f5f\"},\"marker\":{\"line\":{\"color\":\"#E5ECF6\",\"width\":0.5},\"pattern\":{\"fillmode\":\"overlay\",\"size\":10,\"solidity\":0.2}},\"type\":\"bar\"}],\"scattergeo\":[{\"type\":\"scattergeo\",\"marker\":{\"colorbar\":{\"outlinewidth\":0,\"ticks\":\"\"}}}],\"scatterpolar\":[{\"type\":\"scatterpolar\",\"marker\":{\"colorbar\":{\"outlinewidth\":0,\"ticks\":\"\"}}}],\"histogram\":[{\"marker\":{\"pattern\":{\"fillmode\":\"overlay\",\"size\":10,\"solidity\":0.2}},\"type\":\"histogram\"}],\"scattergl\":[{\"type\":\"scattergl\",\"marker\":{\"colorbar\":{\"outlinewidth\":0,\"ticks\":\"\"}}}],\"scatter3d\":[{\"type\":\"scatter3d\",\"line\":{\"colorbar\":{\"outlinewidth\":0,\"ticks\":\"\"}},\"marker\":{\"colorbar\":{\"outlinewidth\":0,\"ticks\":\"\"}}}],\"scattermapbox\":[{\"type\":\"scattermapbox\",\"marker\":{\"colorbar\":{\"outlinewidth\":0,\"ticks\":\"\"}}}],\"scatterternary\":[{\"type\":\"scatterternary\",\"marker\":{\"colorbar\":{\"outlinewidth\":0,\"ticks\":\"\"}}}],\"scattercarpet\":[{\"type\":\"scattercarpet\",\"marker\":{\"colorbar\":{\"outlinewidth\":0,\"ticks\":\"\"}}}],\"carpet\":[{\"aaxis\":{\"endlinecolor\":\"#2a3f5f\",\"gridcolor\":\"white\",\"linecolor\":\"white\",\"minorgridcolor\":\"white\",\"startlinecolor\":\"#2a3f5f\"},\"baxis\":{\"endlinecolor\":\"#2a3f5f\",\"gridcolor\":\"white\",\"linecolor\":\"white\",\"minorgridcolor\":\"white\",\"startlinecolor\":\"#2a3f5f\"},\"type\":\"carpet\"}],\"table\":[{\"cells\":{\"fill\":{\"color\":\"#EBF0F8\"},\"line\":{\"color\":\"white\"}},\"header\":{\"fill\":{\"color\":\"#C8D4E3\"},\"line\":{\"color\":\"white\"}},\"type\":\"table\"}],\"barpolar\":[{\"marker\":{\"line\":{\"color\":\"#E5ECF6\",\"width\":0.5},\"pattern\":{\"fillmode\":\"overlay\",\"size\":10,\"solidity\":0.2}},\"type\":\"barpolar\"}],\"pie\":[{\"automargin\":true,\"type\":\"pie\"}]},\"layout\":{\"autotypenumbers\":\"strict\",\"colorway\":[\"#636efa\",\"#EF553B\",\"#00cc96\",\"#ab63fa\",\"#FFA15A\",\"#19d3f3\",\"#FF6692\",\"#B6E880\",\"#FF97FF\",\"#FECB52\"],\"font\":{\"color\":\"#2a3f5f\"},\"hovermode\":\"closest\",\"hoverlabel\":{\"align\":\"left\"},\"paper_bgcolor\":\"white\",\"plot_bgcolor\":\"#E5ECF6\",\"polar\":{\"bgcolor\":\"#E5ECF6\",\"angularaxis\":{\"gridcolor\":\"white\",\"linecolor\":\"white\",\"ticks\":\"\"},\"radialaxis\":{\"gridcolor\":\"white\",\"linecolor\":\"white\",\"ticks\":\"\"}},\"ternary\":{\"bgcolor\":\"#E5ECF6\",\"aaxis\":{\"gridcolor\":\"white\",\"linecolor\":\"white\",\"ticks\":\"\"},\"baxis\":{\"gridcolor\":\"white\",\"linecolor\":\"white\",\"ticks\":\"\"},\"caxis\":{\"gridcolor\":\"white\",\"linecolor\":\"white\",\"ticks\":\"\"}},\"coloraxis\":{\"colorbar\":{\"outlinewidth\":0,\"ticks\":\"\"}},\"colorscale\":{\"sequential\":[[0.0,\"#0d0887\"],[0.1111111111111111,\"#46039f\"],[0.2222222222222222,\"#7201a8\"],[0.3333333333333333,\"#9c179e\"],[0.4444444444444444,\"#bd3786\"],[0.5555555555555556,\"#d8576b\"],[0.6666666666666666,\"#ed7953\"],[0.7777777777777778,\"#fb9f3a\"],[0.8888888888888888,\"#fdca26\"],[1.0,\"#f0f921\"]],\"sequentialminus\":[[0.0,\"#0d0887\"],[0.1111111111111111,\"#46039f\"],[0.2222222222222222,\"#7201a8\"],[0.3333333333333333,\"#9c179e\"],[0.4444444444444444,\"#bd3786\"],[0.5555555555555556,\"#d8576b\"],[0.6666666666666666,\"#ed7953\"],[0.7777777777777778,\"#fb9f3a\"],[0.8888888888888888,\"#fdca26\"],[1.0,\"#f0f921\"]],\"diverging\":[[0,\"#8e0152\"],[0.1,\"#c51b7d\"],[0.2,\"#de77ae\"],[0.3,\"#f1b6da\"],[0.4,\"#fde0ef\"],[0.5,\"#f7f7f7\"],[0.6,\"#e6f5d0\"],[0.7,\"#b8e186\"],[0.8,\"#7fbc41\"],[0.9,\"#4d9221\"],[1,\"#276419\"]]},\"xaxis\":{\"gridcolor\":\"white\",\"linecolor\":\"white\",\"ticks\":\"\",\"title\":{\"standoff\":15},\"zerolinecolor\":\"white\",\"automargin\":true,\"zerolinewidth\":2},\"yaxis\":{\"gridcolor\":\"white\",\"linecolor\":\"white\",\"ticks\":\"\",\"title\":{\"standoff\":15},\"zerolinecolor\":\"white\",\"automargin\":true,\"zerolinewidth\":2},\"scene\":{\"xaxis\":{\"backgroundcolor\":\"#E5ECF6\",\"gridcolor\":\"white\",\"linecolor\":\"white\",\"showbackground\":true,\"ticks\":\"\",\"zerolinecolor\":\"white\",\"gridwidth\":2},\"yaxis\":{\"backgroundcolor\":\"#E5ECF6\",\"gridcolor\":\"white\",\"linecolor\":\"white\",\"showbackground\":true,\"ticks\":\"\",\"zerolinecolor\":\"white\",\"gridwidth\":2},\"zaxis\":{\"backgroundcolor\":\"#E5ECF6\",\"gridcolor\":\"white\",\"linecolor\":\"white\",\"showbackground\":true,\"ticks\":\"\",\"zerolinecolor\":\"white\",\"gridwidth\":2}},\"shapedefaults\":{\"line\":{\"color\":\"#2a3f5f\"}},\"annotationdefaults\":{\"arrowcolor\":\"#2a3f5f\",\"arrowhead\":0,\"arrowwidth\":1},\"geo\":{\"bgcolor\":\"white\",\"landcolor\":\"#E5ECF6\",\"subunitcolor\":\"white\",\"showland\":true,\"showlakes\":true,\"lakecolor\":\"white\"},\"title\":{\"x\":0.05},\"mapbox\":{\"style\":\"light\"}}},\"legend\":{\"title\":{\"text\":\"\\u0413\\u0440\\u0443\\u043f\\u043f\\u0430\"}},\"title\":{\"text\":\"\\u0412\\u043e\\u0440\\u043e\\u043d\\u043a\\u0430 \\u0441\\u043e\\u0431\\u044b\\u0442\\u0438\\u0439\"},\"yaxis\":{\"title\":{\"text\":\"\\u041d\\u0430\\u0437\\u0432\\u0430\\u043d\\u0438\\u0435 \\u0441\\u043e\\u0431\\u044b\\u0442\\u0438\\u044f\"}}},                        {\"responsive\": true}                    ).then(function(){\n",
       "                            \n",
       "var gd = document.getElementById('5b391523-e8bd-4c6b-8481-ed225d5639e9');\n",
       "var x = new MutationObserver(function (mutations, observer) {{\n",
       "        var display = window.getComputedStyle(gd).display;\n",
       "        if (!display || display === 'none') {{\n",
       "            console.log([gd, 'removed!']);\n",
       "            Plotly.purge(gd);\n",
       "            observer.disconnect();\n",
       "        }}\n",
       "}});\n",
       "\n",
       "// Listen for the removal of the full notebook cells\n",
       "var notebookContainer = gd.closest('#notebook-container');\n",
       "if (notebookContainer) {{\n",
       "    x.observe(notebookContainer, {childList: true});\n",
       "}}\n",
       "\n",
       "// Listen for the clearing of the current output cell\n",
       "var outputEl = gd.closest('.output');\n",
       "if (outputEl) {{\n",
       "    x.observe(outputEl, {childList: true});\n",
       "}}\n",
       "\n",
       "                        })                };                });            </script>        </div>"
      ]
     },
     "metadata": {},
     "output_type": "display_data"
    }
   ],
   "source": [
    "# Группируем события по количеству уникальных пользователей с разбивкой на группы теста\n",
    "event_funnel = final_ab_participants.pivot_table(index='event_name', columns='group', values='user_id', aggfunc=['nunique'])\\\n",
    "                                    .droplevel(level=0, axis=1)\n",
    "\n",
    "# Меняем последовательность событий воронки в соответсвтии с порядком целевых действий пользователей\n",
    "new_order = ['login', 'product_page', 'product_cart', 'purchase']\n",
    "event_funnel = event_funnel.reindex(new_order)\n",
    "\n",
    "# Визуализируем воронку событий\n",
    "fig = go.Figure()\n",
    "\n",
    "fig.add_trace(go.Funnel(\n",
    "    name = 'A',\n",
    "    y = event_funnel.index,\n",
    "    x = event_funnel['A'].tolist(),\n",
    "    textinfo = \"value+percent initial\"))\n",
    "\n",
    "fig.add_trace(go.Funnel(\n",
    "    name = 'B',\n",
    "    y = event_funnel.index,\n",
    "    x = event_funnel['B'].tolist(),\n",
    "    textposition = \"inside\",\n",
    "    textinfo = \"value+percent initial\"))\n",
    "\n",
    "fig.update_layout(title='Воронка событий',\n",
    "                  yaxis_title='Название события',\n",
    "                  legend_title_text='Группа'\n",
    "                 )\n",
    "\n",
    "fig.show()"
   ]
  },
  {
   "cell_type": "markdown",
   "id": "8d3bf4f1",
   "metadata": {},
   "source": [
    "Конверсия тестовой группы \"В\" хуже конверсии контрольной группы \"А\" на всех этапах воронки. Только 32 % пользователей группы \"А\" проходят от авторизации до оплаты товара. Доля пользователей группы \"В\", совершивших аналогичный путь, составляет 28 %.\n",
    "\n",
    "Конверсия к событию \"product_cart\" оказалась ниже конверсии к событию \"purchase\", что может означать возможность покупки товаров минуя корзину."
   ]
  },
  {
   "cell_type": "markdown",
   "id": "12a161d4",
   "metadata": {},
   "source": [
    "### Особенности данных"
   ]
  },
  {
   "cell_type": "markdown",
   "id": "bea322bf",
   "metadata": {},
   "source": [
    "Низкое соответствие данных техническому заданию (общее количество участников, необходимая аудитория), а также минимальным необходимым условиям успешного проведения теста (количество участников в выборках), может негативно повлиять на точность теста."
   ]
  },
  {
   "cell_type": "markdown",
   "id": "c43c5520",
   "metadata": {},
   "source": [
    "## Оценка результатов A/B-тестирования"
   ]
  },
  {
   "cell_type": "markdown",
   "id": "fd9da05a",
   "metadata": {},
   "source": [
    "Выведем и проанализируем воронку событий, а также количество пользователей в каждой из групп."
   ]
  },
  {
   "cell_type": "code",
   "execution_count": 132,
   "id": "96aca0a8",
   "metadata": {
    "scrolled": false
   },
   "outputs": [
    {
     "data": {
      "text/html": [
       "<div>\n",
       "<style scoped>\n",
       "    .dataframe tbody tr th:only-of-type {\n",
       "        vertical-align: middle;\n",
       "    }\n",
       "\n",
       "    .dataframe tbody tr th {\n",
       "        vertical-align: top;\n",
       "    }\n",
       "\n",
       "    .dataframe thead th {\n",
       "        text-align: right;\n",
       "    }\n",
       "</style>\n",
       "<table border=\"1\" class=\"dataframe\">\n",
       "  <thead>\n",
       "    <tr style=\"text-align: right;\">\n",
       "      <th>group</th>\n",
       "      <th>A</th>\n",
       "      <th>B</th>\n",
       "    </tr>\n",
       "    <tr>\n",
       "      <th>event_name</th>\n",
       "      <th></th>\n",
       "      <th></th>\n",
       "    </tr>\n",
       "  </thead>\n",
       "  <tbody>\n",
       "    <tr>\n",
       "      <th>login</th>\n",
       "      <td>2480</td>\n",
       "      <td>779</td>\n",
       "    </tr>\n",
       "    <tr>\n",
       "      <th>product_page</th>\n",
       "      <td>1606</td>\n",
       "      <td>437</td>\n",
       "    </tr>\n",
       "    <tr>\n",
       "      <th>product_cart</th>\n",
       "      <td>753</td>\n",
       "      <td>221</td>\n",
       "    </tr>\n",
       "    <tr>\n",
       "      <th>purchase</th>\n",
       "      <td>801</td>\n",
       "      <td>222</td>\n",
       "    </tr>\n",
       "  </tbody>\n",
       "</table>\n",
       "</div>"
      ],
      "text/plain": [
       "group            A    B\n",
       "event_name             \n",
       "login         2480  779\n",
       "product_page  1606  437\n",
       "product_cart   753  221\n",
       "purchase       801  222"
      ]
     },
     "metadata": {},
     "output_type": "display_data"
    },
    {
     "data": {
      "text/html": [
       "<div>\n",
       "<style scoped>\n",
       "    .dataframe tbody tr th:only-of-type {\n",
       "        vertical-align: middle;\n",
       "    }\n",
       "\n",
       "    .dataframe tbody tr th {\n",
       "        vertical-align: top;\n",
       "    }\n",
       "\n",
       "    .dataframe thead th {\n",
       "        text-align: right;\n",
       "    }\n",
       "</style>\n",
       "<table border=\"1\" class=\"dataframe\">\n",
       "  <thead>\n",
       "    <tr style=\"text-align: right;\">\n",
       "      <th></th>\n",
       "      <th>user_id</th>\n",
       "      <th>share, %</th>\n",
       "    </tr>\n",
       "    <tr>\n",
       "      <th>group</th>\n",
       "      <th></th>\n",
       "      <th></th>\n",
       "    </tr>\n",
       "  </thead>\n",
       "  <tbody>\n",
       "    <tr>\n",
       "      <th>A</th>\n",
       "      <td>2480</td>\n",
       "      <td>76.1</td>\n",
       "    </tr>\n",
       "    <tr>\n",
       "      <th>B</th>\n",
       "      <td>779</td>\n",
       "      <td>23.9</td>\n",
       "    </tr>\n",
       "  </tbody>\n",
       "</table>\n",
       "</div>"
      ],
      "text/plain": [
       "       user_id  share, %\n",
       "group                   \n",
       "A         2480      76.1\n",
       "B          779      23.9"
      ]
     },
     "execution_count": 132,
     "metadata": {},
     "output_type": "execute_result"
    }
   ],
   "source": [
    "display(event_funnel)\n",
    "groups"
   ]
  },
  {
   "cell_type": "markdown",
   "id": "68302344",
   "metadata": {},
   "source": [
    "Абсолютно все пользователи обеих групп проходили этап авторизации и количество таких клиентов совпадает с общим числом участников теста в каждой из групп. Учитывая данный факт, производить сравнение пользователей на этапе \"login\" с общим количеством участников будет некорректно. \n",
    "\n",
    "Для дальнейшей проверки гипотез о равенстве долей между остальными группами пользователей воспользуемся z-тестом."
   ]
  },
  {
   "cell_type": "markdown",
   "id": "d5027b87",
   "metadata": {},
   "source": [
    "$$ Z \\approx \\frac{(P_1 - P_2)- (\\pi_1 - \\pi_2)}{\\sqrt{P (1 - P)(1/n_1 + 1/n_2)}} \\sim N(0,1) $$"
   ]
  },
  {
   "cell_type": "markdown",
   "id": "fd3e6a79",
   "metadata": {},
   "source": [
    "С целью корректного выбора уровня статистической значимости и уменьшения рисков ложноположительного результата при проведении множественной проверки гипотез необходимо воспользоваться поправкой Бонферрони. С этой целью, если мы хотим удержать вероятность ошибки первого рода на уровне 5 %, мы должны разделить этот показатель на количество парных сравнений (3)."
   ]
  },
  {
   "cell_type": "markdown",
   "id": "4372f05c",
   "metadata": {},
   "source": [
    "Создадим функцию для проверки гипотезы о равенстве долей групп в каждом событии."
   ]
  },
  {
   "cell_type": "code",
   "execution_count": 133,
   "id": "0ee6675b",
   "metadata": {},
   "outputs": [],
   "source": [
    "def z_test(event_1, event_2, total_1, total_2):\n",
    "    \n",
    "    alpha = 0.05/3  # критический уровень статистической значимости c поправкой Бонферони\n",
    "\n",
    "    buyers = np.array([event_1, event_2])\n",
    "    all_users = np.array([total_1, total_2])\n",
    "\n",
    "    p1 = buyers[0]/all_users[0]\n",
    "\n",
    "    p2 = buyers[1]/all_users[1]\n",
    "    \n",
    "    print(buyers[0],buyers[1] , all_users[0], all_users[1])\n",
    "\n",
    "    p_combined = (buyers[0] + buyers[1]) / (all_users[0] + all_users[1])\n",
    "\n",
    "    difference = p1 - p2 \n",
    "\n",
    "    z_value = difference / mth.sqrt(p_combined * (1 - p_combined) * (1/all_users[0] + 1/all_users[1]))\n",
    "\n",
    "    distr = st.norm(0, 1)  \n",
    "\n",
    "    p_value = (1 - distr.cdf(abs(z_value))) * 2\n",
    "\n",
    "    print('p-значение: ', p_value)\n",
    "\n",
    "    if p_value < alpha:\n",
    "        print('Отвергаем нулевую гипотезу: между долями есть значимая разница')\n",
    "    else:\n",
    "        print('Не получилось отвергнуть нулевую гипотезу: нет оснований считать доли разными')\n",
    "        \n",
    "    return"
   ]
  },
  {
   "cell_type": "markdown",
   "id": "8191d3a4",
   "metadata": {},
   "source": [
    "### Проведение теста"
   ]
  },
  {
   "cell_type": "markdown",
   "id": "9b9f160e",
   "metadata": {},
   "source": [
    "Сформируем нулевую и альтернативную гипотезы о равенстве долей пользователей определенного события групп \"A\" и \"B\".\n",
    "\n",
    "*H_0: Доля пользователей определенного события группы \"A\" = Доля пользователей определенного события группы \"B\"*\n",
    "\n",
    "*H_a: Доля пользователей определенного события группы \"A\" ≠ Доля пользователей определенного события группы \"B\"*\n",
    "\n",
    "Сравним доли клиентов, перешедших на страницу товара (product_page) с помощью подготовленной функции."
   ]
  },
  {
   "cell_type": "code",
   "execution_count": 134,
   "id": "d4c145c1",
   "metadata": {},
   "outputs": [
    {
     "name": "stdout",
     "output_type": "stream",
     "text": [
      "1606 437 2480 779\n",
      "p-значение:  1.3010760377296648e-05\n",
      "Отвергаем нулевую гипотезу: между долями есть значимая разница\n"
     ]
    }
   ],
   "source": [
    "z_test(event_funnel['A'].values [1], event_funnel['B'].values [1], \\\n",
    "       groups['user_id'].values [0], groups['user_id'].values [1])"
   ]
  },
  {
   "cell_type": "markdown",
   "id": "cfcbe78e",
   "metadata": {},
   "source": [
    "Сравним доли клиентов, перешедших в корзину (product_cart)."
   ]
  },
  {
   "cell_type": "code",
   "execution_count": 135,
   "id": "51b5914c",
   "metadata": {
    "scrolled": true
   },
   "outputs": [
    {
     "name": "stdout",
     "output_type": "stream",
     "text": [
      "753 221 2480 779\n",
      "p-значение:  0.2890792534645974\n",
      "Не получилось отвергнуть нулевую гипотезу: нет оснований считать доли разными\n"
     ]
    }
   ],
   "source": [
    "z_test(event_funnel['A'].values [2], event_funnel['B'].values [2], \\\n",
    "       groups['user_id'].values [0], groups['user_id'].values [1])"
   ]
  },
  {
   "cell_type": "markdown",
   "id": "b210f1bb",
   "metadata": {},
   "source": [
    "Сравним доли клиентов, оплативших товар (purchase)."
   ]
  },
  {
   "cell_type": "code",
   "execution_count": 136,
   "id": "83e440a4",
   "metadata": {
    "scrolled": true
   },
   "outputs": [
    {
     "name": "stdout",
     "output_type": "stream",
     "text": [
      "801 222 2480 779\n",
      "p-значение:  0.0461735302332722\n",
      "Не получилось отвергнуть нулевую гипотезу: нет оснований считать доли разными\n"
     ]
    }
   ],
   "source": [
    "z_test(event_funnel['A'].values [3], event_funnel['B'].values [3], \\\n",
    "       groups['user_id'].values [0], groups['user_id'].values [1])"
   ]
  },
  {
   "cell_type": "markdown",
   "id": "b8c9367c",
   "metadata": {},
   "source": [
    "Только в случае сравнения долей пользователей, перешедших на страницу товара, у нас есть основания полагать о наличии статистически значимой разницы между данными группами. Для остальных групп пользователей у нас таких оснований нет."
   ]
  },
  {
   "cell_type": "markdown",
   "id": "12f41375",
   "metadata": {},
   "source": [
    "## Выводы"
   ]
  },
  {
   "cell_type": "markdown",
   "id": "1c329827",
   "metadata": {},
   "source": [
    "По итогам проведенного исследования были сделаны следующие выводы:\n",
    "\n",
    "- Часть данных не соответствовала техническому заданию в связи с чем производилась их корректировка в соответствии с ТЗ;\n",
    "\n",
    "- Не смотря на малое количество значений прослеживается нормальное распределение количества событий, имеющее схожий вид для обеих групп теста;\n",
    "\n",
    "- Пик активности пользователей в обеих группах приходится на 15-й день – 21 декабря 2020 года, что совпадает с датой прекращения регистрации новых пользователей на платформе. По 29 декабря пользовательская активность планомерно снижается в обеих группах. Скорее всего маркетинговое мероприятие, пересекающееся с активностью пользователей с 25 декабря, в меньшей степени повлияет на результаты теста, так как попадет на снижающийся тренд пользовательской активности в этот период;\n",
    "\n",
    "- Конверсия тестовой группы \"В\" хуже конверсии контрольной группы \"А\" на всех этапах воронки. Только 32 % пользователей группы \"А\" проходят от авторизации до оплаты товара. Доля пользователей группы \"В\", совершивших аналогичный путь, составляет 28 %. Конверсия к событию \"product_cart\" оказалась ниже конверсии к событию \"purchase\", что может означать возможность покупки товаров минуя корзину;\n",
    "\n",
    "- Скорректированные в соответствии с техническим заданием данные обладают минимальными необходимыми условиями для успешного проведения теста, что может негативно повлиять на его точность. Также отмечается несбалансированность выборок;\n",
    "\n",
    "- В ходе проверки гипотез о равенстве долей между группами было выявлено, что только в случае сравнения долей пользователей, перешедших на страницу товара, у нас есть основания полагать о наличии статистически значимой разницы между данными группами. Для остальных групп пользователей у нас таких оснований нет;\n",
    "\n",
    "- Результаты проведенного тестирования можно считать не валидными, ввиду малого количества соответствующих ТЗ итоговых данных, несбалансированности выборок и отсутствия статистически значимых различий между данными выборками для большинства событий."
   ]
  }
 ],
 "metadata": {
  "ExecuteTimeLog": [
   {
    "duration": 1273,
    "start_time": "2023-05-18T13:43:25.605Z"
   },
   {
    "duration": 2412,
    "start_time": "2023-05-18T13:43:26.880Z"
   },
   {
    "duration": 253,
    "start_time": "2023-05-18T13:43:29.294Z"
   },
   {
    "duration": 77,
    "start_time": "2023-05-18T13:43:29.549Z"
   },
   {
    "duration": 192,
    "start_time": "2023-05-18T13:43:29.627Z"
   },
   {
    "duration": 46,
    "start_time": "2023-05-18T13:43:29.821Z"
   },
   {
    "duration": 54,
    "start_time": "2023-05-18T13:43:29.871Z"
   },
   {
    "duration": 73,
    "start_time": "2023-05-18T13:43:29.927Z"
   },
   {
    "duration": 7,
    "start_time": "2023-05-18T13:43:30.001Z"
   },
   {
    "duration": 56,
    "start_time": "2023-05-18T13:43:30.010Z"
   },
   {
    "duration": 24,
    "start_time": "2023-05-18T13:43:30.075Z"
   },
   {
    "duration": 67,
    "start_time": "2023-05-18T13:43:30.101Z"
   },
   {
    "duration": 28,
    "start_time": "2023-05-18T13:43:30.173Z"
   },
   {
    "duration": 43,
    "start_time": "2023-05-18T13:43:30.205Z"
   },
   {
    "duration": 73,
    "start_time": "2023-05-18T13:43:30.250Z"
   },
   {
    "duration": 6,
    "start_time": "2023-05-18T13:43:30.325Z"
   },
   {
    "duration": 57,
    "start_time": "2023-05-18T13:43:30.332Z"
   },
   {
    "duration": 19,
    "start_time": "2023-05-18T13:43:30.391Z"
   },
   {
    "duration": 36,
    "start_time": "2023-05-18T13:43:30.412Z"
   },
   {
    "duration": 1060,
    "start_time": "2023-05-18T13:43:30.450Z"
   },
   {
    "duration": 333,
    "start_time": "2023-05-18T13:43:31.512Z"
   },
   {
    "duration": 118,
    "start_time": "2023-05-18T13:43:31.847Z"
   },
   {
    "duration": 42,
    "start_time": "2023-05-18T13:43:31.970Z"
   },
   {
    "duration": 16,
    "start_time": "2023-05-18T13:43:32.015Z"
   },
   {
    "duration": 40,
    "start_time": "2023-05-18T13:43:32.033Z"
   },
   {
    "duration": 37,
    "start_time": "2023-05-18T13:43:32.077Z"
   },
   {
    "duration": 15,
    "start_time": "2023-05-18T13:43:32.117Z"
   },
   {
    "duration": 69,
    "start_time": "2023-05-18T13:43:32.134Z"
   },
   {
    "duration": 6,
    "start_time": "2023-05-18T13:54:42.211Z"
   },
   {
    "duration": 7,
    "start_time": "2023-05-18T13:54:48.978Z"
   },
   {
    "duration": 6,
    "start_time": "2023-05-18T13:54:49.345Z"
   },
   {
    "duration": 6,
    "start_time": "2023-05-18T13:54:50.691Z"
   },
   {
    "duration": 1687,
    "start_time": "2023-05-18T14:33:24.244Z"
   },
   {
    "duration": 1718,
    "start_time": "2023-05-18T14:33:25.952Z"
   },
   {
    "duration": 304,
    "start_time": "2023-05-18T14:33:27.673Z"
   },
   {
    "duration": 124,
    "start_time": "2023-05-18T14:33:27.979Z"
   },
   {
    "duration": 252,
    "start_time": "2023-05-18T14:33:28.106Z"
   },
   {
    "duration": 58,
    "start_time": "2023-05-18T14:33:28.361Z"
   },
   {
    "duration": 99,
    "start_time": "2023-05-18T14:33:28.428Z"
   },
   {
    "duration": 98,
    "start_time": "2023-05-18T14:33:28.544Z"
   },
   {
    "duration": 16,
    "start_time": "2023-05-18T14:33:28.648Z"
   },
   {
    "duration": 37,
    "start_time": "2023-05-18T14:33:28.666Z"
   },
   {
    "duration": 36,
    "start_time": "2023-05-18T14:33:28.705Z"
   },
   {
    "duration": 51,
    "start_time": "2023-05-18T14:33:28.743Z"
   },
   {
    "duration": 15,
    "start_time": "2023-05-18T14:33:28.796Z"
   },
   {
    "duration": 25,
    "start_time": "2023-05-18T14:33:28.814Z"
   },
   {
    "duration": 105,
    "start_time": "2023-05-18T14:33:28.842Z"
   },
   {
    "duration": 11,
    "start_time": "2023-05-18T14:33:28.949Z"
   },
   {
    "duration": 30,
    "start_time": "2023-05-18T14:33:28.963Z"
   },
   {
    "duration": 5,
    "start_time": "2023-05-18T14:33:28.995Z"
   },
   {
    "duration": 53,
    "start_time": "2023-05-18T14:33:29.002Z"
   },
   {
    "duration": 1526,
    "start_time": "2023-05-19T15:05:26.172Z"
   },
   {
    "duration": 868,
    "start_time": "2023-05-19T15:05:27.701Z"
   },
   {
    "duration": 47,
    "start_time": "2023-05-19T15:05:28.576Z"
   },
   {
    "duration": 422,
    "start_time": "2023-05-19T15:05:28.626Z"
   },
   {
    "duration": 116,
    "start_time": "2023-05-19T15:05:29.051Z"
   },
   {
    "duration": 285,
    "start_time": "2023-05-19T15:05:29.168Z"
   },
   {
    "duration": 64,
    "start_time": "2023-05-19T15:05:29.455Z"
   },
   {
    "duration": 82,
    "start_time": "2023-05-19T15:05:29.522Z"
   },
   {
    "duration": 73,
    "start_time": "2023-05-19T15:05:29.606Z"
   },
   {
    "duration": 21,
    "start_time": "2023-05-19T15:05:29.682Z"
   },
   {
    "duration": 54,
    "start_time": "2023-05-19T15:05:29.705Z"
   },
   {
    "duration": 158,
    "start_time": "2023-05-19T15:05:29.762Z"
   },
   {
    "duration": 24,
    "start_time": "2023-05-19T15:05:29.923Z"
   },
   {
    "duration": 50,
    "start_time": "2023-05-19T15:05:29.950Z"
   },
   {
    "duration": 86,
    "start_time": "2023-05-19T15:05:30.002Z"
   },
   {
    "duration": 166,
    "start_time": "2023-05-19T15:05:30.090Z"
   },
   {
    "duration": 57,
    "start_time": "2023-05-19T15:05:30.258Z"
   },
   {
    "duration": 143,
    "start_time": "2023-05-19T15:05:30.317Z"
   },
   {
    "duration": 60,
    "start_time": "2023-05-19T15:05:30.463Z"
   },
   {
    "duration": 56,
    "start_time": "2023-05-19T15:05:30.526Z"
   },
   {
    "duration": 1240,
    "start_time": "2023-05-19T15:05:30.585Z"
   },
   {
    "duration": 51,
    "start_time": "2023-05-19T15:05:31.829Z"
   },
   {
    "duration": 245,
    "start_time": "2023-05-19T15:05:31.889Z"
   },
   {
    "duration": 219,
    "start_time": "2023-05-19T15:05:32.137Z"
   },
   {
    "duration": 53,
    "start_time": "2023-05-19T15:05:32.358Z"
   },
   {
    "duration": 17,
    "start_time": "2023-05-19T15:05:32.413Z"
   },
   {
    "duration": 22,
    "start_time": "2023-05-19T15:05:32.432Z"
   },
   {
    "duration": 48,
    "start_time": "2023-05-19T15:05:32.458Z"
   },
   {
    "duration": 15,
    "start_time": "2023-05-19T15:05:32.508Z"
   },
   {
    "duration": 12,
    "start_time": "2023-05-19T15:05:32.525Z"
   },
   {
    "duration": 17,
    "start_time": "2023-05-19T15:06:16.495Z"
   },
   {
    "duration": 8,
    "start_time": "2023-05-19T15:06:17.606Z"
   },
   {
    "duration": 1523,
    "start_time": "2023-05-19T15:06:25.600Z"
   },
   {
    "duration": 904,
    "start_time": "2023-05-19T15:06:27.126Z"
   },
   {
    "duration": 31,
    "start_time": "2023-05-19T15:06:28.032Z"
   },
   {
    "duration": 65,
    "start_time": "2023-05-19T15:06:28.065Z"
   },
   {
    "duration": 10,
    "start_time": "2023-05-19T15:06:28.134Z"
   },
   {
    "duration": 419,
    "start_time": "2023-05-19T15:06:28.146Z"
   },
   {
    "duration": 88,
    "start_time": "2023-05-19T15:06:28.567Z"
   },
   {
    "duration": 329,
    "start_time": "2023-05-19T15:06:28.657Z"
   },
   {
    "duration": 37,
    "start_time": "2023-05-19T15:06:28.995Z"
   },
   {
    "duration": 72,
    "start_time": "2023-05-19T15:06:29.034Z"
   },
   {
    "duration": 87,
    "start_time": "2023-05-19T15:06:29.108Z"
   },
   {
    "duration": 8,
    "start_time": "2023-05-19T15:06:29.205Z"
   },
   {
    "duration": 22,
    "start_time": "2023-05-19T15:06:29.215Z"
   },
   {
    "duration": 164,
    "start_time": "2023-05-19T15:06:29.240Z"
   },
   {
    "duration": 26,
    "start_time": "2023-05-19T15:06:29.407Z"
   },
   {
    "duration": 18,
    "start_time": "2023-05-19T15:06:29.435Z"
   },
   {
    "duration": 33,
    "start_time": "2023-05-19T15:06:29.456Z"
   },
   {
    "duration": 98,
    "start_time": "2023-05-19T15:06:29.491Z"
   },
   {
    "duration": 15,
    "start_time": "2023-05-19T15:06:29.591Z"
   },
   {
    "duration": 32,
    "start_time": "2023-05-19T15:06:29.608Z"
   },
   {
    "duration": 6,
    "start_time": "2023-05-19T15:06:29.643Z"
   },
   {
    "duration": 38,
    "start_time": "2023-05-19T15:06:29.651Z"
   },
   {
    "duration": 1058,
    "start_time": "2023-05-19T15:06:29.691Z"
   },
   {
    "duration": 20,
    "start_time": "2023-05-19T15:06:30.772Z"
   },
   {
    "duration": 257,
    "start_time": "2023-05-19T15:06:30.795Z"
   },
   {
    "duration": 202,
    "start_time": "2023-05-19T15:06:31.055Z"
   },
   {
    "duration": 54,
    "start_time": "2023-05-19T15:06:31.260Z"
   },
   {
    "duration": 70,
    "start_time": "2023-05-19T15:06:31.317Z"
   },
   {
    "duration": 98,
    "start_time": "2023-05-19T15:06:31.393Z"
   },
   {
    "duration": 76,
    "start_time": "2023-05-19T15:06:31.493Z"
   },
   {
    "duration": 60,
    "start_time": "2023-05-19T15:06:31.577Z"
   },
   {
    "duration": 46,
    "start_time": "2023-05-19T15:06:31.639Z"
   },
   {
    "duration": 1436,
    "start_time": "2023-05-19T18:19:15.255Z"
   },
   {
    "duration": 1199,
    "start_time": "2023-05-19T18:19:16.694Z"
   },
   {
    "duration": 38,
    "start_time": "2023-05-19T18:19:17.895Z"
   },
   {
    "duration": 23,
    "start_time": "2023-05-19T18:19:17.935Z"
   },
   {
    "duration": 374,
    "start_time": "2023-05-19T18:19:17.971Z"
   },
   {
    "duration": 83,
    "start_time": "2023-05-19T18:19:18.347Z"
   },
   {
    "duration": 268,
    "start_time": "2023-05-19T18:19:18.432Z"
   },
   {
    "duration": 35,
    "start_time": "2023-05-19T18:19:18.701Z"
   },
   {
    "duration": 81,
    "start_time": "2023-05-19T18:19:18.738Z"
   },
   {
    "duration": 75,
    "start_time": "2023-05-19T18:19:18.821Z"
   },
   {
    "duration": 7,
    "start_time": "2023-05-19T18:19:18.898Z"
   },
   {
    "duration": 22,
    "start_time": "2023-05-19T18:19:18.908Z"
   },
   {
    "duration": 149,
    "start_time": "2023-05-19T18:19:18.932Z"
   },
   {
    "duration": 21,
    "start_time": "2023-05-19T18:19:19.087Z"
   },
   {
    "duration": 14,
    "start_time": "2023-05-19T18:19:19.110Z"
   },
   {
    "duration": 21,
    "start_time": "2023-05-19T18:19:19.126Z"
   },
   {
    "duration": 55,
    "start_time": "2023-05-19T18:19:19.172Z"
   },
   {
    "duration": 7,
    "start_time": "2023-05-19T18:19:19.229Z"
   },
   {
    "duration": 43,
    "start_time": "2023-05-19T18:19:19.238Z"
   },
   {
    "duration": 5,
    "start_time": "2023-05-19T18:19:19.283Z"
   },
   {
    "duration": 14,
    "start_time": "2023-05-19T18:19:19.290Z"
   },
   {
    "duration": 2249,
    "start_time": "2023-05-19T18:19:19.305Z"
   },
   {
    "duration": 12,
    "start_time": "2023-05-19T18:19:21.574Z"
   },
   {
    "duration": 227,
    "start_time": "2023-05-19T18:19:21.588Z"
   },
   {
    "duration": 205,
    "start_time": "2023-05-19T18:19:21.817Z"
   },
   {
    "duration": 38,
    "start_time": "2023-05-19T18:19:22.024Z"
   },
   {
    "duration": 19,
    "start_time": "2023-05-19T18:19:22.063Z"
   },
   {
    "duration": 17,
    "start_time": "2023-05-19T18:19:22.084Z"
   },
   {
    "duration": 14,
    "start_time": "2023-05-19T18:19:22.103Z"
   },
   {
    "duration": 13,
    "start_time": "2023-05-19T18:19:22.119Z"
   },
   {
    "duration": 11,
    "start_time": "2023-05-19T18:19:22.133Z"
   },
   {
    "duration": 23,
    "start_time": "2023-05-19T18:20:12.982Z"
   },
   {
    "duration": 16,
    "start_time": "2023-05-19T18:20:43.816Z"
   },
   {
    "duration": 1375,
    "start_time": "2023-05-19T18:20:54.789Z"
   },
   {
    "duration": 845,
    "start_time": "2023-05-19T18:20:56.167Z"
   },
   {
    "duration": 33,
    "start_time": "2023-05-19T18:20:57.015Z"
   },
   {
    "duration": 16,
    "start_time": "2023-05-19T18:20:57.050Z"
   },
   {
    "duration": 25,
    "start_time": "2023-05-19T18:20:57.070Z"
   },
   {
    "duration": 355,
    "start_time": "2023-05-19T18:20:57.097Z"
   },
   {
    "duration": 79,
    "start_time": "2023-05-19T18:20:57.454Z"
   },
   {
    "duration": 273,
    "start_time": "2023-05-19T18:20:57.536Z"
   },
   {
    "duration": 40,
    "start_time": "2023-05-19T18:20:57.811Z"
   },
   {
    "duration": 81,
    "start_time": "2023-05-19T18:20:57.853Z"
   },
   {
    "duration": 86,
    "start_time": "2023-05-19T18:20:57.936Z"
   },
   {
    "duration": 9,
    "start_time": "2023-05-19T18:20:58.024Z"
   },
   {
    "duration": 42,
    "start_time": "2023-05-19T18:20:58.035Z"
   },
   {
    "duration": 121,
    "start_time": "2023-05-19T18:20:58.081Z"
   },
   {
    "duration": 21,
    "start_time": "2023-05-19T18:20:58.205Z"
   },
   {
    "duration": 14,
    "start_time": "2023-05-19T18:20:58.228Z"
   },
   {
    "duration": 47,
    "start_time": "2023-05-19T18:20:58.244Z"
   },
   {
    "duration": 81,
    "start_time": "2023-05-19T18:20:58.294Z"
   },
   {
    "duration": 6,
    "start_time": "2023-05-19T18:20:58.377Z"
   },
   {
    "duration": 26,
    "start_time": "2023-05-19T18:20:58.385Z"
   },
   {
    "duration": 6,
    "start_time": "2023-05-19T18:20:58.413Z"
   },
   {
    "duration": 14,
    "start_time": "2023-05-19T18:20:58.421Z"
   },
   {
    "duration": 971,
    "start_time": "2023-05-19T18:20:58.437Z"
   },
   {
    "duration": 5,
    "start_time": "2023-05-19T18:20:59.410Z"
   },
   {
    "duration": 230,
    "start_time": "2023-05-19T18:20:59.417Z"
   },
   {
    "duration": 194,
    "start_time": "2023-05-19T18:20:59.649Z"
   },
   {
    "duration": 48,
    "start_time": "2023-05-19T18:20:59.845Z"
   },
   {
    "duration": 14,
    "start_time": "2023-05-19T18:20:59.895Z"
   },
   {
    "duration": 6,
    "start_time": "2023-05-19T18:20:59.911Z"
   },
   {
    "duration": 12,
    "start_time": "2023-05-19T18:20:59.919Z"
   },
   {
    "duration": 8,
    "start_time": "2023-05-19T18:20:59.933Z"
   },
   {
    "duration": 34,
    "start_time": "2023-05-19T18:20:59.943Z"
   }
  ],
  "kernelspec": {
   "display_name": "Python 3 (ipykernel)",
   "language": "python",
   "name": "python3"
  },
  "language_info": {
   "codemirror_mode": {
    "name": "ipython",
    "version": 3
   },
   "file_extension": ".py",
   "mimetype": "text/x-python",
   "name": "python",
   "nbconvert_exporter": "python",
   "pygments_lexer": "ipython3",
   "version": "3.9.13"
  },
  "toc": {
   "base_numbering": 1,
   "nav_menu": {},
   "number_sections": true,
   "sideBar": true,
   "skip_h1_title": true,
   "title_cell": "Table of Contents",
   "title_sidebar": "Оценка результатов A/B-теста",
   "toc_cell": true,
   "toc_position": {
    "height": "calc(100% - 180px)",
    "left": "10px",
    "top": "150px",
    "width": "384px"
   },
   "toc_section_display": true,
   "toc_window_display": true
  }
 },
 "nbformat": 4,
 "nbformat_minor": 5
}
